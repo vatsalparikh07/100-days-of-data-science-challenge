{
  "cells": [
    {
      "cell_type": "markdown",
      "metadata": {
        "id": "wgKjz4G3vdCZ"
      },
      "source": [
        "### Create your own dataset for text classification. It should contain at least 1000 words in total and at least two categories with at least 100 examples per category. You can create it by scraping the web or using some of the documents you have on your computer (do not use anything confidential) or ChatGPT."
      ]
    },
    {
      "cell_type": "markdown",
      "metadata": {
        "id": "mZUep8zaGLJ1"
      },
      "source": [
        " **Importing required libraries**"
      ]
    },
    {
      "cell_type": "code",
      "execution_count": null,
      "metadata": {
        "id": "3Oln_S0wFeJr"
      },
      "outputs": [],
      "source": [
        "import numpy as np\n",
        "import pandas as pd\n",
        "import matplotlib.pyplot as plt\n",
        "from tqdm.auto import tqdm\n",
        "import tensorflow as tf\n",
        "from transformers import BertTokenizer\n",
        "from sklearn.model_selection import train_test_split\n",
        "import os\n",
        "import urllib.request\n",
        "from bs4 import BeautifulSoup\n",
        "import time\n"
      ]
    },
    {
      "cell_type": "markdown",
      "metadata": {
        "id": "mn_oNVfO__2n"
      },
      "source": [
        "**Web Scraping articles that are related to food**"
      ]
    },
    {
      "cell_type": "code",
      "execution_count": null,
      "metadata": {
        "colab": {
          "base_uri": "https://localhost:8080/"
        },
        "id": "C3T7ZXLanOvd",
        "outputId": "020eb01d-03cd-49b6-ba43-72bd17147f7a"
      },
      "outputs": [
        {
          "name": "stdout",
          "output_type": "stream",
          "text": [
            "Text from https://www.epicurious.com/recipes-menus/most-saved-recipes saved to food_text_files/food_1.txt.\n",
            "Text from https://www.epicurious.com/holidays-events/punch-history saved to food_text_files/food_2.txt.\n",
            "Text from https://www.epicurious.com/recipes-menus/make-mix-and-match-tutti-frutti-thumbprint-cookies saved to food_text_files/food_3.txt.\n",
            "Text from https://pinchofyum.com/salmon-tacos saved to food_text_files/food_4.txt.\n",
            "Text from https://pinchofyum.com/mushroom-bowls-with-kale-pesto saved to food_text_files/food_5.txt.\n",
            "Text from https://iamafoodblog.com/garlic-lobster-pasta/ saved to food_text_files/food_6.txt.\n",
            "Text from https://iamafoodblog.com/best-mashed-potatoes/ saved to food_text_files/food_7.txt.\n",
            "Text from https://smittenkitchen.com/2023/11/olive-oil-brownies/ saved to food_text_files/food_8.txt.\n",
            "Text from https://smittenkitchen.com/2023/09/chicken-rice-with-buttered-onions/ saved to food_text_files/food_9.txt.\n",
            "Text from https://www.thekitchn.com/milk-tea-recipe-23612343 saved to food_text_files/food_10.txt.\n",
            "Text from https://www.thekitchn.com/christmas-cowboy-cookies-recipe-23612921 saved to food_text_files/food_11.txt.\n",
            "Text from https://food52.com/recipes/89782-cranberry-pear-cobbler-with-gingerbread-spiced-biscuits saved to food_text_files/food_12.txt.\n",
            "Text from https://food52.com/recipes/86641-best-baked-latkes-recipe saved to food_text_files/food_13.txt.\n",
            "Text from https://www.seriouseats.com/tom-yam-noodle-soup-with-minced-pork-recipe-8410816 saved to food_text_files/food_14.txt.\n",
            "Text from https://www.seriouseats.com/thai-pork-stock-recipe-8410330 saved to food_text_files/food_15.txt.\n",
            "Text from https://therecipecritic.com/baklava/ saved to food_text_files/food_16.txt.\n",
            "Text from https://therecipecritic.com/the-best-homemade-alfredo-sauce-ever/ saved to food_text_files/food_17.txt.\n",
            "Text from https://www.thepioneerwoman.com/food-cooking/recipes/a45666814/sugar-cookie-martini-recipe/ saved to food_text_files/food_18.txt.\n",
            "Text from https://www.thepioneerwoman.com/food-cooking/recipes/a41462624/christmas-deviled-eggs-recipe/ saved to food_text_files/food_19.txt.\n",
            "Text from https://www.simplyrecipes.com/1-ingredient-upgrade-for-better-banana-bread-8410810 saved to food_text_files/food_20.txt.\n",
            "Text from https://www.simplyrecipes.com/smitten-kitchen-mac-and-cheese-review-8410868 saved to food_text_files/food_21.txt.\n",
            "Text from https://onmykidsplate.com/creamy-sausage-tortellini-soup/ saved to food_text_files/food_22.txt.\n",
            "Text from https://onmykidsplate.com/cheesy-ground-beef-quesadillas/ saved to food_text_files/food_23.txt.\n",
            "Text from https://www.gimmesomeoven.com/nutella-hot-chocolate/ saved to food_text_files/food_24.txt.\n",
            "Text from https://www.gimmesomeoven.com/grandmas-beef-and-noodles/ saved to food_text_files/food_25.txt.\n",
            "Text from https://www.skinnytaste.com/slow-cooked-black-eyed-peas-with-ham/ saved to food_text_files/food_26.txt.\n",
            "Text from https://www.skinnytaste.com/coconut-macaroons/ saved to food_text_files/food_27.txt.\n",
            "Text from https://www.giangiskitchen.com/cream-carrot-soup/ saved to food_text_files/food_28.txt.\n",
            "Text from https://www.giangiskitchen.com/coquilles-saint-jacques/ saved to food_text_files/food_29.txt.\n",
            "Text from https://cookieandkate.com/pistachio-butter-recipe/ saved to food_text_files/food_30.txt.\n",
            "Text from https://cookieandkate.com/lemon-kale-salad-recipe/ saved to food_text_files/food_31.txt.\n",
            "Text from https://www.twopeasandtheirpod.com/roasted-delicata-squash/ saved to food_text_files/food_32.txt.\n",
            "Text from https://www.twopeasandtheirpod.com/cauliflower-enchiladas/ saved to food_text_files/food_33.txt.\n",
            "Text from https://www.seasonalcravings.com/33-chili-recipes/ saved to food_text_files/food_34.txt.\n",
            "Text from https://www.seasonalcravings.com/recipes-using-canned-biscuits/ saved to food_text_files/food_35.txt.\n",
            "Text from https://www.budgetbytes.com/vegan-creamy-mushroom-ramen/ saved to food_text_files/food_36.txt.\n",
            "Text from https://www.budgetbytes.com/african-peanut-stew-vegan/ saved to food_text_files/food_37.txt.\n",
            "Text from https://minimalistbaker.com/curried-potato-lentil-soup-1-pot/ saved to food_text_files/food_38.txt.\n",
            "Text from https://minimalistbaker.com/creamy-samoan-inspired-mushroom-chicken/ saved to food_text_files/food_39.txt.\n",
            "Text from https://www.howsweeteats.com/2023/12/bacon-wrapped-pork-tenderloin/ saved to food_text_files/food_40.txt.\n",
            "Text from https://www.howsweeteats.com/2023/12/rosemary-melting-potatoes/ saved to food_text_files/food_41.txt.\n",
            "Text from https://sallysbakingaddiction.com/cherry-almond-linzer-cookies/ saved to food_text_files/food_42.txt.\n",
            "Text from https://sallysbakingaddiction.com/cranberry-frangipane-tart/ saved to food_text_files/food_43.txt.\n",
            "Text from https://sallysbakingaddiction.com/pumpkin-cheesecake-pie/ saved to food_text_files/food_44.txt.\n",
            "Text from https://tastesbetterfromscratch.com/shrimp-cocktail-sauce/ saved to food_text_files/food_45.txt.\n",
            "Text from https://tastesbetterfromscratch.com/whipped-goat-cheese/ saved to food_text_files/food_46.txt.\n",
            "Text from https://www.acouplecooks.com/gingerbread-cake/ saved to food_text_files/food_47.txt.\n",
            "Text from https://www.acouplecooks.com/christmas-side-dishes/ saved to food_text_files/food_48.txt.\n",
            "Text from https://www.cookingclassy.com/crockpot-turkey-breast/ saved to food_text_files/food_49.txt.\n",
            "Text from https://www.cookingclassy.com/winter-fruit-salad-lemon-poppy-seed-dressing/ saved to food_text_files/food_50.txt.\n",
            "Text from https://thestayathomechef.com/creamy-alfredo-pizza/ saved to food_text_files/food_51.txt.\n",
            "Text from https://thestayathomechef.com/moroccan-chicken-gyros/ saved to food_text_files/food_52.txt.\n",
            "Text from https://thestayathomechef.com/pina-colada/ saved to food_text_files/food_53.txt.\n",
            "Text from https://www.101cookbooks.com/hermit-cookies/ saved to food_text_files/food_54.txt.\n",
            "Text from https://www.101cookbooks.com/wild-rice-soup/ saved to food_text_files/food_55.txt.\n",
            "Text from https://bakingbites.com/2023/03/buttermilk-coconut-waffles/ saved to food_text_files/food_56.txt.\n",
            "Text from https://bakingbites.com/2023/03/vanilla-pistachio-and-strawberry-mini-loaf-cakes/ saved to food_text_files/food_57.txt.\n",
            "Text from https://www.browneyedbaker.com/french-silk-pie-recipe/ saved to food_text_files/food_58.txt.\n",
            "Text from https://www.browneyedbaker.com/bread-and-butter-pickles/ saved to food_text_files/food_59.txt.\n",
            "Text from https://www.sprinklebakes.com/2023/12/red-velvet-trifles.html saved to food_text_files/food_60.txt.\n",
            "Text from https://www.sprinklebakes.com/2023/10/death-by-chocolate-cake.html saved to food_text_files/food_61.txt.\n",
            "Text from https://www.saltysidedish.com/pineapple-casserole/ saved to food_text_files/food_62.txt.\n",
            "Text from https://www.saltysidedish.com/ham-pasta-salad/ saved to food_text_files/food_63.txt.\n",
            "Text from https://www.mybakingaddiction.com/peppermint-marshmallows/ saved to food_text_files/food_64.txt.\n",
            "Text from https://www.mybakingaddiction.com/cranberry-orange-muffins/ saved to food_text_files/food_65.txt.\n",
            "Text from https://www.loveandoliveoil.com/2023/09/mango-raspberry-jam.html saved to food_text_files/food_66.txt.\n",
            "Text from https://www.loveandoliveoil.com/2023/07/homemade-fresh-fruit-freeze-pops.html saved to food_text_files/food_67.txt.\n",
            "Text from https://downshiftology.com/recipes/best-baked-salmon/ saved to food_text_files/food_68.txt.\n",
            "Text from https://downshiftology.com/recipes/horseradish-sauce/ saved to food_text_files/food_69.txt.\n",
            "Text from https://www.yeprecipes.com/img-fresh-tomato-pasta-sauce-with-ground-beef-231.htm saved to food_text_files/food_70.txt.\n",
            "Text from https://sugarfreelondoner.com/low-carb-cranberry-sauce-recipe-sugar-free/ saved to food_text_files/food_71.txt.\n",
            "Text from https://sugarfreelondoner.com/keto-marzipan-sugar-free/ saved to food_text_files/food_72.txt.\n",
            "Text from https://www.davidlebovitz.com/whole-grain-sunflower-seed-rye-bread-recipe/ saved to food_text_files/food_73.txt.\n",
            "Text from https://www.davidlebovitz.com/tuna-melt-modern-comfort-food-ina-garten-recipe-cheese-swiss-sandwich/ saved to food_text_files/food_74.txt.\n",
            "Text from https://www.davidlebovitz.com/egg-salad-sandwich-recipe/ saved to food_text_files/food_75.txt.\n",
            "Text from https://mypureplants.com/vegan-orange-chicken/ saved to food_text_files/food_76.txt.\n",
            "Text from https://mypureplants.com/vegan-burger-tvp/ saved to food_text_files/food_77.txt.\n",
            "Text from https://mypureplants.com/ikea-veggie-balls/ saved to food_text_files/food_78.txt.\n",
            "Text from https://www.slenderkitchen.com/recipe/cabbage-fried-rice saved to food_text_files/food_79.txt.\n",
            "Text from https://www.slenderkitchen.com/recipe/skinny-queso saved to food_text_files/food_80.txt.\n",
            "Text from https://alexandracooks.com/2023/10/21/lofty-popovers-yorkshire-pudding/ saved to food_text_files/food_81.txt.\n",
            "Text from https://alexandracooks.com/2023/11/11/roasted-green-beans-with-caramelized-shallots/ saved to food_text_files/food_82.txt.\n",
            "Text from https://ohmyveggies.com/pumpkin-cream-cheese-dip-with-cinnamon-sugar-chips/ saved to food_text_files/food_83.txt.\n",
            "Text from https://ohmyveggies.com/puff-pastry-apple-tart/ saved to food_text_files/food_84.txt.\n",
            "Text from https://ohsheglows.com/golden-red-lentil-dal-with-cilantro-speckled-basmati/ saved to food_text_files/food_85.txt.\n",
            "Text from https://ohsheglows.com/my-favourite-homemade-almond-milk-step-by-step-photos/ saved to food_text_files/food_86.txt.\n",
            "Text from https://www.spoonforkbacon.com/sesame-ginger-chicken-salad/ saved to food_text_files/food_87.txt.\n",
            "Text from https://www.spoonforkbacon.com/crispy-parmesan-potatoes/ saved to food_text_files/food_88.txt.\n",
            "Text from https://sweetandsavorymeals.com/stuffed-butternut-squash-recipe/ saved to food_text_files/food_89.txt.\n",
            "Text from https://sweetandsavorymeals.com/best-corn-pudding-casserole-recipe/ saved to food_text_files/food_90.txt.\n",
            "Text from https://www.thepetitecook.com/sweet-potato-pasta/ saved to food_text_files/food_91.txt.\n",
            "Text from https://www.thepetitecook.com/whipped-ricotta/ saved to food_text_files/food_92.txt.\n",
            "Text from https://myquietkitchen.com/vegan-potato-skins/ saved to food_text_files/food_93.txt.\n",
            "Text from https://myquietkitchen.com/butternut-squash-noodles-sausage-sage/ saved to food_text_files/food_94.txt.\n",
            "Text from https://myquietkitchen.com/seared-bok-choy-broth-with-noodles/ saved to food_text_files/food_95.txt.\n",
            "Text from https://dinnerthendessert.com/category/dinner/ saved to food_text_files/food_96.txt.\n",
            "Text from https://dinnerthendessert.com/category/worldly/chinese-food/ saved to food_text_files/food_97.txt.\n",
            "Text from https://www.chefspencil.com/star-anise-butternut-squash-soup/ saved to food_text_files/food_98.txt.\n",
            "Text from https://www.chefspencil.com/roasted-duck-legs-with-carrot-puree-homemade-onion-jam/ saved to food_text_files/food_99.txt.\n",
            "Text from https://www.chefspencil.com/traditional-kourabiedes/ saved to food_text_files/food_100.txt.\n"
          ]
        }
      ],
      "source": [
        "# Load CSV file containing URLs\n",
        "csv_file_path = \"food.csv\"\n",
        "df = pd.read_csv(csv_file_path)\n",
        "\n",
        "# Create a folder to store the text files\n",
        "output_folder = \"food_text_files\"\n",
        "os.makedirs(output_folder, exist_ok=True)\n",
        "\n",
        "# Iterate through each URL in the CSV file\n",
        "for index, row in df.iterrows():\n",
        "    url = row['url']\n",
        "\n",
        "    # Set user-agent\n",
        "    headers = {'User-Agent': 'Mozilla/5.0 (Windows NT 10.0; Win64; x64) AppleWebKit/537.36 (KHTML, like Gecko) Chrome/91.0.4472.124 Safari/537.36'}\n",
        "    try:\n",
        "        # Retrieve the HTML content from the URL\n",
        "        request = urllib.request.Request(url, headers=headers)\n",
        "        html = urllib.request.urlopen(request).read()\n",
        "\n",
        "        # Create a BeautifulSoup object to parse the HTML\n",
        "        soup = BeautifulSoup(html, 'html.parser')\n",
        "\n",
        "        # Extract text from paragraphs and write to a text file\n",
        "        output_file_path = os.path.join(output_folder, f\"food_{index + 1}.txt\")  # Output file path based on index\n",
        "        with open(output_file_path, \"w\") as file:\n",
        "            for data in soup.find_all(\"p\"):\n",
        "                text = data.get_text()\n",
        "                file.write(text + \"\\n\")\n",
        "\n",
        "        # Print a message indicating successful execution\n",
        "        print(f\"Text from {url} saved to {output_file_path}.\")\n",
        "\n",
        "    except Exception as e:\n",
        "        print(f\"Failed to retrieve {url}. Error: {e}\")\n"
      ]
    },
    {
      "cell_type": "markdown",
      "metadata": {
        "id": "rpv4clnqaLFY"
      },
      "source": [
        "- In this we perform web scraping on URLs listed in a CSV file containing a 'url' column which consists of url's related to food.\n",
        "- It extracts text content from HTML paragraphs using BeautifulSoup and saves the text into separate files. The output folder \"food_text_files\" is created to store the resulting text files.\n",
        "- Error handling is implemented to manage issues during the scraping process, providing messages for success or failure."
      ]
    },
    {
      "cell_type": "markdown",
      "metadata": {
        "id": "G2ODijP-AHM6"
      },
      "source": [
        "**Web Scraping articles that are related to sports**"
      ]
    },
    {
      "cell_type": "code",
      "execution_count": null,
      "metadata": {
        "colab": {
          "base_uri": "https://localhost:8080/"
        },
        "id": "pJqhgrespe17",
        "outputId": "3f736e79-2b25-4767-92be-a10dad87471f"
      },
      "outputs": [
        {
          "name": "stdout",
          "output_type": "stream",
          "text": [
            "Text from https://www.cricbuzz.com/cricket-news/128558/stats-travis-head-joins-elite-list-after-world-cup-final-heroics saved to sports_text_files/sports_1.txt.\n",
            "Text from https://theathletic.com/5111175/2023/12/06/pwhl-womens-hockey-league-history/?source=nyt_sports saved to sports_text_files/sports_2.txt.\n",
            "Text from https://apnews.com/article/pacers-lakers-haliburton-lebron-nba-tournament-c71a82580486d59cd3ae050403767188 saved to sports_text_files/sports_3.txt.\n",
            "Text from https://www.cnn.com/2023/12/08/sport/new-england-patriots-pittsburgh-steelers-tnf-nfl-spt-intl/index.html saved to sports_text_files/sports_4.txt.\n",
            "Text from https://abcnews.go.com/Sports/us-mexico-submit-joint-bid-host-2027-womens/story?id=105502115 saved to sports_text_files/sports_5.txt.\n",
            "Text from https://www.espncricinfo.com/story/ian-chappell-captains-should-be-suspended-if-their-teams-can-t-bowl-90-overs-a-day-1325032 saved to sports_text_files/sports_6.txt.\n",
            "Text from https://www.timeforkids.com/g56/big-win-gauff/ saved to sports_text_files/sports_7.txt.\n",
            "Text from https://www.usatoday.com/story/sports/soccer/2019/11/07/mls-cup-ranking-every-championship-game/2525802001/ saved to sports_text_files/sports_8.txt.\n",
            "Text from https://theconversation.com/the-best-techniques-for-being-a-cricket-fast-bowler-according-to-science-216589 saved to sports_text_files/sports_9.txt.\n",
            "Text from https://time.com/6342417/athlete-of-the-year-2023-lionel-messi/ saved to sports_text_files/sports_10.txt.\n",
            "Text from https://www.cricbuzz.com/cricket-news/128716/mushfiqur-rahims-obstructing-the-field-overshadows-the-day saved to sports_text_files/sports_11.txt.\n",
            "Text from https://www.foxnews.com/sports/cuban-taekwondo-star-earns-ufc-contract-4-second-knockout saved to sports_text_files/sports_12.txt.\n",
            "Text from https://www.skysports.com/football/live-blog/31771/12476234/transfer-centre-live-brentford-manager-thomas-frank-says-he-thinks-ivan-toney-will-stay-in-january saved to sports_text_files/sports_13.txt.\n",
            "Text from https://www.wionews.com/sports/football-brazil-star-neymar-undergoes-surgery-for-torn-knee-ligament-654617 saved to sports_text_files/sports_14.txt.\n",
            "Text from https://www.foxnews.com/sports/rob-gronkowski-makes-stance-clear-men-womens-sports-theres-really-no-argument saved to sports_text_files/sports_15.txt.\n",
            "Text from https://www.cbssports.com/college-football/news/23-compelling-storylines-teams-coaches-players-that-will-dominate-the-2023-college-football-season/ saved to sports_text_files/sports_16.txt.\n",
            "Text from https://www.cricbuzz.com/cricket-news/128737/west-indies-eye-history-in-barbados saved to sports_text_files/sports_17.txt.\n",
            "Text from https://www.nytimes.com/2023/12/08/sports/rugby/world-cup-south-africa.html saved to sports_text_files/sports_18.txt.\n",
            "Text from https://www.sportsbusinessjournal.com/Articles/2023/12/08/army-navy-game-gillette-stadium-robert-kraft.aspx saved to sports_text_files/sports_19.txt.\n",
            "Text from https://theathletic.com/5122454/2023/12/08/copa-america-fixtures-bracket-schedule/ saved to sports_text_files/sports_20.txt.\n",
            "Text from https://apnews.com/article/f1-sprint-races-2024-ef9697208afc3bdb1226c34a439f4433 saved to sports_text_files/sports_21.txt.\n",
            "Text from https://www.cnn.com/2023/12/07/sport/jon-rahm-leave-pga-tour-liv-golf/index.html saved to sports_text_files/sports_22.txt.\n",
            "Text from https://www.nbcsports.com/nascar/news/friday-5-five-laps-that-made-an-impact-on-the-2023-nascar-cup-season saved to sports_text_files/sports_23.txt.\n",
            "Text from https://abcnews.go.com/Sports/sources-lhp-eduardo-rodriguez-diamondbacks-reach-4-year/story?id=105446336 saved to sports_text_files/sports_24.txt.\n",
            "Text from https://www.espncricinfo.com/story/rinku-and-jitesh-in-a-race-to-be-indias-t20-world-cup-finisher-1411914 saved to sports_text_files/sports_25.txt.\n",
            "Text from https://www.foxnews.com/sports/steelers-george-pickens-faces-criticism-after-frustrations-boil-over-during-upset-loss-to-patriots saved to sports_text_files/sports_26.txt.\n",
            "Text from https://bleacherreport.com/articles/10100356-seth-rollins-shoots-on-cm-punk-strowman-eyes-royal-rumble-wwe-rumors-on-sami-zayn saved to sports_text_files/sports_27.txt.\n",
            "Text from https://www.nytimes.com/2023/12/08/sports/tennis/2023-tennis-season-djokovic.html saved to sports_text_files/sports_28.txt.\n",
            "Text from https://www.sportsbusinessjournal.com/Articles/2023/12/08/lake-placid-2026-winter-olympic-sliding-events.aspx saved to sports_text_files/sports_29.txt.\n",
            "Text from https://theathletic.com/5007470/2023/10/28/fury-ngannou-fight-report/ saved to sports_text_files/sports_30.txt.\n",
            "Text from https://apnews.com/article/figure-skating-grand-prix-final-kaori-sakamoto-ca4d7b4e914058627a396c94956fd1c4 saved to sports_text_files/sports_31.txt.\n",
            "Text from https://www.cnn.com/2023/12/07/sport/caitlin-clark-3000-points-iowa-hawkeyes-spt-intl/index.html saved to sports_text_files/sports_32.txt.\n",
            "Text from https://www.nbcsports.com/soccer/news/premier-league-power-rankings-weeks-14-15 saved to sports_text_files/sports_33.txt.\n",
            "Text from https://abcnews.go.com/Sports/robbie-gould-10th-time-scoring-retires-nfl/story?id=105460302 saved to sports_text_files/sports_34.txt.\n",
            "Text from https://www.nytimes.com/2023/12/06/sports/horse-racing/belmont-stakes-2024-saratoga.html saved to sports_text_files/sports_35.txt.\n",
            "Text from https://theathletic.com/5112667/2023/12/08/innings-eaters-free-agency/ saved to sports_text_files/sports_36.txt.\n",
            "Text from https://apnews.com/article/arteta-arsenal-celebrations-7c0d0bda343d031e02ce5ebcdb7c6349 saved to sports_text_files/sports_37.txt.\n",
            "Text from https://www.cnn.com/2023/12/07/sport/luka-doncic-nba-history-mavericks-win-jazz-spt-intl/index.html saved to sports_text_files/sports_38.txt.\n",
            "Text from https://www.nbcsports.com/college-basketball/news/uscs-bronny-james-returns-to-full-contact-practice-for-first-time-since-cardiac-arrest saved to sports_text_files/sports_39.txt.\n",
            "Text from https://abcnews.go.com/Sports/dolphins-extend-rt-austin-jackson-2026-season/story?id=105461428 saved to sports_text_files/sports_40.txt.\n",
            "Text from https://www.espncricinfo.com/story/bbl-2023-24-glenn-maxwell-injury-adds-to-melbourne-stars-woes-1411908 saved to sports_text_files/sports_41.txt.\n",
            "Text from https://www.foxnews.com/sports/rising-wwe-nxt-star-kelani-jordan-talks-crazy-journey-gymnastics-stardom-squared-circle saved to sports_text_files/sports_42.txt.\n",
            "Text from https://www.nytimes.com/2023/11/23/world/asia/han-kwang-song-north-korea-world-cup.html saved to sports_text_files/sports_43.txt.\n",
            "Text from https://theathletic.com/5111134/2023/12/08/monday-night-football-flex-eagles-seahawks/ saved to sports_text_files/sports_44.txt.\n",
            "Text from https://apnews.com/article/nick-senzel-nationals-contract-f0c587bc4502976c627f0f0d2e18d387 saved to sports_text_files/sports_45.txt.\n",
            "Text from https://www.cnn.com/2023/12/01/sport/rafael-nadal-tennis-return-brisbane-january-spt-intl/index.html saved to sports_text_files/sports_46.txt.\n",
            "Text from https://www.nbcsports.com/nba/news/tyrese-haliburton-wants-to-use-pacers-play-tournament-run-to-recruit-other-stars saved to sports_text_files/sports_47.txt.\n",
            "Text from https://abcnews.go.com/Sports/yankees-acquire-juan-soto-7-player-trade-padres/story?id=105447976 saved to sports_text_files/sports_48.txt.\n",
            "Text from https://www.espncricinfo.com/story/glenn-phillips-sometimes-being-a-little-bit-more-aggressive-is-the-best-remedy-1411957 saved to sports_text_files/sports_49.txt.\n",
            "Text from https://www.nytimes.com/2023/11/15/business/manchester-city-player-wages.html saved to sports_text_files/sports_50.txt.\n",
            "Text from https://theathletic.com/5103990/2023/12/08/nhl-olympics-kane-ducks-blue-jackets/ saved to sports_text_files/sports_51.txt.\n",
            "Text from https://apnews.com/article/mls-cup-lafc-columbus-crew-97ab5b7783d690db47037c122262c822 saved to sports_text_files/sports_52.txt.\n",
            "Text from https://www.cnn.com/2023/12/07/sport/juan-soto-trade-new-york-yankees-padres-spt-intl/index.html saved to sports_text_files/sports_53.txt.\n",
            "Text from https://www.nbcsports.com/college-football/news/notre-dame-right-tackle-blake-fisher-declares-for-the-nfl-draft-opts-out-of-the-sun-bowl-vs-oregon-state saved to sports_text_files/sports_54.txt.\n",
            "Text from https://www.cricbuzz.com/cricket-news/128518/kohli-races-past-two-major-tendulkar-records saved to sports_text_files/sports_55.txt.\n",
            "Text from https://www.nytimes.com/2023/10/28/sports/tennis/coco-gauff-wta-usopen.html saved to sports_text_files/sports_56.txt.\n",
            "Text from https://theathletic.com/5121971/2023/12/08/patriots-steelers-the-pulse/ saved to sports_text_files/sports_57.txt.\n",
            "Text from https://apnews.com/new-york-islanders-los-angeles-kings-montreal-canadiens-e121ad1b539e4c75a68d4bb0157aa0f7 saved to sports_text_files/sports_58.txt.\n",
            "Text from https://www.cnn.com/2023/11/26/sport/novak-djokovic-davis-cup-loss-spt-intl/index.html saved to sports_text_files/sports_59.txt.\n",
            "Text from https://www.nbcsports.com/olympics/news/england-scotland-uefa-nations-league-soccer-great-britain-olympics saved to sports_text_files/sports_60.txt.\n",
            "Text from https://abcnews.go.com/Sports/sources-james-madison-expected-hire-holy-cross-bob/story?id=105462497 saved to sports_text_files/sports_61.txt.\n",
            "Text from https://www.espncricinfo.com/story/icc-scraps-soft-signal-rule-for-contentious-catches-1375894 saved to sports_text_files/sports_62.txt.\n",
            "Text from https://www.nytimes.com/2023/10/27/world/europe/barcelona-real-madrid-clasico.html saved to sports_text_files/sports_63.txt.\n",
            "Text from https://theathletic.com/5105152/2023/12/05/mercedes-lewis-hamilton-2023-review/ saved to sports_text_files/sports_64.txt.\n",
            "Text from https://apnews.com/article/baltimore-ravens-josh-bynes-48b4465f5229a9cd78775195d168fd4e saved to sports_text_files/sports_65.txt.\n",
            "Text from https://www.cnn.com/2023/11/28/sport/tiger-woods-golf-return-hero-world-challenge-spt-intl/index.html saved to sports_text_files/sports_66.txt.\n",
            "Text from https://abcnews.go.com/Sports/giants-dc-wink-martindale-stay-despite-reported-tension/story?id=105505945 saved to sports_text_files/sports_67.txt.\n",
            "Text from https://www.espncricinfo.com/story/ind-vs-eng-women-s-cricket-opportunities-galore-as-harmanpreet-kaur-looks-to-build-team-for-t20-world-cup-1411945 saved to sports_text_files/sports_68.txt.\n",
            "Text from https://www.nytimes.com/2023/10/14/world/europe/liverpool-ian-graham-data.html saved to sports_text_files/sports_69.txt.\n",
            "Text from https://theathletic.com/5105091/2023/12/01/logan-sargeant-williams-f1/ saved to sports_text_files/sports_70.txt.\n",
            "Text from https://apnews.com/article/sinner-italy-australia-davis-cup-finals-e52ade2851fc4b427f3c656a563afa24 saved to sports_text_files/sports_71.txt.\n",
            "Text from https://www.cnn.com/2023/12/07/sport/harvey-lewis-bigs-backyard-ultramarathon-spt-intl/index.html saved to sports_text_files/sports_72.txt.\n",
            "Text from https://www.nbcsports.com/mlb/news/red-sox-acquire-gold-glove-winning-of-tyler-oneill-from-cardinals-for-two-pitchers saved to sports_text_files/sports_73.txt.\n",
            "Text from https://abcnews.go.com/Sports/yankees-acquire-juan-soto-7-player-trade-padres/story?id=105447976 saved to sports_text_files/sports_74.txt.\n",
            "Text from https://www.cricbuzz.com/cricket-news/128413/stats-glenn-maxwell-smashes-records-to-script-an-epic-heist-australia-vs-afghanistan saved to sports_text_files/sports_75.txt.\n",
            "Text from https://www.nytimes.com/2023/09/28/sports/golf/ryder-cup-home-course-advantage.html saved to sports_text_files/sports_76.txt.\n",
            "Text from https://theathletic.com/5121953/2023/12/08/patrick-kane-red-wings-first-game/ saved to sports_text_files/sports_77.txt.\n",
            "Text from https://apnews.com/article/luis-suarez-golden-ball-gremio-79735944567ac1fa4743fa5d9a30d328 saved to sports_text_files/sports_78.txt.\n",
            "Text from https://www.cnn.com/2023/12/07/sport/college-basketball-rasheed-bello-blocks-shot-with-shoe-spt-intl/index.html saved to sports_text_files/sports_79.txt.\n",
            "Text from https://www.nbcsports.com/olympics/news/simone-manuel-swimming-olympics saved to sports_text_files/sports_80.txt.\n",
            "Text from https://www.espncricinfo.com/series/australia-in-india-2023-24-1389381/india-vs-australia-5th-t20i-1389395/match-report saved to sports_text_files/sports_81.txt.\n",
            "Text from https://www.nytimes.com/2023/09/17/sports/football/jets-cowboys-score.html saved to sports_text_files/sports_82.txt.\n",
            "Text from https://theathletic.com/5122025/2023/12/08/lebron-james-lakers-inseason-tournament-final/ saved to sports_text_files/sports_83.txt.\n",
            "Text from https://apnews.com/article/tottenham-west-ham-premier-league-score-366e40a9b2cab06ea8a9c692e728bfae saved to sports_text_files/sports_84.txt.\n",
            "Text from https://abcnews.go.com/Sports/bulls-zach-lavine-additional-3-4-weeks-foot/story?id=105447978 saved to sports_text_files/sports_85.txt.\n",
            "Text from https://www.cricbuzz.com/cricket-news/128538/quinton-de-kock-rounds-off-odi-career-with-world-cup-redemption saved to sports_text_files/sports_86.txt.\n",
            "Text from https://www.nytimes.com/2023/12/08/world/europe/premier-leagues-tv-rights.html saved to sports_text_files/sports_87.txt.\n",
            "Text from https://apnews.com/article/heisman-daniels-0a2edd696c34f2e8f61c5955fcfecae0 saved to sports_text_files/sports_88.txt.\n",
            "Text from https://abcnews.go.com/Sports/bills-players-gm-brandon-beane-support-coach-sean/story?id=105508786 saved to sports_text_files/sports_89.txt.\n",
            "Text from https://www.cnn.com/2023/11/26/sport/max-verstappen-abu-dhabi-spt-intl/index.html saved to sports_text_files/sports_90.txt.\n",
            "Text from https://www.espncricinfo.com/story/icc-cricket-world-cup-2023-pitch-for-final-gets-average-rating-1411951 saved to sports_text_files/sports_91.txt.\n",
            "Text from https://www.nytimes.com/2023/12/08/sports/golf/golf-2023-pga-liv-mergers.html saved to sports_text_files/sports_92.txt.\n",
            "Text from https://theathletic.com/5066610/2023/11/15/anthony-joshua-deontay-wilder-boxing/ saved to sports_text_files/sports_93.txt.\n",
            "Text from https://apnews.com/article/hoffenheim-bochum-score-7a97f752e498abd31544b96cca20358a saved to sports_text_files/sports_94.txt.\n",
            "Text from https://www.nytimes.com/2023/12/01/world/europe/kylian-mbappe-psg-champions-league.html saved to sports_text_files/sports_95.txt.\n",
            "Text from https://www.cricbuzz.com/cricket-news/128724/jadeja-gill-yet-to-join-team-in-sa-chahar-to-fly-late-too saved to sports_text_files/sports_96.txt.\n",
            "Text from https://abcnews.go.com/Sports/sources-duke-targets-penn-states-manny-diaz-head/story?id=105470879 saved to sports_text_files/sports_97.txt.\n",
            "Text from https://www.nbcsports.com/nfl/profootballtalk/rumor-mill/news/derek-carr-not-worried-about-having-two-concussions-in-three-games saved to sports_text_files/sports_98.txt.\n",
            "Text from https://www.cnn.com/2023/10/23/sport/mlb-rangers-astros-alcs-spt-intl/index.html saved to sports_text_files/sports_99.txt.\n",
            "Text from https://www.espncricinfo.com/story/bbl-news-starc-s-1am-text-gives-spencer-johnson-drive-for-t20-world-cup-1411615 saved to sports_text_files/sports_100.txt.\n"
          ]
        }
      ],
      "source": [
        "csv_file_path = \"sports.csv\"\n",
        "df = pd.read_csv(csv_file_path)\n",
        "\n",
        "# Create a folder to store the text files\n",
        "output_folder = \"sports_text_files\"\n",
        "os.makedirs(output_folder, exist_ok=True)\n",
        "\n",
        "# Iterate through each URL in the CSV file\n",
        "for index, row in df.iterrows():\n",
        "    url = row['url']\n",
        "\n",
        "    # Set user-agent\n",
        "    headers = {'User-Agent': 'Mozilla/5.0 (Windows NT 10.0; Win64; x64) AppleWebKit/537.36 (KHTML, like Gecko) Chrome/91.0.4472.124 Safari/537.36'}\n",
        "\n",
        "    try:\n",
        "        # Retrieve the HTML content from the URL\n",
        "        request = urllib.request.Request(url, headers=headers)\n",
        "        html = urllib.request.urlopen(request).read()\n",
        "\n",
        "        # Create a BeautifulSoup object to parse the HTML\n",
        "        soup = BeautifulSoup(html, 'html.parser')\n",
        "\n",
        "        # Extract text from paragraphs and write to a text file\n",
        "        output_file_path = os.path.join(output_folder, f\"sports_{index + 1}.txt\")  # Output file path based on index\n",
        "        with open(output_file_path, \"w\") as file:\n",
        "            for data in soup.find_all(\"p\"):\n",
        "                text = data.get_text()\n",
        "                file.write(text + \"\\n\")\n",
        "\n",
        "        # Print a message indicating successful execution\n",
        "        print(f\"Text from {url} saved to {output_file_path}.\")\n",
        "\n",
        "    except Exception as e:\n",
        "        print(f\"Failed to retrieve {url}. Error: {e}\")\n"
      ]
    },
    {
      "cell_type": "markdown",
      "metadata": {
        "id": "I2s29Fv-aPWo"
      },
      "source": [
        "- Similarly here we perform web scraping on URLs listed in a CSV file containing a 'url' column which consists of url's related to sports.\n",
        "- It extracts text content from HTML paragraphs using BeautifulSoup and saves the text into separate files. The output folder \"sports_text_files\" is created to store the resulting text files.\n",
        "- Error handling is also implemented here to manage issues during the scraping process, providing messages for success or failure."
      ]
    },
    {
      "cell_type": "markdown",
      "metadata": {
        "id": "4ldEBZqtGoLz"
      },
      "source": [
        "**Creating a dataset that stores all the web-scraped articles related to Sports**"
      ]
    },
    {
      "cell_type": "code",
      "execution_count": null,
      "metadata": {
        "colab": {
          "base_uri": "https://localhost:8080/"
        },
        "id": "7I70hBa-GVFI",
        "outputId": "29ffbd96-1b4a-4443-9660-dbd7fff1c9f3"
      },
      "outputs": [
        {
          "name": "stdout",
          "output_type": "stream",
          "text": [
            "Sorted Dataset:\n",
            "         Title                                           Document   Class  \\\n",
            "0     sports_1  \\n{{suggest.tag}}\\nSearch for “”\\n Stats highl...  sports   \n",
            "1    sports_10  That this moment unfolded, on July 21, 2023, i...  sports   \n",
            "2   sports_100  HH\\nSS\\nSixers won by 6 wickets (with 4 balls ...  sports   \n",
            "3    sports_11  \\n{{suggest.tag}}\\nSearch for “”\\n As many as ...  sports   \n",
            "4    sports_12  \\n      This material may not be published, br...  sports   \n",
            "..         ...                                                ...     ...   \n",
            "95   sports_95  Advertisement\\nSupported by\\nThe On Soccer New...  sports   \n",
            "96   sports_96  \\n{{suggest.tag}}\\nSearch for “”\\n The Indian ...  sports   \n",
            "97   sports_97  Penn State defensive coordinator Manny Diaz ha...  sports   \n",
            "98   sports_98  Saints quarterback Derek Carr received the OK ...  sports   \n",
            "99   sports_99  \\n      The Texas Rangers defeated the Houston...  sports   \n",
            "\n",
            "    Num_Words  \n",
            "0         643  \n",
            "1        3157  \n",
            "2         169  \n",
            "3         547  \n",
            "4         649  \n",
            "..        ...  \n",
            "95       2082  \n",
            "96        378  \n",
            "97        397  \n",
            "98        356  \n",
            "99        294  \n",
            "\n",
            "[100 rows x 4 columns]\n",
            "\n",
            "Total Examples per Category:\n",
            "sports    100\n",
            "Name: Class, dtype: int64\n",
            "\n",
            "Number of Words per Example:\n",
            "         Title  Num_Words\n",
            "0     sports_1        643\n",
            "1    sports_10       3157\n",
            "2   sports_100        169\n",
            "3    sports_11        547\n",
            "4    sports_12        649\n",
            "..         ...        ...\n",
            "95   sports_95       2082\n",
            "96   sports_96        378\n",
            "97   sports_97        397\n",
            "98   sports_98        356\n",
            "99   sports_99        294\n",
            "\n",
            "[100 rows x 2 columns]\n",
            "\n",
            "Total Words in the Dataset: 79320\n"
          ]
        }
      ],
      "source": [
        "text_files_folder = \"sports_text_files\"\n",
        "\n",
        "# Create an empty list to store data\n",
        "data = []\n",
        "total_words = 0  # Variable to store the total number of words\n",
        "\n",
        "# Iterate through each file in the folder\n",
        "for filename in sorted(os.listdir(text_files_folder)):\n",
        "    file_path = os.path.join(text_files_folder, filename)\n",
        "\n",
        "    # Read the content of the file\n",
        "    with open(file_path, \"r\", encoding=\"utf-8\") as file:\n",
        "        document = file.read()\n",
        "\n",
        "    # Extract information from the filename\n",
        "    category = filename.split('_')[0]\n",
        "    title = filename.split('.')[0]\n",
        "\n",
        "    # Calculate the number of words in the document\n",
        "    num_words = len(document.split())\n",
        "    total_words += num_words\n",
        "\n",
        "    # Append data to the list\n",
        "    data.append([title, document, category, num_words])\n",
        "\n",
        "# Create a DataFrame from the list\n",
        "df = pd.DataFrame(data, columns=['Title', 'Document', 'Class', 'Num_Words'])\n",
        "\n",
        "# Print the sorted dataset\n",
        "print(\"Sorted Dataset:\")\n",
        "print(df.sort_values(by='Title'))\n",
        "\n",
        "# Print the total number of examples per category\n",
        "total_per_category = df['Class'].value_counts()\n",
        "print(\"\\nTotal Examples per Category:\")\n",
        "print(total_per_category)\n",
        "\n",
        "# Print the number of words per example\n",
        "print(\"\\nNumber of Words per Example:\")\n",
        "print(df[['Title', 'Num_Words']])\n",
        "\n",
        "# Print the total number of words in the entire dataset\n",
        "print(f\"\\nTotal Words in the Dataset: {total_words}\")"
      ]
    },
    {
      "cell_type": "markdown",
      "metadata": {
        "id": "9es9cWsjaSrZ"
      },
      "source": [
        "- Now we process the text files stored in the \"sports_text_files\" folder, extract information from filenames, and create a DataFrame (df) to organize the data.\n",
        "- We then calculate the number of words in each document, print a sorted dataset based on titles, and provide additional information, such as the total number of examples per category, the number of words per example, and the total number of words in the entire dataset."
      ]
    },
    {
      "cell_type": "markdown",
      "metadata": {
        "id": "eJ1xNv_BHOZd"
      },
      "source": [
        "**Creating a dataset that stores all the web-scraped articles related to Food**"
      ]
    },
    {
      "cell_type": "code",
      "execution_count": null,
      "metadata": {
        "colab": {
          "base_uri": "https://localhost:8080/"
        },
        "id": "L5zgnsgxJ37S",
        "outputId": "e49a4f81-cd79-4e4e-f5d1-86f7c0c83784"
      },
      "outputs": [
        {
          "name": "stdout",
          "output_type": "stream",
          "text": [
            "Sorted Dataset:\n",
            "       Title                                           Document Class  \\\n",
            "0     food_1  To revisit this recipe, visit My Account, then...  food   \n",
            "1    food_10  This Hong Kong-style milk tea skips the conden...  food   \n",
            "2   food_100  Kourabiedes are one of the most popular Greek ...  food   \n",
            "3    food_11  This Christmas cowboy cookie recipe from The H...  food   \n",
            "4    food_12  Jammy fruit cobbler is usually relegated to su...  food   \n",
            "..       ...                                                ...   ...   \n",
            "95   food_95  Published by Lori Rasmussen · Updated Oct 10, ...  food   \n",
            "96   food_96  Dinner, then Dessert\\nTrending Now\\nUltimate S...  food   \n",
            "97   food_97  Dinner, then Dessert\\nTrending Now\\nUltimate S...  food   \n",
            "98   food_98  Butternut Squash is best in fall, just underne...  food   \n",
            "99   food_99  This recipe is a perfect combination of sweet ...  food   \n",
            "\n",
            "    Num_Words  \n",
            "0         719  \n",
            "1         799  \n",
            "2         253  \n",
            "3         428  \n",
            "4         161  \n",
            "..        ...  \n",
            "95       1108  \n",
            "96        811  \n",
            "97        747  \n",
            "98        239  \n",
            "99        167  \n",
            "\n",
            "[100 rows x 4 columns]\n",
            "\n",
            "Total Examples per Category:\n",
            "food    100\n",
            "Name: Class, dtype: int64\n",
            "\n",
            "Number of Words per Example:\n",
            "       Title  Num_Words\n",
            "0     food_1        719\n",
            "1    food_10        799\n",
            "2   food_100        253\n",
            "3    food_11        428\n",
            "4    food_12        161\n",
            "..       ...        ...\n",
            "95   food_95       1108\n",
            "96   food_96        811\n",
            "97   food_97        747\n",
            "98   food_98        239\n",
            "99   food_99        167\n",
            "\n",
            "[100 rows x 2 columns]\n",
            "\n",
            "Total Words in the Dataset: 165954\n"
          ]
        }
      ],
      "source": [
        "text_files_folder = \"food_text_files\"\n",
        "\n",
        "# Create an empty list to store data\n",
        "data = []\n",
        "total_words = 0  # Variable to store the total number of words\n",
        "\n",
        "# Iterate through each file in the folder\n",
        "for filename in sorted(os.listdir(text_files_folder)):\n",
        "    file_path = os.path.join(text_files_folder, filename)\n",
        "\n",
        "    # Read the content of the file\n",
        "    with open(file_path, \"r\", encoding=\"utf-8\") as file:\n",
        "        document = file.read()\n",
        "\n",
        "    # Extract information from the filename\n",
        "    category = filename.split('_')[0]\n",
        "    title = filename.split('.')[0]\n",
        "\n",
        "    # Calculate the number of words in the document\n",
        "    num_words = len(document.split())\n",
        "    total_words += num_words\n",
        "\n",
        "    # Append data to the list\n",
        "    data.append([title, document, category, num_words])\n",
        "\n",
        "# Create a DataFrame from the list\n",
        "df = pd.DataFrame(data, columns=['Title', 'Document', 'Class', 'Num_Words'])\n",
        "\n",
        "# Print the sorted dataset\n",
        "print(\"Sorted Dataset:\")\n",
        "print(df.sort_values(by='Title'))\n",
        "\n",
        "# Print the total number of examples per category\n",
        "total_per_category = df['Class'].value_counts()\n",
        "print(\"\\nTotal Examples per Category:\")\n",
        "print(total_per_category)\n",
        "\n",
        "# Print the number of words per example\n",
        "print(\"\\nNumber of Words per Example:\")\n",
        "print(df[['Title', 'Num_Words']])\n",
        "\n",
        "# Print the total number of words in the entire dataset\n",
        "print(f\"\\nTotal Words in the Dataset: {total_words}\")"
      ]
    },
    {
      "cell_type": "markdown",
      "metadata": {
        "id": "QT-PFp0YaX22"
      },
      "source": [
        "- Similarly here we processe text files stored in the \"food_text_files\" folder, extract information from filenames, and create a DataFrame (df) to organize the data related to food.\n",
        "- Also like sports data we calculate the number of words in each document, print a sorted dataset based on titles, and provide additional information, such as the total number of examples per category, the number of words per example, and the total number of words in the entire dataset."
      ]
    },
    {
      "cell_type": "markdown",
      "metadata": {
        "id": "8erYifqXHRg9"
      },
      "source": [
        "**Showing a sample text from the food dataset**"
      ]
    },
    {
      "cell_type": "code",
      "execution_count": null,
      "metadata": {
        "colab": {
          "base_uri": "https://localhost:8080/"
        },
        "id": "RFO9dnf9MonC",
        "outputId": "d6a6b9ee-0c6f-4bca-ca63-b5308f8aa050"
      },
      "outputs": [
        {
          "name": "stdout",
          "output_type": "stream",
          "text": [
            "\n",
            "Content of a file from food_text_files (food_79.txt):\n",
            "Stop wondering what's for dinner! Checkout our Meal Plans\n",
            "Healthy Eating  Made Easy\n",
            "Stress Free Weekly Meal Plans for Busy Homes.\n",
            "with nutritional information\n",
            " Stress Free Weekly Meal Plans for Busy Homes. \n",
            " Easy Cabbage Fried Rice makes a delicious low carb side dish that tastes just like your favorite Chinese takeout. Jump to Recipe and Video \n",
            "Cabbage rice with all the traditional flavors of Chinese fried rice will be your new favorite healthy side dish. It comes together in less than 20 minutes, is full of veggies, and satisfies any craving for takeout.\n",
            "Personally, I love cauliflower rice and especially cauliflower fried rice, but recently after hearing a friend boldly state that she couldn't eat one more bite of cauliflower anything (she has been Paleo for 2 years), I set out to create another veggie version of her favorite fried rice.\n",
            "Putting our heads together we considered carrots, jicama, celeriac, and squash; but finally decided on cabbage since it’s something that is easy to prepare, affordable, and is a constant in Asian recipes.\n",
            "Stir Fry is the best choice when you are looking for a fast, fresh, and flavorful dinner. Find 50 delicious recipes PLUS tips and tricks for making a tasty stir-fry with any... Take me there!\n",
            "From there we simply threw together the typical fried rice ingredients - soy sauce, sesame oil, green onions, garlic, and ginger to make a delicious side dish.\n",
            "To save time, we just used bagged shredded cabbage but if you want things more rice like you can pulse the cabbage in a food processor. \n",
            "The other great thing about this recipe is that you can easily adapt it to make your favorite fried rice variations. Add chicken, pork, shrimp, or tofu to add protein and flavor. You can also try out different veggies, make it spicy or not, or go with our family's favorite option - a few slices of bacon!\n",
            "\n",
            "Start by removing the outer leaves of the cabbage and washing away any debris. Then cut the cabbage into quarters and carefully cut out the core of the cabbage. Roughly chop the cabbage into larger pieces. Add the cabbage to the food processor and pulse until it forms small, rice-like pieces. Make sure not to overcrowd the food processor and make it in batches if needed. When the food processor is overcrowded, some pieces will remain large and some will get over-processed and form a paste.\n",
            "This recipe is a great blueprint for making all different varieties of cabbage fried rice and cabbage rice. Here are some ideas:\n",
            "If I am eating fried rice, I am most likely in the mood for Chinese. For an easy option, make some grilled chicken or pork in teriyaki sauce or consider a full Chinese meal with one of the recipes below.\n",
            "\n",
            "This recipe will last 4-5 days in the fridge in an airtight container. It can be reheated in a pan or in the microwave. You can also freeze this recipe, just leave out the eggs. Then reheat in a skillet with a touch of oil or in the microwave.\n",
            "The best shortcut for making this recipe is to use the bagged coleslaw mix that's sold in the produce section. Personally, we make our cabbage rice with the shredded cabbage, but if you prefer a more rice-like dish, you can chop the bagged mix to create smaller pieces.  You can also add the coleslaw mix to the food processor to create smaller pieces.\n",
            "This recipe was updated to include new photos, a video, and recipe ideas.\n",
            "Like this Recipe? Try our Meal Plans!\n",
            "Switch to prevent your screen from going dark.\n",
            "Heat your pan over medium high heat. Whisk together the eggs and season with salt and pepper. Add half the vegetable oil to the pan. Add the eggs and cook until just scrambled. Remove from pan and set aside.\n",
            "Add the remaining vegetable oil and sesame oil to the hot pan. Add the scallions, cabbage, carrot, garlic, ginger, and any other veggies you like. Cook for 5-7 minutes until they just begin to soften.\n",
            "Add the soy sauce and egg. Stir together and cook for 1 more minute.\n",
            "* Percent Daily Values are based on a 2,000 calorie diet. Your daily values may be higher or lower depending on your calorie needs.\n",
            "The Nutritional Values provided are estimates only and may vary based on the preparation method.\n",
            "I believe you can make great food that's also good for you. Here you will find healthy, easy to make, delicious recipes and meal plans.\n",
            "Stress Free Weekly Meal Plans for Busy Homes. \n",
            "Meal Planning \n",
            "Snap a picture and show us what you made on Instagram or Facebook. Tag us using @SlenderKitchen or #slenderkitchen.\n",
            "\n"
          ]
        }
      ],
      "source": [
        "# Folders containing the text files\n",
        "food_text_files_folder = \"food_text_files\"\n",
        "\n",
        "def read_text_file(file_path):\n",
        "    with open(file_path, \"r\", encoding=\"utf-8\") as file:\n",
        "        return file.read()\n",
        "\n",
        "# Display one file from food_text_files\n",
        "food_filename = os.listdir(food_text_files_folder)[0]\n",
        "food_file_path = os.path.join(food_text_files_folder, food_filename)\n",
        "food_document = read_text_file(food_file_path)\n",
        "\n",
        "print(f\"\\nContent of a file from food_text_files ({food_filename}):\")\n",
        "print(food_document)"
      ]
    },
    {
      "cell_type": "markdown",
      "metadata": {
        "id": "yNxBnqJofuCz"
      },
      "source": [
        "Here we read the file and demonstrate an example of the food recipes which are scraped and stored as text in the file"
      ]
    },
    {
      "cell_type": "markdown",
      "metadata": {
        "id": "FfUbWlHtHWzx"
      },
      "source": [
        "**Showing a sample text from the sports dataset**"
      ]
    },
    {
      "cell_type": "code",
      "execution_count": null,
      "metadata": {
        "colab": {
          "base_uri": "https://localhost:8080/"
        },
        "id": "IQqElzfEMspT",
        "outputId": "81041fe2-e5a6-4e99-ad13-317a85e442f0"
      },
      "outputs": [
        {
          "name": "stdout",
          "output_type": "stream",
          "text": [
            "Content of a file from sports_text_files (sports_28.txt):\n",
            "Advertisement\n",
            "Supported by\n",
            "The year was full of unlikely winners and exciting team competitions.\n",
            "By Cindy Shmerler\n",
            "There was no champagne courtside. So, as Matteo Berrettini embraced Jannik Sinner after Sinner’s victory over Alex de Minaur last month to clinch Italy’s first Davis Cup title in 47 years, their teammate, Matteo Arnaldi, did the next best thing: He shook a water bottle and poured it over Sinner and Berrettini.\n",
            "Sinner, 22, ended the season with his 20th win in his last 23 matches. This year, he had a 64-15 record, won four tournaments, reached the semifinals at Wimbledon and was runner-up at the ATP Finals in Turin, Italy. He had wins over the three top-ranked players — Novak Djokovic, whom he beat twice in two weeks, Carlos Alcaraz and Daniil Medvedev. Starting 2023 at No. 15, he ended it at No. 4.\n",
            "Djokovic sorely wanted to lead Serbia to just its second Davis Cup title. But in the semifinals, he fell to Sinner after squandering three match points and then teamed with Miomir Kecmanovic to lose the deciding doubles match to Sinner and Lorenzo Sonego. The loss sent Italy into the final, where it beat Australia.\n",
            "Djokovic was devastated by the defeat.\n",
            "“For me, personally, it’s a huge disappointment because I take the responsibility, obviously having three match points, being so close to win it,” he said after the match. “When you lose for your country, you know, the bitter feeling is even greater.”\n",
            "It is ironic that the season began and ended with exciting conclusions at the men’s and women’s team competitions. The Davis Cup and the Billie Jean King Cup have been under siege in recent years as many of the game’s top players, including Alcaraz, Taylor Fritz, Iga Swiatek, Coco Gauff and Jessica Pegula, shunned the historically heart-thumping, pride-producing finals because of scheduling conflicts. The U.S. women lost early in the finals, and the U.S. men didn’t even qualify as one of the top eight teams.\n",
            "Still, despite the player defections and a merry-go-round of format changes, both competitions provided some of the most striking moments of the year.\n",
            "Leylah Fernandez rode a wave of patriotic passion, winning five matches to lead Canada to its first Billie Jean King Cup. Her teammate, then-18-year-old Marina Stakusic, who had never won a WTA Tour match, became an overnight star when she won three matches against opponents ranked in the top 70.\n",
            "If 2022 was billed as the season of King Carlos when Alcaraz went from No. 32 to No. 1 on the strength of his U.S. Open championship, then this season mostly belonged to Djokovic.\n",
            "He is considered by many in the game as the greatest player ever. The statistics prove it.\n",
            "At 36, Djokovic had one of the best seasons of his career. For the third time since 2015, he reached the finals at all four majors, falling just shy of attaining the Grand Slam.\n",
            "In January, a year after being removed from Australia because of his refusal to be vaccinated against Covid-19, Djokovic returned to Melbourne Park and captured a record 10th Australian Open title by defeating Stefanos Tsitsipas in the final. With the 14-time French Open champion Rafael Nadal injured for most of the season, Djokovic won his third French Open in June by beating Alcaraz and Casper Ruud.\n",
            "After falling to Alcaraz in a scintillating five-set Wimbledon final, Djokovic bounced back and beat Medvedev at the U.S. Open to earn his 24th major, surpassing Serena Williams. He is now just one win away from breaking the men’s and women’s major record held by Margaret Court for 50 years.\n",
            "In all, Djokovic played just 12 tournaments in 2023 and he won seven of them. He did not lose from mid-July until mid-November, when he fell to Sinner during the round-robin portion of the ATP Finals. He then beat Sinner in the final after assuring the year-end No. 1 ranking for a record-extending eighth time.\n",
            "Alcaraz, who won six titles in 2023 on three different surfaces and reached the semifinals at the French and U.S. Opens, in addition to his Wimbledon win, ended the year ranked No. 2. But he was candid after he lost to Djokovic in the semifinals in Turin.\n",
            "“I am not at his level on an indoor court,” Alcaraz, 20, said in November. “He has shown why he is the best player in the world. I have to practice more to be a better player.”\n",
            "With his 66 wins, Medvedev led the ATP in match victories. He won 19 straight, and reached the finals at Indian Wells and the Miami Open, which he won. He also won at Rome and reached the semifinals at Wimbledon and was runner-up to Djokovic at the U.S. Open. He ended the year ranked No. 3.\n",
            "Two upstart players — the Americans Ben Shelton and Chris Eubanks — used their wide grins and whopping forehands to envelop the sport in a giant bear hug. Shelton, about two years away from leading the University of Florida to an N.C.A.A. championship, reached the quarterfinals at the Australian Open. He then reached the semifinals at the U.S. Open before falling to Djokovic. Eubanks, another former collegian, upset Cameron Norrie and Tsitsipas to reach the quarterfinals at Wimbledon.\n",
            "There was no shortage of compelling story lines among the women. Swiatek and Aryna Sabalenka spent the season battling for tour supremacy.\n",
            "Sabalenka, only a year removed from serving woes so severe that she resorted to serving underhand during matches, won her first major at the Australian Open, a day she called the “best of my life.” She grabbed the No. 1 ranking after reaching the U.S. Open final.\n",
            "“It was amazing to see Sabalenka, who was basically laughed off that same court a year earlier, confront those demons and take responsibility,” Lindsay Davenport, three-time major winner and former No. 1, said by telephone last month.\n",
            "Swiatek took her third French Open and won six titles. But she faltered at both Wimbledon and the U.S. Open before regrouping by the WTA Finals, snatching the year-end No. 1 from Sabalenka by beating her and Pegula to take the title. Pegula, for her part, was one of just two players, along with No. 4 Elena Rybakina, to notch multiple wins over Swiatek this season.\n",
            "Marketa Vondrousova, who endured long stretches away from the game because of two wrist surgeries, became the first unseeded women’s Wimbledon winner when she beat Ons Jabeur in the final.\n",
            "But it was Gauff and her wise-beyond-her-years attitude who transcended the sport in a way that only Williams has done. When Gauff, 19, beat Sabalenka in three sets to win the U.S. Open, the nontennis world, including the former first lady Michelle Obama, went wild. In her acceptance speech, Gauff, who had struggled early in the season, addressed her doubters.\n",
            "“Thank you to the people who didn’t believe in me,” Gauff said. “To those who thought they were putting water on my fire, you were really adding gas to it.”\n",
            "It was the kind of bold statement that left even former major winners stunned. One of them was Davenport, who admitted to having tears run down her face while she did match commentary on television.\n",
            "“To me, the story of the year was Coco,” Davenport said. “Players come along once in a generation. When you have all the expectations on you at 12 and 15 years old and you are able to handle everything and then elevate your game to win, then you really are truly something special.”\n",
            "Advertisement\n",
            "\n"
          ]
        }
      ],
      "source": [
        "# Display one file from sports_text_files\n",
        "sports_text_files_folder = \"sports_text_files\"\n",
        "\n",
        "sports_filename = os.listdir(sports_text_files_folder)[0]\n",
        "sports_file_path = os.path.join(sports_text_files_folder, sports_filename)\n",
        "sports_document = read_text_file(sports_file_path)\n",
        "\n",
        "print(f\"Content of a file from sports_text_files ({sports_filename}):\")\n",
        "print(sports_document)"
      ]
    },
    {
      "cell_type": "markdown",
      "metadata": {
        "id": "FuBl3umJf9kR"
      },
      "source": [
        "Similarly here we demonstrate sports articles stored as text."
      ]
    },
    {
      "cell_type": "markdown",
      "metadata": {
        "id": "FcNIg3iKHaJF"
      },
      "source": [
        "**Combining sports and text dataset for text classification**"
      ]
    },
    {
      "cell_type": "code",
      "execution_count": null,
      "metadata": {
        "colab": {
          "base_uri": "https://localhost:8080/"
        },
        "id": "Ww9WNLZ8MDGG",
        "outputId": "75356490-1067-490b-de2e-5ed6b43d4013"
      },
      "outputs": [
        {
          "name": "stdout",
          "output_type": "stream",
          "text": [
            "Combined Dataset:\n",
            "         Title                                           Document   Class\n",
            "0       food_1  To revisit this recipe, visit My Account, then...    food\n",
            "1      food_10  This Hong Kong-style milk tea skips the conden...    food\n",
            "2     food_100  Kourabiedes are one of the most popular Greek ...    food\n",
            "3      food_11  This Christmas cowboy cookie recipe from The H...    food\n",
            "4      food_12  Jammy fruit cobbler is usually relegated to su...    food\n",
            "..         ...                                                ...     ...\n",
            "195  sports_95  Advertisement\\nSupported by\\nThe On Soccer New...  sports\n",
            "196  sports_96  \\n{{suggest.tag}}\\nSearch for “”\\n The Indian ...  sports\n",
            "197  sports_97  Penn State defensive coordinator Manny Diaz ha...  sports\n",
            "198  sports_98  Saints quarterback Derek Carr received the OK ...  sports\n",
            "199  sports_99  \\n      The Texas Rangers defeated the Houston...  sports\n",
            "\n",
            "[200 rows x 3 columns]\n"
          ]
        }
      ],
      "source": [
        "# Create an empty list to store data\n",
        "data = []\n",
        "\n",
        "# Iterate through each file in the food_text_files folder\n",
        "for filename in sorted(os.listdir(food_text_files_folder)):\n",
        "    file_path = os.path.join(food_text_files_folder, filename)\n",
        "    document = read_text_file(file_path)\n",
        "    category = filename.split('_')[0]\n",
        "    title = filename.split('.')[0]\n",
        "    data.append([title, document, category])\n",
        "\n",
        "# Iterate through each file in the sports_text_files folder\n",
        "for filename in sorted(os.listdir(sports_text_files_folder)):\n",
        "    file_path = os.path.join(sports_text_files_folder, filename)\n",
        "    document = read_text_file(file_path)\n",
        "    category = filename.split('_')[0]\n",
        "    title = filename.split('.')[0]\n",
        "    data.append([title, document, category])\n",
        "\n",
        "# Create a DataFrame from the list\n",
        "combined_df = pd.DataFrame(data, columns=['Title', 'Document', 'Class'])\n",
        "\n",
        "# Print the combined dataset\n",
        "print(\"Combined Dataset:\")\n",
        "print(combined_df)\n"
      ]
    },
    {
      "cell_type": "markdown",
      "metadata": {
        "id": "HIddO7Wog9R6"
      },
      "source": [
        "- This code combines text data from two folders, \"food_text_files\" and \"sports_text_files,\" into a pandas DataFrame named combined_df.\n",
        "- It iterates through each file in both folders, reads the content, extracts information from filenames, and appends the data (title, document, category) to the list.\n",
        "- Finally, it creates a DataFrame using the accumulated data and prints the combined dataset."
      ]
    },
    {
      "cell_type": "markdown",
      "metadata": {
        "id": "qKyVXKdhLkZv"
      },
      "source": [
        "### Split the dataset into training (at least 160 examples) and test (at least 40 examples) sets."
      ]
    },
    {
      "cell_type": "markdown",
      "metadata": {
        "id": "3oN3pixbHi5Z"
      },
      "source": [
        "**Splitting dataset into training and test sets**"
      ]
    },
    {
      "cell_type": "code",
      "execution_count": null,
      "metadata": {
        "colab": {
          "base_uri": "https://localhost:8080/"
        },
        "id": "1yQWjP4tLkFJ",
        "outputId": "378c76da-5aa3-43b9-9727-1621a5b9bcc4"
      },
      "outputs": [
        {
          "name": "stdout",
          "output_type": "stream",
          "text": [
            "Training set shape: (160, 3)\n",
            "Test set shape: (40, 3)\n"
          ]
        }
      ],
      "source": [
        "# Split the dataset into training (80%) and test (20%) sets\n",
        "train_df, test_df = train_test_split(combined_df, test_size=0.2, random_state=42)\n",
        "\n",
        "# Ensure at least 160 examples in the training set and at least 40 examples in the test set\n",
        "while len(train_df) < 160 or len(test_df) < 40:\n",
        "    train_df, test_df = train_test_split(combined_df, test_size=0.2, random_state=42)\n",
        "\n",
        "# Print the shapes of the training and test sets\n",
        "print(\"Training set shape:\", train_df.shape)\n",
        "print(\"Test set shape:\", test_df.shape)"
      ]
    },
    {
      "cell_type": "markdown",
      "metadata": {
        "id": "51XlcMKeIHG3"
      },
      "source": [
        "- Here the goal was to create a balanced split of the dataset into training and test sets, ensuring an adequate number of examples for model training and evaluation. So, the training set contains 160 test examples, and test set contains 40 test examples that we will use further for training the model.\n"
      ]
    },
    {
      "cell_type": "markdown",
      "metadata": {
        "id": "eXjIE_V4NZKs"
      },
      "source": [
        "### Fine tune a pretrained language model capable of generating text (e.g., GPT) that you can take from the Hugging Face Transformers library with the dataset your created (this tutorial could be very helpful: https://huggingface.co/docs/transformers/training). Report the test accuracy. Discuss what could be done to improve accuracy."
      ]
    },
    {
      "cell_type": "markdown",
      "metadata": {
        "id": "qMRMQSznJEE9"
      },
      "source": [
        "**Installing and importing required libraries**"
      ]
    },
    {
      "cell_type": "code",
      "execution_count": null,
      "metadata": {
        "colab": {
          "base_uri": "https://localhost:8080/"
        },
        "id": "f3zPHmgJQPy4",
        "outputId": "aa6b6915-879c-452d-8d94-5547e26cafd8"
      },
      "outputs": [
        {
          "name": "stdout",
          "output_type": "stream",
          "text": [
            "Collecting accelerate==0.20.1\n",
            "  Downloading accelerate-0.20.1-py3-none-any.whl (227 kB)\n",
            "\u001b[2K     \u001b[90m━━━━━━━━━━━━━━━━━━━━━━━━━━━━━━━━━━━━━━━━\u001b[0m \u001b[32m227.5/227.5 kB\u001b[0m \u001b[31m2.0 MB/s\u001b[0m eta \u001b[36m0:00:00\u001b[0m\n",
            "\u001b[?25hRequirement already satisfied: numpy>=1.17 in /usr/local/lib/python3.10/dist-packages (from accelerate==0.20.1) (1.23.5)\n",
            "Requirement already satisfied: packaging>=20.0 in /usr/local/lib/python3.10/dist-packages (from accelerate==0.20.1) (23.2)\n",
            "Requirement already satisfied: psutil in /usr/local/lib/python3.10/dist-packages (from accelerate==0.20.1) (5.9.5)\n",
            "Requirement already satisfied: pyyaml in /usr/local/lib/python3.10/dist-packages (from accelerate==0.20.1) (6.0.1)\n",
            "Requirement already satisfied: torch>=1.6.0 in /usr/local/lib/python3.10/dist-packages (from accelerate==0.20.1) (2.1.0+cu118)\n",
            "Requirement already satisfied: filelock in /usr/local/lib/python3.10/dist-packages (from torch>=1.6.0->accelerate==0.20.1) (3.13.1)\n",
            "Requirement already satisfied: typing-extensions in /usr/local/lib/python3.10/dist-packages (from torch>=1.6.0->accelerate==0.20.1) (4.5.0)\n",
            "Requirement already satisfied: sympy in /usr/local/lib/python3.10/dist-packages (from torch>=1.6.0->accelerate==0.20.1) (1.12)\n",
            "Requirement already satisfied: networkx in /usr/local/lib/python3.10/dist-packages (from torch>=1.6.0->accelerate==0.20.1) (3.2.1)\n",
            "Requirement already satisfied: jinja2 in /usr/local/lib/python3.10/dist-packages (from torch>=1.6.0->accelerate==0.20.1) (3.1.2)\n",
            "Requirement already satisfied: fsspec in /usr/local/lib/python3.10/dist-packages (from torch>=1.6.0->accelerate==0.20.1) (2023.6.0)\n",
            "Requirement already satisfied: triton==2.1.0 in /usr/local/lib/python3.10/dist-packages (from torch>=1.6.0->accelerate==0.20.1) (2.1.0)\n",
            "Requirement already satisfied: MarkupSafe>=2.0 in /usr/local/lib/python3.10/dist-packages (from jinja2->torch>=1.6.0->accelerate==0.20.1) (2.1.3)\n",
            "Requirement already satisfied: mpmath>=0.19 in /usr/local/lib/python3.10/dist-packages (from sympy->torch>=1.6.0->accelerate==0.20.1) (1.3.0)\n",
            "Installing collected packages: accelerate\n",
            "Successfully installed accelerate-0.20.1\n",
            "Requirement already satisfied: transformers[torch] in /usr/local/lib/python3.10/dist-packages (4.35.2)\n",
            "Requirement already satisfied: filelock in /usr/local/lib/python3.10/dist-packages (from transformers[torch]) (3.13.1)\n",
            "Requirement already satisfied: huggingface-hub<1.0,>=0.16.4 in /usr/local/lib/python3.10/dist-packages (from transformers[torch]) (0.19.4)\n",
            "Requirement already satisfied: numpy>=1.17 in /usr/local/lib/python3.10/dist-packages (from transformers[torch]) (1.23.5)\n",
            "Requirement already satisfied: packaging>=20.0 in /usr/local/lib/python3.10/dist-packages (from transformers[torch]) (23.2)\n",
            "Requirement already satisfied: pyyaml>=5.1 in /usr/local/lib/python3.10/dist-packages (from transformers[torch]) (6.0.1)\n",
            "Requirement already satisfied: regex!=2019.12.17 in /usr/local/lib/python3.10/dist-packages (from transformers[torch]) (2023.6.3)\n",
            "Requirement already satisfied: requests in /usr/local/lib/python3.10/dist-packages (from transformers[torch]) (2.31.0)\n",
            "Requirement already satisfied: tokenizers<0.19,>=0.14 in /usr/local/lib/python3.10/dist-packages (from transformers[torch]) (0.15.0)\n",
            "Requirement already satisfied: safetensors>=0.3.1 in /usr/local/lib/python3.10/dist-packages (from transformers[torch]) (0.4.1)\n",
            "Requirement already satisfied: tqdm>=4.27 in /usr/local/lib/python3.10/dist-packages (from transformers[torch]) (4.66.1)\n",
            "Requirement already satisfied: torch!=1.12.0,>=1.10 in /usr/local/lib/python3.10/dist-packages (from transformers[torch]) (2.1.0+cu118)\n",
            "Collecting accelerate>=0.20.3 (from transformers[torch])\n",
            "  Downloading accelerate-0.25.0-py3-none-any.whl (265 kB)\n",
            "\u001b[2K     \u001b[90m━━━━━━━━━━━━━━━━━━━━━━━━━━━━━━━━━━━━━━━━\u001b[0m \u001b[32m265.7/265.7 kB\u001b[0m \u001b[31m1.6 MB/s\u001b[0m eta \u001b[36m0:00:00\u001b[0m\n",
            "\u001b[?25hRequirement already satisfied: psutil in /usr/local/lib/python3.10/dist-packages (from accelerate>=0.20.3->transformers[torch]) (5.9.5)\n",
            "Requirement already satisfied: fsspec>=2023.5.0 in /usr/local/lib/python3.10/dist-packages (from huggingface-hub<1.0,>=0.16.4->transformers[torch]) (2023.6.0)\n",
            "Requirement already satisfied: typing-extensions>=3.7.4.3 in /usr/local/lib/python3.10/dist-packages (from huggingface-hub<1.0,>=0.16.4->transformers[torch]) (4.5.0)\n",
            "Requirement already satisfied: sympy in /usr/local/lib/python3.10/dist-packages (from torch!=1.12.0,>=1.10->transformers[torch]) (1.12)\n",
            "Requirement already satisfied: networkx in /usr/local/lib/python3.10/dist-packages (from torch!=1.12.0,>=1.10->transformers[torch]) (3.2.1)\n",
            "Requirement already satisfied: jinja2 in /usr/local/lib/python3.10/dist-packages (from torch!=1.12.0,>=1.10->transformers[torch]) (3.1.2)\n",
            "Requirement already satisfied: triton==2.1.0 in /usr/local/lib/python3.10/dist-packages (from torch!=1.12.0,>=1.10->transformers[torch]) (2.1.0)\n",
            "Requirement already satisfied: charset-normalizer<4,>=2 in /usr/local/lib/python3.10/dist-packages (from requests->transformers[torch]) (3.3.2)\n",
            "Requirement already satisfied: idna<4,>=2.5 in /usr/local/lib/python3.10/dist-packages (from requests->transformers[torch]) (3.6)\n",
            "Requirement already satisfied: urllib3<3,>=1.21.1 in /usr/local/lib/python3.10/dist-packages (from requests->transformers[torch]) (2.0.7)\n",
            "Requirement already satisfied: certifi>=2017.4.17 in /usr/local/lib/python3.10/dist-packages (from requests->transformers[torch]) (2023.11.17)\n",
            "Requirement already satisfied: MarkupSafe>=2.0 in /usr/local/lib/python3.10/dist-packages (from jinja2->torch!=1.12.0,>=1.10->transformers[torch]) (2.1.3)\n",
            "Requirement already satisfied: mpmath>=0.19 in /usr/local/lib/python3.10/dist-packages (from sympy->torch!=1.12.0,>=1.10->transformers[torch]) (1.3.0)\n",
            "Installing collected packages: accelerate\n",
            "  Attempting uninstall: accelerate\n",
            "    Found existing installation: accelerate 0.20.1\n",
            "    Uninstalling accelerate-0.20.1:\n",
            "      Successfully uninstalled accelerate-0.20.1\n",
            "Successfully installed accelerate-0.25.0\n"
          ]
        }
      ],
      "source": [
        "!pip install accelerate==0.20.1\n",
        "!pip install transformers[torch]\n",
        "import torch\n",
        "from torch.utils.data import DataLoader, Dataset\n",
        "from transformers import BertTokenizer, BertForSequenceClassification, AdamW\n",
        "from sklearn.model_selection import train_test_split\n",
        "from sklearn.preprocessing import LabelEncoder\n",
        "from sklearn.metrics import accuracy_score\n",
        "from tqdm import tqdm"
      ]
    },
    {
      "cell_type": "markdown",
      "metadata": {
        "id": "YdLeoD7oJI6T"
      },
      "source": [
        "**Using a label encoder to convert string labels to numerical labels**"
      ]
    },
    {
      "cell_type": "code",
      "execution_count": null,
      "metadata": {
        "id": "AebpaN4LP2T1"
      },
      "outputs": [],
      "source": [
        "label_encoder = LabelEncoder()\n",
        "train_df['Class'] = label_encoder.fit_transform(train_df['Class'])\n",
        "test_df['Class'] = label_encoder.transform(test_df['Class'])"
      ]
    },
    {
      "cell_type": "markdown",
      "metadata": {
        "id": "KVXmp98aKMW4"
      },
      "source": [
        "- Here, the dataset was in the string format, so we used LabelEncoder for converting it to relevant numeric values.\n",
        "- LabelEncoder assigns a unique integer to each class, for example food = 0, and sports = 1.\n",
        "- After the process, the Class column in our data contains numeric representation (0 for 'food', 1 for 'sports')."
      ]
    },
    {
      "cell_type": "markdown",
      "metadata": {
        "id": "FrJ6qDwgJYe2"
      },
      "source": [
        "**Loading pre-trained BERT model and tokenizer for sequence classification**\n"
      ]
    },
    {
      "cell_type": "code",
      "execution_count": null,
      "metadata": {
        "colab": {
          "base_uri": "https://localhost:8080/",
          "height": 233,
          "referenced_widgets": [
            "98bf32db25b24c17b605db41f134cb58",
            "15874c8db1a14d4ba2fbe859320914ea",
            "21fdb9d6f4154808adcb835798e67134",
            "234710d06d10418a91d64b10bb216f09",
            "36a03bfbef1143c796c049ba5eeaf11b",
            "3d37d4d4be284cac84bcb33a24b798e9",
            "e87d170b78534586aa438da04bab509b",
            "878c3657f05047f2a18d0a9aba03cc34",
            "295f273be7134125b1759e7d1c03952f",
            "ac78f9fb0bac47da83719e856c7009a2",
            "603640f7ac9a48ce9f23014840ed5e62",
            "3ea85acd42c5469cb7e5eea4878844d8",
            "b00954baf7e84d0599cee06b929d98f7",
            "3ecc11bd908f47dcbdd8781be0f8e053",
            "536c4500afb2455885f63ffa85de0bc7",
            "f32fc7255c5e4cf4a839fb90b3f63f39",
            "a868db8a8dd24205be535f92273fa98c",
            "4cc02dc3a02b4c258eda49feb24beb38",
            "af4312ca290146aa859000b53535ec0c",
            "be8b2f51502e40c59c0b84ec42fc8eaa",
            "a891e39d9957459cad85589e4b41d157",
            "815bde6edd3049f6a47749de3bd1172e",
            "348adab46cb7427fae711d1c70d85fbd",
            "3171528ddebe4b2bb3137227932dfa7d",
            "2752f19c11e04bd7bc414c504a40fdd2",
            "966e6dd9ecc843c2a675283fe6c8eefb",
            "f2667c742003456dae9bc439d22e8364",
            "a25b54d401fa4d3a8ffb01cf45a6b6eb",
            "f9289ba08ad24698b24e943b5e2f012d",
            "5f2d453d05f84667aac7293bc831aaab",
            "7a5b5ce56e0d4b69875dd0811e2a88fa",
            "d81fc78ce6154dee8175b28fcc92233f",
            "5a4a79df984842639263fe96f382ebc5",
            "66fe8af7dbe64cb49ae62d1036b1448b",
            "a864a190ac01441e86c34280ffcc9fca",
            "6b32572cce5e4e199563550e3c93098d",
            "a156546b572f4774a3615452e04e95f4",
            "5718dcd73a954f2aacd0d61670a02a0b",
            "175814a8b68b4e1d9d14a058662c4d43",
            "227b093b7855469d893275f1ef873885",
            "0f9a45eee5504012bc60953d48cc80bd",
            "efe8faaea18c47bdb5f902d54d44603c",
            "62add7e4ec30463dbf7527f05597fb39",
            "530bfa1ef9d7460f9a5ded6441e9e054",
            "eebc324aa81040ebb0943dc82f7fce90",
            "aad4a65f0fe34847957d119f5c8f2d66",
            "e3c95779d9104b70a09198e430008b02",
            "9115295ff29641c090ed6f9797b755ef",
            "3ee4ef95177344e79a7669e11749ed8e",
            "bc85a86939b646fc8094fba502ac41c7",
            "cd069fcbe65f41e886485b63b2a3e079",
            "bf5837533c144641afe9c94e6aab5d92",
            "1acf08cdc248423db18adb9505443f17",
            "c826ea32231742e2a6fbbd637e29a2bd",
            "eb0181e30c9b48b6a66592f945fed6ff"
          ]
        },
        "id": "PXvmwooRJdYK",
        "outputId": "b39515a7-4d72-46d7-ac1d-77121bd6b7cc"
      },
      "outputs": [
        {
          "data": {
            "application/vnd.jupyter.widget-view+json": {
              "model_id": "98bf32db25b24c17b605db41f134cb58",
              "version_major": 2,
              "version_minor": 0
            },
            "text/plain": [
              "config.json:   0%|          | 0.00/570 [00:00<?, ?B/s]"
            ]
          },
          "metadata": {},
          "output_type": "display_data"
        },
        {
          "data": {
            "application/vnd.jupyter.widget-view+json": {
              "model_id": "3ea85acd42c5469cb7e5eea4878844d8",
              "version_major": 2,
              "version_minor": 0
            },
            "text/plain": [
              "model.safetensors:   0%|          | 0.00/440M [00:00<?, ?B/s]"
            ]
          },
          "metadata": {},
          "output_type": "display_data"
        },
        {
          "name": "stderr",
          "output_type": "stream",
          "text": [
            "Some weights of BertForSequenceClassification were not initialized from the model checkpoint at bert-base-uncased and are newly initialized: ['classifier.bias', 'classifier.weight']\n",
            "You should probably TRAIN this model on a down-stream task to be able to use it for predictions and inference.\n"
          ]
        },
        {
          "data": {
            "application/vnd.jupyter.widget-view+json": {
              "model_id": "348adab46cb7427fae711d1c70d85fbd",
              "version_major": 2,
              "version_minor": 0
            },
            "text/plain": [
              "tokenizer_config.json:   0%|          | 0.00/28.0 [00:00<?, ?B/s]"
            ]
          },
          "metadata": {},
          "output_type": "display_data"
        },
        {
          "data": {
            "application/vnd.jupyter.widget-view+json": {
              "model_id": "66fe8af7dbe64cb49ae62d1036b1448b",
              "version_major": 2,
              "version_minor": 0
            },
            "text/plain": [
              "vocab.txt:   0%|          | 0.00/232k [00:00<?, ?B/s]"
            ]
          },
          "metadata": {},
          "output_type": "display_data"
        },
        {
          "data": {
            "application/vnd.jupyter.widget-view+json": {
              "model_id": "eebc324aa81040ebb0943dc82f7fce90",
              "version_major": 2,
              "version_minor": 0
            },
            "text/plain": [
              "tokenizer.json:   0%|          | 0.00/466k [00:00<?, ?B/s]"
            ]
          },
          "metadata": {},
          "output_type": "display_data"
        }
      ],
      "source": [
        "model_name = 'bert-base-uncased'\n",
        "model = BertForSequenceClassification.from_pretrained(model_name)\n",
        "tokenizer = BertTokenizer.from_pretrained(model_name)"
      ]
    },
    {
      "cell_type": "markdown",
      "metadata": {
        "id": "dUPvH72_LySl"
      },
      "source": [
        "- For the text classification task, we employed a pre-trained model known as \"bert-base-uncased.\" This model represents a foundational version of BERT, trained on English text in an uncased format.\n",
        "- Further we used BERT's corresponding tokenizer, that can tokenize input text and convert it into a format suitable for the BERT model."
      ]
    },
    {
      "cell_type": "markdown",
      "metadata": {
        "id": "qvr5IjUiJe9P"
      },
      "source": [
        "**Tokenizing the training and test sets**\n"
      ]
    },
    {
      "cell_type": "code",
      "execution_count": null,
      "metadata": {
        "id": "uSrBFeh1JknE"
      },
      "outputs": [],
      "source": [
        "train_encodings = tokenizer(list(train_df['Document']), truncation=True, padding=True, return_tensors='pt')\n",
        "test_encodings = tokenizer(list(test_df['Document']), truncation=True, padding=True, return_tensors='pt')"
      ]
    },
    {
      "cell_type": "markdown",
      "metadata": {
        "id": "VX-f4buMNYX7"
      },
      "source": [
        "- Here, we prepared the input data for the BERT model by tokenizing and formatting the text sequences.\n",
        "- The resulting train_encodings and test_encodings variables hold the encoded representations in a format suitable for feeding into the BERT model for training and evaluation."
      ]
    },
    {
      "cell_type": "markdown",
      "metadata": {
        "id": "4rMKlcqAJniV"
      },
      "source": [
        "**Converting labels to tensors**\n"
      ]
    },
    {
      "cell_type": "code",
      "execution_count": null,
      "metadata": {
        "id": "9OJdMzgcJvIc"
      },
      "outputs": [],
      "source": [
        "train_labels = torch.tensor(train_df['Class'].values)\n",
        "test_labels = torch.tensor(test_df['Class'].values)"
      ]
    },
    {
      "cell_type": "markdown",
      "metadata": {
        "id": "btIr_yYYOTuo"
      },
      "source": [
        "- Here, the encoded sequences, along with corresponding class labels were converted to PyTorch tensors, prepared for training and evaluation of the BERT model.\n",
        "- These tensors will be used as targets during the training phase, enabling the model to optimize its parameters and improve its ability to make accurate predictions on new data."
      ]
    },
    {
      "cell_type": "markdown",
      "metadata": {
        "id": "0lUHwwdwJxxu"
      },
      "source": [
        "**Defining and creating a custom dataset**\n"
      ]
    },
    {
      "cell_type": "code",
      "execution_count": null,
      "metadata": {
        "id": "kijNX_TxJ6pQ"
      },
      "outputs": [],
      "source": [
        "class CustomDataset(Dataset):\n",
        "    def __init__(self, encodings, labels):\n",
        "        self.encodings = encodings\n",
        "        self.labels = labels\n",
        "\n",
        "    def __len__(self):\n",
        "        return len(self.labels)\n",
        "\n",
        "    def __getitem__(self, idx):\n",
        "        item = {key: torch.tensor(val[idx]) for key, val in self.encodings.items()}\n",
        "        item['labels'] = torch.tensor(self.labels[idx])\n",
        "        return item\n",
        "\n",
        "train_dataset = CustomDataset(train_encodings, train_labels)\n",
        "test_dataset = CustomDataset(test_encodings, test_labels)"
      ]
    },
    {
      "cell_type": "markdown",
      "metadata": {
        "id": "GJl5aYwSVRbD"
      },
      "source": [
        "- By organizing the data into a custom dataset, it becomes compatible with PyTorch's DataLoader, facilitating efficient batch processing during model training and evaluation."
      ]
    },
    {
      "cell_type": "markdown",
      "metadata": {
        "id": "LZiIec5gJ-Mz"
      },
      "source": [
        "**Setting up training parameters**"
      ]
    },
    {
      "cell_type": "code",
      "execution_count": null,
      "metadata": {
        "colab": {
          "base_uri": "https://localhost:8080/"
        },
        "id": "b1lpChpeKFEn",
        "outputId": "7949c427-f2fa-4268-8ccf-5f5e330f08cf"
      },
      "outputs": [
        {
          "name": "stderr",
          "output_type": "stream",
          "text": [
            "/usr/local/lib/python3.10/dist-packages/transformers/optimization.py:411: FutureWarning: This implementation of AdamW is deprecated and will be removed in a future version. Use the PyTorch implementation torch.optim.AdamW instead, or set `no_deprecation_warning=True` to disable this warning\n",
            "  warnings.warn(\n"
          ]
        }
      ],
      "source": [
        "optimizer = AdamW(model.parameters(), lr=1e-5)\n",
        "device = torch.device('cuda') if torch.cuda.is_available() else torch.device('cpu')\n",
        "model.to(device)\n",
        "train_loader = DataLoader(train_dataset, batch_size=4, shuffle=True)"
      ]
    },
    {
      "cell_type": "markdown",
      "metadata": {
        "id": "7vVj5drTVfud"
      },
      "source": [
        "- Here we configured the optimizer, device and DataLoader so we can prepare the necessary components for training the BERT model on the training data.\n",
        "- The DataLoader we used here was to iterate over batches of data during the training process, and the optimizer helped to update the model's parameters based on computed gradients."
      ]
    },
    {
      "cell_type": "markdown",
      "metadata": {
        "id": "76N5jpb3KF1D"
      },
      "source": [
        "**Fine-tuning and training the model**"
      ]
    },
    {
      "cell_type": "code",
      "execution_count": null,
      "metadata": {
        "colab": {
          "base_uri": "https://localhost:8080/"
        },
        "id": "aSQWB_6QKFf8",
        "outputId": "8ad3691c-37e9-418c-b12e-9fbb4da3d359"
      },
      "outputs": [
        {
          "name": "stderr",
          "output_type": "stream",
          "text": [
            "\rEpoch 1/3:   0%|          | 0/40 [00:00<?, ?it/s]<ipython-input-15-845f80ecb07b>:10: UserWarning: To copy construct from a tensor, it is recommended to use sourceTensor.clone().detach() or sourceTensor.clone().detach().requires_grad_(True), rather than torch.tensor(sourceTensor).\n",
            "  item = {key: torch.tensor(val[idx]) for key, val in self.encodings.items()}\n",
            "<ipython-input-15-845f80ecb07b>:11: UserWarning: To copy construct from a tensor, it is recommended to use sourceTensor.clone().detach() or sourceTensor.clone().detach().requires_grad_(True), rather than torch.tensor(sourceTensor).\n",
            "  item['labels'] = torch.tensor(self.labels[idx])\n",
            "Epoch 1/3: 100%|██████████| 40/40 [17:34<00:00, 26.35s/it]\n",
            "Epoch 2/3: 100%|██████████| 40/40 [17:02<00:00, 25.57s/it]\n",
            "Epoch 3/3: 100%|██████████| 40/40 [17:37<00:00, 26.43s/it]\n"
          ]
        }
      ],
      "source": [
        "num_epochs = 3\n",
        "for epoch in range(num_epochs):\n",
        "    model.train()\n",
        "    for batch in tqdm(train_loader, desc=f'Epoch {epoch + 1}/{num_epochs}'):\n",
        "        optimizer.zero_grad()\n",
        "        input_ids = batch['input_ids'].to(device)\n",
        "        attention_mask = batch['attention_mask'].to(device)\n",
        "        labels = batch['labels'].to(device)\n",
        "        outputs = model(input_ids, attention_mask=attention_mask, labels=labels)\n",
        "        loss = outputs.loss\n",
        "        loss.backward()\n",
        "        optimizer.step()"
      ]
    },
    {
      "cell_type": "markdown",
      "metadata": {
        "id": "pToexPwGWP-h"
      },
      "source": [
        "- We implemented the BERT model, and used some key components like batch iteration, optimizer zero grad, moving data to the device GPU, model forward pass, loss calculation, backward pass, and optimizer step.\n",
        "- The loops repeats for 3 epochs, and during each epoch, the model is trained on batches of data, updating its parameters to minimize the defined loss function.\n",
        "- Each epoch took a substantial amount of time to complete, with an average of around 17 minutes per epoch."
      ]
    },
    {
      "cell_type": "markdown",
      "metadata": {
        "id": "HFURmyeRKMGT"
      },
      "source": [
        "**Evaluating on the test set**\n"
      ]
    },
    {
      "cell_type": "code",
      "execution_count": null,
      "metadata": {
        "colab": {
          "base_uri": "https://localhost:8080/"
        },
        "id": "nZsnlONPKQVt",
        "outputId": "32bc9b43-ac1b-4f91-b8ab-6dbff3f6c7c1"
      },
      "outputs": [
        {
          "name": "stderr",
          "output_type": "stream",
          "text": [
            "\rEvaluating:   0%|          | 0/10 [00:00<?, ?it/s]<ipython-input-15-845f80ecb07b>:10: UserWarning: To copy construct from a tensor, it is recommended to use sourceTensor.clone().detach() or sourceTensor.clone().detach().requires_grad_(True), rather than torch.tensor(sourceTensor).\n",
            "  item = {key: torch.tensor(val[idx]) for key, val in self.encodings.items()}\n",
            "<ipython-input-15-845f80ecb07b>:11: UserWarning: To copy construct from a tensor, it is recommended to use sourceTensor.clone().detach() or sourceTensor.clone().detach().requires_grad_(True), rather than torch.tensor(sourceTensor).\n",
            "  item['labels'] = torch.tensor(self.labels[idx])\n",
            "Evaluating: 100%|██████████| 10/10 [01:12<00:00,  7.24s/it]\n"
          ]
        }
      ],
      "source": [
        "model.eval()\n",
        "test_loader = DataLoader(test_dataset, batch_size=4, shuffle=False)\n",
        "all_predictions = []\n",
        "\n",
        "with torch.no_grad():\n",
        "    for batch in tqdm(test_loader, desc='Evaluating'):\n",
        "        input_ids = batch['input_ids'].to(device)\n",
        "        attention_mask = batch['attention_mask'].to(device)\n",
        "        labels = batch['labels'].to(device)\n",
        "        outputs = model(input_ids, attention_mask=attention_mask)\n",
        "        predictions = torch.argmax(outputs.logits, dim=1).cpu().numpy()\n",
        "        all_predictions.extend(predictions)"
      ]
    },
    {
      "cell_type": "markdown",
      "metadata": {
        "id": "KDKFP-8oXMAm"
      },
      "source": [
        "- We evaluated the trained BERT model on the test dataset and collected the predictions.\n",
        "- We then store the model's predictions for each example in the test dataset.\n"
      ]
    },
    {
      "cell_type": "markdown",
      "metadata": {
        "id": "KTofGx8_KTwN"
      },
      "source": [
        "**Reporting test accuracy**\n"
      ]
    },
    {
      "cell_type": "code",
      "execution_count": null,
      "metadata": {
        "colab": {
          "base_uri": "https://localhost:8080/"
        },
        "id": "-AKlcLm1KcdJ",
        "outputId": "0aa1950c-e12e-4f3d-f181-81c87af819ab"
      },
      "outputs": [
        {
          "name": "stdout",
          "output_type": "stream",
          "text": [
            "Test Accuracy: 0.975\n"
          ]
        }
      ],
      "source": [
        "test_true_labels = test_labels.cpu().numpy()\n",
        "test_accuracy = accuracy_score(test_true_labels, all_predictions)\n",
        "print(f\"Test Accuracy: {test_accuracy}\")"
      ]
    },
    {
      "cell_type": "markdown",
      "metadata": {
        "id": "CK65wyk_XoUB"
      },
      "source": [
        "- We calculated the model accuracy by comparing the true class labels with the predicted labels.\n",
        "- The model achieved an accuracy of 97.5% on the test dataset.\n"
      ]
    },
    {
      "cell_type": "markdown",
      "metadata": {
        "id": "zImLsetp8kE1"
      },
      "source": [
        "**Predicting texts into classes using some examples**"
      ]
    },
    {
      "cell_type": "code",
      "execution_count": null,
      "metadata": {
        "id": "rxHjT_hj8e7c"
      },
      "outputs": [],
      "source": [
        "def predict_class(text):\n",
        "    # Tokenize the input text\n",
        "    inputs = tokenizer(text, return_tensors=\"pt\", truncation=True, padding=True)\n",
        "\n",
        "    # Make the prediction\n",
        "    with torch.no_grad():\n",
        "        outputs = model(**inputs)\n",
        "\n",
        "    # Get the predicted class\n",
        "    logits = outputs.logits\n",
        "    predicted_class = torch.argmax(logits, dim=1).item()\n",
        "\n",
        "    # Decode the predicted class using the label encoder\n",
        "    decoded_class = label_encoder.inverse_transform([predicted_class])[0]\n",
        "\n",
        "    return decoded_class"
      ]
    },
    {
      "cell_type": "code",
      "execution_count": null,
      "metadata": {
        "colab": {
          "base_uri": "https://localhost:8080/"
        },
        "id": "QBPX7JBP8gl3",
        "outputId": "1694617b-5125-4a09-a02e-61ef261377ec"
      },
      "outputs": [
        {
          "name": "stdout",
          "output_type": "stream",
          "text": [
            "Predicted Class: food\n"
          ]
        }
      ],
      "source": [
        "# Example text for classifying food text\n",
        "example_text = \"The kitchen was alive with the sizzle of garlic in olive oil and the aroma of herbs dancing in the air. A symphony of flavors unfolded as the chef crafted a masterpiece, blending fresh ingredients into a culinary delight.\"\n",
        "\n",
        "# Predict the class\n",
        "predicted_class = predict_class(example_text)\n",
        "\n",
        "# Print the result\n",
        "print(f\"Predicted Class: {predicted_class}\")\n"
      ]
    },
    {
      "cell_type": "code",
      "execution_count": null,
      "metadata": {
        "colab": {
          "base_uri": "https://localhost:8080/"
        },
        "id": "3bfRuPpV9Fp6",
        "outputId": "8adba45c-11f1-4eeb-81bf-2fc85ecba691"
      },
      "outputs": [
        {
          "name": "stdout",
          "output_type": "stream",
          "text": [
            "Predicted Class: sports\n"
          ]
        }
      ],
      "source": [
        "# Example text for classifying sports text\n",
        "example_text = \"The stadium echoed with the cheers of fans as the athletes sprinted down the track, each step bringing them closer to the finish line. The intensity of the game heightened, showcasing the sheer determination and skill that define the world of competitive sports.\"\n",
        "\n",
        "# Predict the class\n",
        "predicted_class = predict_class(example_text)\n",
        "\n",
        "# Print the result\n",
        "print(f\"Predicted Class: {predicted_class}\")\n"
      ]
    },
    {
      "cell_type": "markdown",
      "metadata": {
        "id": "EV_d79SBYEa_"
      },
      "source": [
        "- The above code successfully takes an example input in the form of text and then by using the predict_class function and the BERT model trained classifies the text into appropriate class.\n",
        "- As observed, both the example texts are correctly classified into the 'food' and 'sports' class, signifying the model works quite accurately."
      ]
    },
    {
      "cell_type": "markdown",
      "metadata": {
        "id": "ll0LzZlIxru0"
      },
      "source": [
        "**Discussion on improving accuracy of BERT Model**"
      ]
    },
    {
      "cell_type": "markdown",
      "metadata": {
        "id": "NgpZODTL7gP0"
      },
      "source": [
        "The following steps can be used to further improve the test accuracy:\n",
        "\n",
        "1. We could consider using a learning rate scheduler, such as torch.optim.lr_scheduler, to adjust the learning rate during training. It can help in finding the optimal learning rate.\n",
        "\n",
        "2. We could implement gradient clipping to prevent exploding gradients. This can be done by setting a maximum gradient value in the optimizer.\n",
        "\n",
        "3. We could adjust the batch size of the model and train for more epochs until the model converges. However, there is a chance of overfitting the training data.\n",
        "\n",
        "4. We could apply regularization techniques like dropout during training to prevent overfitting. Techniques such as adding noise, paraphrasing, or using backtranslation can be beneficial as well while performing data augmentation.\n",
        "\n",
        "5. We can try different transformer-based architecture models like DistilBERT, RoBERTa, or XLNet that can perform better for certain tasks."
      ]
    }
  ],
  "metadata": {
    "colab": {
      "provenance": []
    },
    "kernelspec": {
      "display_name": "Python 3",
      "name": "python3"
    },
    "language_info": {
      "name": "python"
    },
    "widgets": {
      "application/vnd.jupyter.widget-state+json": {
        "0f9a45eee5504012bc60953d48cc80bd": {
          "model_module": "@jupyter-widgets/base",
          "model_module_version": "1.2.0",
          "model_name": "LayoutModel",
          "state": {
            "_model_module": "@jupyter-widgets/base",
            "_model_module_version": "1.2.0",
            "_model_name": "LayoutModel",
            "_view_count": null,
            "_view_module": "@jupyter-widgets/base",
            "_view_module_version": "1.2.0",
            "_view_name": "LayoutView",
            "align_content": null,
            "align_items": null,
            "align_self": null,
            "border": null,
            "bottom": null,
            "display": null,
            "flex": null,
            "flex_flow": null,
            "grid_area": null,
            "grid_auto_columns": null,
            "grid_auto_flow": null,
            "grid_auto_rows": null,
            "grid_column": null,
            "grid_gap": null,
            "grid_row": null,
            "grid_template_areas": null,
            "grid_template_columns": null,
            "grid_template_rows": null,
            "height": null,
            "justify_content": null,
            "justify_items": null,
            "left": null,
            "margin": null,
            "max_height": null,
            "max_width": null,
            "min_height": null,
            "min_width": null,
            "object_fit": null,
            "object_position": null,
            "order": null,
            "overflow": null,
            "overflow_x": null,
            "overflow_y": null,
            "padding": null,
            "right": null,
            "top": null,
            "visibility": null,
            "width": null
          }
        },
        "15874c8db1a14d4ba2fbe859320914ea": {
          "model_module": "@jupyter-widgets/controls",
          "model_module_version": "1.5.0",
          "model_name": "HTMLModel",
          "state": {
            "_dom_classes": [],
            "_model_module": "@jupyter-widgets/controls",
            "_model_module_version": "1.5.0",
            "_model_name": "HTMLModel",
            "_view_count": null,
            "_view_module": "@jupyter-widgets/controls",
            "_view_module_version": "1.5.0",
            "_view_name": "HTMLView",
            "description": "",
            "description_tooltip": null,
            "layout": "IPY_MODEL_3d37d4d4be284cac84bcb33a24b798e9",
            "placeholder": "​",
            "style": "IPY_MODEL_e87d170b78534586aa438da04bab509b",
            "value": "config.json: 100%"
          }
        },
        "175814a8b68b4e1d9d14a058662c4d43": {
          "model_module": "@jupyter-widgets/base",
          "model_module_version": "1.2.0",
          "model_name": "LayoutModel",
          "state": {
            "_model_module": "@jupyter-widgets/base",
            "_model_module_version": "1.2.0",
            "_model_name": "LayoutModel",
            "_view_count": null,
            "_view_module": "@jupyter-widgets/base",
            "_view_module_version": "1.2.0",
            "_view_name": "LayoutView",
            "align_content": null,
            "align_items": null,
            "align_self": null,
            "border": null,
            "bottom": null,
            "display": null,
            "flex": null,
            "flex_flow": null,
            "grid_area": null,
            "grid_auto_columns": null,
            "grid_auto_flow": null,
            "grid_auto_rows": null,
            "grid_column": null,
            "grid_gap": null,
            "grid_row": null,
            "grid_template_areas": null,
            "grid_template_columns": null,
            "grid_template_rows": null,
            "height": null,
            "justify_content": null,
            "justify_items": null,
            "left": null,
            "margin": null,
            "max_height": null,
            "max_width": null,
            "min_height": null,
            "min_width": null,
            "object_fit": null,
            "object_position": null,
            "order": null,
            "overflow": null,
            "overflow_x": null,
            "overflow_y": null,
            "padding": null,
            "right": null,
            "top": null,
            "visibility": null,
            "width": null
          }
        },
        "1acf08cdc248423db18adb9505443f17": {
          "model_module": "@jupyter-widgets/controls",
          "model_module_version": "1.5.0",
          "model_name": "ProgressStyleModel",
          "state": {
            "_model_module": "@jupyter-widgets/controls",
            "_model_module_version": "1.5.0",
            "_model_name": "ProgressStyleModel",
            "_view_count": null,
            "_view_module": "@jupyter-widgets/base",
            "_view_module_version": "1.2.0",
            "_view_name": "StyleView",
            "bar_color": null,
            "description_width": ""
          }
        },
        "21fdb9d6f4154808adcb835798e67134": {
          "model_module": "@jupyter-widgets/controls",
          "model_module_version": "1.5.0",
          "model_name": "FloatProgressModel",
          "state": {
            "_dom_classes": [],
            "_model_module": "@jupyter-widgets/controls",
            "_model_module_version": "1.5.0",
            "_model_name": "FloatProgressModel",
            "_view_count": null,
            "_view_module": "@jupyter-widgets/controls",
            "_view_module_version": "1.5.0",
            "_view_name": "ProgressView",
            "bar_style": "success",
            "description": "",
            "description_tooltip": null,
            "layout": "IPY_MODEL_878c3657f05047f2a18d0a9aba03cc34",
            "max": 570,
            "min": 0,
            "orientation": "horizontal",
            "style": "IPY_MODEL_295f273be7134125b1759e7d1c03952f",
            "value": 570
          }
        },
        "227b093b7855469d893275f1ef873885": {
          "model_module": "@jupyter-widgets/controls",
          "model_module_version": "1.5.0",
          "model_name": "DescriptionStyleModel",
          "state": {
            "_model_module": "@jupyter-widgets/controls",
            "_model_module_version": "1.5.0",
            "_model_name": "DescriptionStyleModel",
            "_view_count": null,
            "_view_module": "@jupyter-widgets/base",
            "_view_module_version": "1.2.0",
            "_view_name": "StyleView",
            "description_width": ""
          }
        },
        "234710d06d10418a91d64b10bb216f09": {
          "model_module": "@jupyter-widgets/controls",
          "model_module_version": "1.5.0",
          "model_name": "HTMLModel",
          "state": {
            "_dom_classes": [],
            "_model_module": "@jupyter-widgets/controls",
            "_model_module_version": "1.5.0",
            "_model_name": "HTMLModel",
            "_view_count": null,
            "_view_module": "@jupyter-widgets/controls",
            "_view_module_version": "1.5.0",
            "_view_name": "HTMLView",
            "description": "",
            "description_tooltip": null,
            "layout": "IPY_MODEL_ac78f9fb0bac47da83719e856c7009a2",
            "placeholder": "​",
            "style": "IPY_MODEL_603640f7ac9a48ce9f23014840ed5e62",
            "value": " 570/570 [00:00&lt;00:00, 17.0kB/s]"
          }
        },
        "2752f19c11e04bd7bc414c504a40fdd2": {
          "model_module": "@jupyter-widgets/controls",
          "model_module_version": "1.5.0",
          "model_name": "FloatProgressModel",
          "state": {
            "_dom_classes": [],
            "_model_module": "@jupyter-widgets/controls",
            "_model_module_version": "1.5.0",
            "_model_name": "FloatProgressModel",
            "_view_count": null,
            "_view_module": "@jupyter-widgets/controls",
            "_view_module_version": "1.5.0",
            "_view_name": "ProgressView",
            "bar_style": "success",
            "description": "",
            "description_tooltip": null,
            "layout": "IPY_MODEL_5f2d453d05f84667aac7293bc831aaab",
            "max": 28,
            "min": 0,
            "orientation": "horizontal",
            "style": "IPY_MODEL_7a5b5ce56e0d4b69875dd0811e2a88fa",
            "value": 28
          }
        },
        "295f273be7134125b1759e7d1c03952f": {
          "model_module": "@jupyter-widgets/controls",
          "model_module_version": "1.5.0",
          "model_name": "ProgressStyleModel",
          "state": {
            "_model_module": "@jupyter-widgets/controls",
            "_model_module_version": "1.5.0",
            "_model_name": "ProgressStyleModel",
            "_view_count": null,
            "_view_module": "@jupyter-widgets/base",
            "_view_module_version": "1.2.0",
            "_view_name": "StyleView",
            "bar_color": null,
            "description_width": ""
          }
        },
        "3171528ddebe4b2bb3137227932dfa7d": {
          "model_module": "@jupyter-widgets/controls",
          "model_module_version": "1.5.0",
          "model_name": "HTMLModel",
          "state": {
            "_dom_classes": [],
            "_model_module": "@jupyter-widgets/controls",
            "_model_module_version": "1.5.0",
            "_model_name": "HTMLModel",
            "_view_count": null,
            "_view_module": "@jupyter-widgets/controls",
            "_view_module_version": "1.5.0",
            "_view_name": "HTMLView",
            "description": "",
            "description_tooltip": null,
            "layout": "IPY_MODEL_a25b54d401fa4d3a8ffb01cf45a6b6eb",
            "placeholder": "​",
            "style": "IPY_MODEL_f9289ba08ad24698b24e943b5e2f012d",
            "value": "tokenizer_config.json: 100%"
          }
        },
        "348adab46cb7427fae711d1c70d85fbd": {
          "model_module": "@jupyter-widgets/controls",
          "model_module_version": "1.5.0",
          "model_name": "HBoxModel",
          "state": {
            "_dom_classes": [],
            "_model_module": "@jupyter-widgets/controls",
            "_model_module_version": "1.5.0",
            "_model_name": "HBoxModel",
            "_view_count": null,
            "_view_module": "@jupyter-widgets/controls",
            "_view_module_version": "1.5.0",
            "_view_name": "HBoxView",
            "box_style": "",
            "children": [
              "IPY_MODEL_3171528ddebe4b2bb3137227932dfa7d",
              "IPY_MODEL_2752f19c11e04bd7bc414c504a40fdd2",
              "IPY_MODEL_966e6dd9ecc843c2a675283fe6c8eefb"
            ],
            "layout": "IPY_MODEL_f2667c742003456dae9bc439d22e8364"
          }
        },
        "36a03bfbef1143c796c049ba5eeaf11b": {
          "model_module": "@jupyter-widgets/base",
          "model_module_version": "1.2.0",
          "model_name": "LayoutModel",
          "state": {
            "_model_module": "@jupyter-widgets/base",
            "_model_module_version": "1.2.0",
            "_model_name": "LayoutModel",
            "_view_count": null,
            "_view_module": "@jupyter-widgets/base",
            "_view_module_version": "1.2.0",
            "_view_name": "LayoutView",
            "align_content": null,
            "align_items": null,
            "align_self": null,
            "border": null,
            "bottom": null,
            "display": null,
            "flex": null,
            "flex_flow": null,
            "grid_area": null,
            "grid_auto_columns": null,
            "grid_auto_flow": null,
            "grid_auto_rows": null,
            "grid_column": null,
            "grid_gap": null,
            "grid_row": null,
            "grid_template_areas": null,
            "grid_template_columns": null,
            "grid_template_rows": null,
            "height": null,
            "justify_content": null,
            "justify_items": null,
            "left": null,
            "margin": null,
            "max_height": null,
            "max_width": null,
            "min_height": null,
            "min_width": null,
            "object_fit": null,
            "object_position": null,
            "order": null,
            "overflow": null,
            "overflow_x": null,
            "overflow_y": null,
            "padding": null,
            "right": null,
            "top": null,
            "visibility": null,
            "width": null
          }
        },
        "3d37d4d4be284cac84bcb33a24b798e9": {
          "model_module": "@jupyter-widgets/base",
          "model_module_version": "1.2.0",
          "model_name": "LayoutModel",
          "state": {
            "_model_module": "@jupyter-widgets/base",
            "_model_module_version": "1.2.0",
            "_model_name": "LayoutModel",
            "_view_count": null,
            "_view_module": "@jupyter-widgets/base",
            "_view_module_version": "1.2.0",
            "_view_name": "LayoutView",
            "align_content": null,
            "align_items": null,
            "align_self": null,
            "border": null,
            "bottom": null,
            "display": null,
            "flex": null,
            "flex_flow": null,
            "grid_area": null,
            "grid_auto_columns": null,
            "grid_auto_flow": null,
            "grid_auto_rows": null,
            "grid_column": null,
            "grid_gap": null,
            "grid_row": null,
            "grid_template_areas": null,
            "grid_template_columns": null,
            "grid_template_rows": null,
            "height": null,
            "justify_content": null,
            "justify_items": null,
            "left": null,
            "margin": null,
            "max_height": null,
            "max_width": null,
            "min_height": null,
            "min_width": null,
            "object_fit": null,
            "object_position": null,
            "order": null,
            "overflow": null,
            "overflow_x": null,
            "overflow_y": null,
            "padding": null,
            "right": null,
            "top": null,
            "visibility": null,
            "width": null
          }
        },
        "3ea85acd42c5469cb7e5eea4878844d8": {
          "model_module": "@jupyter-widgets/controls",
          "model_module_version": "1.5.0",
          "model_name": "HBoxModel",
          "state": {
            "_dom_classes": [],
            "_model_module": "@jupyter-widgets/controls",
            "_model_module_version": "1.5.0",
            "_model_name": "HBoxModel",
            "_view_count": null,
            "_view_module": "@jupyter-widgets/controls",
            "_view_module_version": "1.5.0",
            "_view_name": "HBoxView",
            "box_style": "",
            "children": [
              "IPY_MODEL_b00954baf7e84d0599cee06b929d98f7",
              "IPY_MODEL_3ecc11bd908f47dcbdd8781be0f8e053",
              "IPY_MODEL_536c4500afb2455885f63ffa85de0bc7"
            ],
            "layout": "IPY_MODEL_f32fc7255c5e4cf4a839fb90b3f63f39"
          }
        },
        "3ecc11bd908f47dcbdd8781be0f8e053": {
          "model_module": "@jupyter-widgets/controls",
          "model_module_version": "1.5.0",
          "model_name": "FloatProgressModel",
          "state": {
            "_dom_classes": [],
            "_model_module": "@jupyter-widgets/controls",
            "_model_module_version": "1.5.0",
            "_model_name": "FloatProgressModel",
            "_view_count": null,
            "_view_module": "@jupyter-widgets/controls",
            "_view_module_version": "1.5.0",
            "_view_name": "ProgressView",
            "bar_style": "success",
            "description": "",
            "description_tooltip": null,
            "layout": "IPY_MODEL_af4312ca290146aa859000b53535ec0c",
            "max": 440449768,
            "min": 0,
            "orientation": "horizontal",
            "style": "IPY_MODEL_be8b2f51502e40c59c0b84ec42fc8eaa",
            "value": 440449768
          }
        },
        "3ee4ef95177344e79a7669e11749ed8e": {
          "model_module": "@jupyter-widgets/base",
          "model_module_version": "1.2.0",
          "model_name": "LayoutModel",
          "state": {
            "_model_module": "@jupyter-widgets/base",
            "_model_module_version": "1.2.0",
            "_model_name": "LayoutModel",
            "_view_count": null,
            "_view_module": "@jupyter-widgets/base",
            "_view_module_version": "1.2.0",
            "_view_name": "LayoutView",
            "align_content": null,
            "align_items": null,
            "align_self": null,
            "border": null,
            "bottom": null,
            "display": null,
            "flex": null,
            "flex_flow": null,
            "grid_area": null,
            "grid_auto_columns": null,
            "grid_auto_flow": null,
            "grid_auto_rows": null,
            "grid_column": null,
            "grid_gap": null,
            "grid_row": null,
            "grid_template_areas": null,
            "grid_template_columns": null,
            "grid_template_rows": null,
            "height": null,
            "justify_content": null,
            "justify_items": null,
            "left": null,
            "margin": null,
            "max_height": null,
            "max_width": null,
            "min_height": null,
            "min_width": null,
            "object_fit": null,
            "object_position": null,
            "order": null,
            "overflow": null,
            "overflow_x": null,
            "overflow_y": null,
            "padding": null,
            "right": null,
            "top": null,
            "visibility": null,
            "width": null
          }
        },
        "4cc02dc3a02b4c258eda49feb24beb38": {
          "model_module": "@jupyter-widgets/controls",
          "model_module_version": "1.5.0",
          "model_name": "DescriptionStyleModel",
          "state": {
            "_model_module": "@jupyter-widgets/controls",
            "_model_module_version": "1.5.0",
            "_model_name": "DescriptionStyleModel",
            "_view_count": null,
            "_view_module": "@jupyter-widgets/base",
            "_view_module_version": "1.2.0",
            "_view_name": "StyleView",
            "description_width": ""
          }
        },
        "530bfa1ef9d7460f9a5ded6441e9e054": {
          "model_module": "@jupyter-widgets/controls",
          "model_module_version": "1.5.0",
          "model_name": "DescriptionStyleModel",
          "state": {
            "_model_module": "@jupyter-widgets/controls",
            "_model_module_version": "1.5.0",
            "_model_name": "DescriptionStyleModel",
            "_view_count": null,
            "_view_module": "@jupyter-widgets/base",
            "_view_module_version": "1.2.0",
            "_view_name": "StyleView",
            "description_width": ""
          }
        },
        "536c4500afb2455885f63ffa85de0bc7": {
          "model_module": "@jupyter-widgets/controls",
          "model_module_version": "1.5.0",
          "model_name": "HTMLModel",
          "state": {
            "_dom_classes": [],
            "_model_module": "@jupyter-widgets/controls",
            "_model_module_version": "1.5.0",
            "_model_name": "HTMLModel",
            "_view_count": null,
            "_view_module": "@jupyter-widgets/controls",
            "_view_module_version": "1.5.0",
            "_view_name": "HTMLView",
            "description": "",
            "description_tooltip": null,
            "layout": "IPY_MODEL_a891e39d9957459cad85589e4b41d157",
            "placeholder": "​",
            "style": "IPY_MODEL_815bde6edd3049f6a47749de3bd1172e",
            "value": " 440M/440M [00:03&lt;00:00, 112MB/s]"
          }
        },
        "5718dcd73a954f2aacd0d61670a02a0b": {
          "model_module": "@jupyter-widgets/base",
          "model_module_version": "1.2.0",
          "model_name": "LayoutModel",
          "state": {
            "_model_module": "@jupyter-widgets/base",
            "_model_module_version": "1.2.0",
            "_model_name": "LayoutModel",
            "_view_count": null,
            "_view_module": "@jupyter-widgets/base",
            "_view_module_version": "1.2.0",
            "_view_name": "LayoutView",
            "align_content": null,
            "align_items": null,
            "align_self": null,
            "border": null,
            "bottom": null,
            "display": null,
            "flex": null,
            "flex_flow": null,
            "grid_area": null,
            "grid_auto_columns": null,
            "grid_auto_flow": null,
            "grid_auto_rows": null,
            "grid_column": null,
            "grid_gap": null,
            "grid_row": null,
            "grid_template_areas": null,
            "grid_template_columns": null,
            "grid_template_rows": null,
            "height": null,
            "justify_content": null,
            "justify_items": null,
            "left": null,
            "margin": null,
            "max_height": null,
            "max_width": null,
            "min_height": null,
            "min_width": null,
            "object_fit": null,
            "object_position": null,
            "order": null,
            "overflow": null,
            "overflow_x": null,
            "overflow_y": null,
            "padding": null,
            "right": null,
            "top": null,
            "visibility": null,
            "width": null
          }
        },
        "5a4a79df984842639263fe96f382ebc5": {
          "model_module": "@jupyter-widgets/controls",
          "model_module_version": "1.5.0",
          "model_name": "DescriptionStyleModel",
          "state": {
            "_model_module": "@jupyter-widgets/controls",
            "_model_module_version": "1.5.0",
            "_model_name": "DescriptionStyleModel",
            "_view_count": null,
            "_view_module": "@jupyter-widgets/base",
            "_view_module_version": "1.2.0",
            "_view_name": "StyleView",
            "description_width": ""
          }
        },
        "5f2d453d05f84667aac7293bc831aaab": {
          "model_module": "@jupyter-widgets/base",
          "model_module_version": "1.2.0",
          "model_name": "LayoutModel",
          "state": {
            "_model_module": "@jupyter-widgets/base",
            "_model_module_version": "1.2.0",
            "_model_name": "LayoutModel",
            "_view_count": null,
            "_view_module": "@jupyter-widgets/base",
            "_view_module_version": "1.2.0",
            "_view_name": "LayoutView",
            "align_content": null,
            "align_items": null,
            "align_self": null,
            "border": null,
            "bottom": null,
            "display": null,
            "flex": null,
            "flex_flow": null,
            "grid_area": null,
            "grid_auto_columns": null,
            "grid_auto_flow": null,
            "grid_auto_rows": null,
            "grid_column": null,
            "grid_gap": null,
            "grid_row": null,
            "grid_template_areas": null,
            "grid_template_columns": null,
            "grid_template_rows": null,
            "height": null,
            "justify_content": null,
            "justify_items": null,
            "left": null,
            "margin": null,
            "max_height": null,
            "max_width": null,
            "min_height": null,
            "min_width": null,
            "object_fit": null,
            "object_position": null,
            "order": null,
            "overflow": null,
            "overflow_x": null,
            "overflow_y": null,
            "padding": null,
            "right": null,
            "top": null,
            "visibility": null,
            "width": null
          }
        },
        "603640f7ac9a48ce9f23014840ed5e62": {
          "model_module": "@jupyter-widgets/controls",
          "model_module_version": "1.5.0",
          "model_name": "DescriptionStyleModel",
          "state": {
            "_model_module": "@jupyter-widgets/controls",
            "_model_module_version": "1.5.0",
            "_model_name": "DescriptionStyleModel",
            "_view_count": null,
            "_view_module": "@jupyter-widgets/base",
            "_view_module_version": "1.2.0",
            "_view_name": "StyleView",
            "description_width": ""
          }
        },
        "62add7e4ec30463dbf7527f05597fb39": {
          "model_module": "@jupyter-widgets/base",
          "model_module_version": "1.2.0",
          "model_name": "LayoutModel",
          "state": {
            "_model_module": "@jupyter-widgets/base",
            "_model_module_version": "1.2.0",
            "_model_name": "LayoutModel",
            "_view_count": null,
            "_view_module": "@jupyter-widgets/base",
            "_view_module_version": "1.2.0",
            "_view_name": "LayoutView",
            "align_content": null,
            "align_items": null,
            "align_self": null,
            "border": null,
            "bottom": null,
            "display": null,
            "flex": null,
            "flex_flow": null,
            "grid_area": null,
            "grid_auto_columns": null,
            "grid_auto_flow": null,
            "grid_auto_rows": null,
            "grid_column": null,
            "grid_gap": null,
            "grid_row": null,
            "grid_template_areas": null,
            "grid_template_columns": null,
            "grid_template_rows": null,
            "height": null,
            "justify_content": null,
            "justify_items": null,
            "left": null,
            "margin": null,
            "max_height": null,
            "max_width": null,
            "min_height": null,
            "min_width": null,
            "object_fit": null,
            "object_position": null,
            "order": null,
            "overflow": null,
            "overflow_x": null,
            "overflow_y": null,
            "padding": null,
            "right": null,
            "top": null,
            "visibility": null,
            "width": null
          }
        },
        "66fe8af7dbe64cb49ae62d1036b1448b": {
          "model_module": "@jupyter-widgets/controls",
          "model_module_version": "1.5.0",
          "model_name": "HBoxModel",
          "state": {
            "_dom_classes": [],
            "_model_module": "@jupyter-widgets/controls",
            "_model_module_version": "1.5.0",
            "_model_name": "HBoxModel",
            "_view_count": null,
            "_view_module": "@jupyter-widgets/controls",
            "_view_module_version": "1.5.0",
            "_view_name": "HBoxView",
            "box_style": "",
            "children": [
              "IPY_MODEL_a864a190ac01441e86c34280ffcc9fca",
              "IPY_MODEL_6b32572cce5e4e199563550e3c93098d",
              "IPY_MODEL_a156546b572f4774a3615452e04e95f4"
            ],
            "layout": "IPY_MODEL_5718dcd73a954f2aacd0d61670a02a0b"
          }
        },
        "6b32572cce5e4e199563550e3c93098d": {
          "model_module": "@jupyter-widgets/controls",
          "model_module_version": "1.5.0",
          "model_name": "FloatProgressModel",
          "state": {
            "_dom_classes": [],
            "_model_module": "@jupyter-widgets/controls",
            "_model_module_version": "1.5.0",
            "_model_name": "FloatProgressModel",
            "_view_count": null,
            "_view_module": "@jupyter-widgets/controls",
            "_view_module_version": "1.5.0",
            "_view_name": "ProgressView",
            "bar_style": "success",
            "description": "",
            "description_tooltip": null,
            "layout": "IPY_MODEL_0f9a45eee5504012bc60953d48cc80bd",
            "max": 231508,
            "min": 0,
            "orientation": "horizontal",
            "style": "IPY_MODEL_efe8faaea18c47bdb5f902d54d44603c",
            "value": 231508
          }
        },
        "7a5b5ce56e0d4b69875dd0811e2a88fa": {
          "model_module": "@jupyter-widgets/controls",
          "model_module_version": "1.5.0",
          "model_name": "ProgressStyleModel",
          "state": {
            "_model_module": "@jupyter-widgets/controls",
            "_model_module_version": "1.5.0",
            "_model_name": "ProgressStyleModel",
            "_view_count": null,
            "_view_module": "@jupyter-widgets/base",
            "_view_module_version": "1.2.0",
            "_view_name": "StyleView",
            "bar_color": null,
            "description_width": ""
          }
        },
        "815bde6edd3049f6a47749de3bd1172e": {
          "model_module": "@jupyter-widgets/controls",
          "model_module_version": "1.5.0",
          "model_name": "DescriptionStyleModel",
          "state": {
            "_model_module": "@jupyter-widgets/controls",
            "_model_module_version": "1.5.0",
            "_model_name": "DescriptionStyleModel",
            "_view_count": null,
            "_view_module": "@jupyter-widgets/base",
            "_view_module_version": "1.2.0",
            "_view_name": "StyleView",
            "description_width": ""
          }
        },
        "878c3657f05047f2a18d0a9aba03cc34": {
          "model_module": "@jupyter-widgets/base",
          "model_module_version": "1.2.0",
          "model_name": "LayoutModel",
          "state": {
            "_model_module": "@jupyter-widgets/base",
            "_model_module_version": "1.2.0",
            "_model_name": "LayoutModel",
            "_view_count": null,
            "_view_module": "@jupyter-widgets/base",
            "_view_module_version": "1.2.0",
            "_view_name": "LayoutView",
            "align_content": null,
            "align_items": null,
            "align_self": null,
            "border": null,
            "bottom": null,
            "display": null,
            "flex": null,
            "flex_flow": null,
            "grid_area": null,
            "grid_auto_columns": null,
            "grid_auto_flow": null,
            "grid_auto_rows": null,
            "grid_column": null,
            "grid_gap": null,
            "grid_row": null,
            "grid_template_areas": null,
            "grid_template_columns": null,
            "grid_template_rows": null,
            "height": null,
            "justify_content": null,
            "justify_items": null,
            "left": null,
            "margin": null,
            "max_height": null,
            "max_width": null,
            "min_height": null,
            "min_width": null,
            "object_fit": null,
            "object_position": null,
            "order": null,
            "overflow": null,
            "overflow_x": null,
            "overflow_y": null,
            "padding": null,
            "right": null,
            "top": null,
            "visibility": null,
            "width": null
          }
        },
        "9115295ff29641c090ed6f9797b755ef": {
          "model_module": "@jupyter-widgets/controls",
          "model_module_version": "1.5.0",
          "model_name": "HTMLModel",
          "state": {
            "_dom_classes": [],
            "_model_module": "@jupyter-widgets/controls",
            "_model_module_version": "1.5.0",
            "_model_name": "HTMLModel",
            "_view_count": null,
            "_view_module": "@jupyter-widgets/controls",
            "_view_module_version": "1.5.0",
            "_view_name": "HTMLView",
            "description": "",
            "description_tooltip": null,
            "layout": "IPY_MODEL_c826ea32231742e2a6fbbd637e29a2bd",
            "placeholder": "​",
            "style": "IPY_MODEL_eb0181e30c9b48b6a66592f945fed6ff",
            "value": " 466k/466k [00:00&lt;00:00, 4.62MB/s]"
          }
        },
        "966e6dd9ecc843c2a675283fe6c8eefb": {
          "model_module": "@jupyter-widgets/controls",
          "model_module_version": "1.5.0",
          "model_name": "HTMLModel",
          "state": {
            "_dom_classes": [],
            "_model_module": "@jupyter-widgets/controls",
            "_model_module_version": "1.5.0",
            "_model_name": "HTMLModel",
            "_view_count": null,
            "_view_module": "@jupyter-widgets/controls",
            "_view_module_version": "1.5.0",
            "_view_name": "HTMLView",
            "description": "",
            "description_tooltip": null,
            "layout": "IPY_MODEL_d81fc78ce6154dee8175b28fcc92233f",
            "placeholder": "​",
            "style": "IPY_MODEL_5a4a79df984842639263fe96f382ebc5",
            "value": " 28.0/28.0 [00:00&lt;00:00, 494B/s]"
          }
        },
        "98bf32db25b24c17b605db41f134cb58": {
          "model_module": "@jupyter-widgets/controls",
          "model_module_version": "1.5.0",
          "model_name": "HBoxModel",
          "state": {
            "_dom_classes": [],
            "_model_module": "@jupyter-widgets/controls",
            "_model_module_version": "1.5.0",
            "_model_name": "HBoxModel",
            "_view_count": null,
            "_view_module": "@jupyter-widgets/controls",
            "_view_module_version": "1.5.0",
            "_view_name": "HBoxView",
            "box_style": "",
            "children": [
              "IPY_MODEL_15874c8db1a14d4ba2fbe859320914ea",
              "IPY_MODEL_21fdb9d6f4154808adcb835798e67134",
              "IPY_MODEL_234710d06d10418a91d64b10bb216f09"
            ],
            "layout": "IPY_MODEL_36a03bfbef1143c796c049ba5eeaf11b"
          }
        },
        "a156546b572f4774a3615452e04e95f4": {
          "model_module": "@jupyter-widgets/controls",
          "model_module_version": "1.5.0",
          "model_name": "HTMLModel",
          "state": {
            "_dom_classes": [],
            "_model_module": "@jupyter-widgets/controls",
            "_model_module_version": "1.5.0",
            "_model_name": "HTMLModel",
            "_view_count": null,
            "_view_module": "@jupyter-widgets/controls",
            "_view_module_version": "1.5.0",
            "_view_name": "HTMLView",
            "description": "",
            "description_tooltip": null,
            "layout": "IPY_MODEL_62add7e4ec30463dbf7527f05597fb39",
            "placeholder": "​",
            "style": "IPY_MODEL_530bfa1ef9d7460f9a5ded6441e9e054",
            "value": " 232k/232k [00:00&lt;00:00, 2.06MB/s]"
          }
        },
        "a25b54d401fa4d3a8ffb01cf45a6b6eb": {
          "model_module": "@jupyter-widgets/base",
          "model_module_version": "1.2.0",
          "model_name": "LayoutModel",
          "state": {
            "_model_module": "@jupyter-widgets/base",
            "_model_module_version": "1.2.0",
            "_model_name": "LayoutModel",
            "_view_count": null,
            "_view_module": "@jupyter-widgets/base",
            "_view_module_version": "1.2.0",
            "_view_name": "LayoutView",
            "align_content": null,
            "align_items": null,
            "align_self": null,
            "border": null,
            "bottom": null,
            "display": null,
            "flex": null,
            "flex_flow": null,
            "grid_area": null,
            "grid_auto_columns": null,
            "grid_auto_flow": null,
            "grid_auto_rows": null,
            "grid_column": null,
            "grid_gap": null,
            "grid_row": null,
            "grid_template_areas": null,
            "grid_template_columns": null,
            "grid_template_rows": null,
            "height": null,
            "justify_content": null,
            "justify_items": null,
            "left": null,
            "margin": null,
            "max_height": null,
            "max_width": null,
            "min_height": null,
            "min_width": null,
            "object_fit": null,
            "object_position": null,
            "order": null,
            "overflow": null,
            "overflow_x": null,
            "overflow_y": null,
            "padding": null,
            "right": null,
            "top": null,
            "visibility": null,
            "width": null
          }
        },
        "a864a190ac01441e86c34280ffcc9fca": {
          "model_module": "@jupyter-widgets/controls",
          "model_module_version": "1.5.0",
          "model_name": "HTMLModel",
          "state": {
            "_dom_classes": [],
            "_model_module": "@jupyter-widgets/controls",
            "_model_module_version": "1.5.0",
            "_model_name": "HTMLModel",
            "_view_count": null,
            "_view_module": "@jupyter-widgets/controls",
            "_view_module_version": "1.5.0",
            "_view_name": "HTMLView",
            "description": "",
            "description_tooltip": null,
            "layout": "IPY_MODEL_175814a8b68b4e1d9d14a058662c4d43",
            "placeholder": "​",
            "style": "IPY_MODEL_227b093b7855469d893275f1ef873885",
            "value": "vocab.txt: 100%"
          }
        },
        "a868db8a8dd24205be535f92273fa98c": {
          "model_module": "@jupyter-widgets/base",
          "model_module_version": "1.2.0",
          "model_name": "LayoutModel",
          "state": {
            "_model_module": "@jupyter-widgets/base",
            "_model_module_version": "1.2.0",
            "_model_name": "LayoutModel",
            "_view_count": null,
            "_view_module": "@jupyter-widgets/base",
            "_view_module_version": "1.2.0",
            "_view_name": "LayoutView",
            "align_content": null,
            "align_items": null,
            "align_self": null,
            "border": null,
            "bottom": null,
            "display": null,
            "flex": null,
            "flex_flow": null,
            "grid_area": null,
            "grid_auto_columns": null,
            "grid_auto_flow": null,
            "grid_auto_rows": null,
            "grid_column": null,
            "grid_gap": null,
            "grid_row": null,
            "grid_template_areas": null,
            "grid_template_columns": null,
            "grid_template_rows": null,
            "height": null,
            "justify_content": null,
            "justify_items": null,
            "left": null,
            "margin": null,
            "max_height": null,
            "max_width": null,
            "min_height": null,
            "min_width": null,
            "object_fit": null,
            "object_position": null,
            "order": null,
            "overflow": null,
            "overflow_x": null,
            "overflow_y": null,
            "padding": null,
            "right": null,
            "top": null,
            "visibility": null,
            "width": null
          }
        },
        "a891e39d9957459cad85589e4b41d157": {
          "model_module": "@jupyter-widgets/base",
          "model_module_version": "1.2.0",
          "model_name": "LayoutModel",
          "state": {
            "_model_module": "@jupyter-widgets/base",
            "_model_module_version": "1.2.0",
            "_model_name": "LayoutModel",
            "_view_count": null,
            "_view_module": "@jupyter-widgets/base",
            "_view_module_version": "1.2.0",
            "_view_name": "LayoutView",
            "align_content": null,
            "align_items": null,
            "align_self": null,
            "border": null,
            "bottom": null,
            "display": null,
            "flex": null,
            "flex_flow": null,
            "grid_area": null,
            "grid_auto_columns": null,
            "grid_auto_flow": null,
            "grid_auto_rows": null,
            "grid_column": null,
            "grid_gap": null,
            "grid_row": null,
            "grid_template_areas": null,
            "grid_template_columns": null,
            "grid_template_rows": null,
            "height": null,
            "justify_content": null,
            "justify_items": null,
            "left": null,
            "margin": null,
            "max_height": null,
            "max_width": null,
            "min_height": null,
            "min_width": null,
            "object_fit": null,
            "object_position": null,
            "order": null,
            "overflow": null,
            "overflow_x": null,
            "overflow_y": null,
            "padding": null,
            "right": null,
            "top": null,
            "visibility": null,
            "width": null
          }
        },
        "aad4a65f0fe34847957d119f5c8f2d66": {
          "model_module": "@jupyter-widgets/controls",
          "model_module_version": "1.5.0",
          "model_name": "HTMLModel",
          "state": {
            "_dom_classes": [],
            "_model_module": "@jupyter-widgets/controls",
            "_model_module_version": "1.5.0",
            "_model_name": "HTMLModel",
            "_view_count": null,
            "_view_module": "@jupyter-widgets/controls",
            "_view_module_version": "1.5.0",
            "_view_name": "HTMLView",
            "description": "",
            "description_tooltip": null,
            "layout": "IPY_MODEL_bc85a86939b646fc8094fba502ac41c7",
            "placeholder": "​",
            "style": "IPY_MODEL_cd069fcbe65f41e886485b63b2a3e079",
            "value": "tokenizer.json: 100%"
          }
        },
        "ac78f9fb0bac47da83719e856c7009a2": {
          "model_module": "@jupyter-widgets/base",
          "model_module_version": "1.2.0",
          "model_name": "LayoutModel",
          "state": {
            "_model_module": "@jupyter-widgets/base",
            "_model_module_version": "1.2.0",
            "_model_name": "LayoutModel",
            "_view_count": null,
            "_view_module": "@jupyter-widgets/base",
            "_view_module_version": "1.2.0",
            "_view_name": "LayoutView",
            "align_content": null,
            "align_items": null,
            "align_self": null,
            "border": null,
            "bottom": null,
            "display": null,
            "flex": null,
            "flex_flow": null,
            "grid_area": null,
            "grid_auto_columns": null,
            "grid_auto_flow": null,
            "grid_auto_rows": null,
            "grid_column": null,
            "grid_gap": null,
            "grid_row": null,
            "grid_template_areas": null,
            "grid_template_columns": null,
            "grid_template_rows": null,
            "height": null,
            "justify_content": null,
            "justify_items": null,
            "left": null,
            "margin": null,
            "max_height": null,
            "max_width": null,
            "min_height": null,
            "min_width": null,
            "object_fit": null,
            "object_position": null,
            "order": null,
            "overflow": null,
            "overflow_x": null,
            "overflow_y": null,
            "padding": null,
            "right": null,
            "top": null,
            "visibility": null,
            "width": null
          }
        },
        "af4312ca290146aa859000b53535ec0c": {
          "model_module": "@jupyter-widgets/base",
          "model_module_version": "1.2.0",
          "model_name": "LayoutModel",
          "state": {
            "_model_module": "@jupyter-widgets/base",
            "_model_module_version": "1.2.0",
            "_model_name": "LayoutModel",
            "_view_count": null,
            "_view_module": "@jupyter-widgets/base",
            "_view_module_version": "1.2.0",
            "_view_name": "LayoutView",
            "align_content": null,
            "align_items": null,
            "align_self": null,
            "border": null,
            "bottom": null,
            "display": null,
            "flex": null,
            "flex_flow": null,
            "grid_area": null,
            "grid_auto_columns": null,
            "grid_auto_flow": null,
            "grid_auto_rows": null,
            "grid_column": null,
            "grid_gap": null,
            "grid_row": null,
            "grid_template_areas": null,
            "grid_template_columns": null,
            "grid_template_rows": null,
            "height": null,
            "justify_content": null,
            "justify_items": null,
            "left": null,
            "margin": null,
            "max_height": null,
            "max_width": null,
            "min_height": null,
            "min_width": null,
            "object_fit": null,
            "object_position": null,
            "order": null,
            "overflow": null,
            "overflow_x": null,
            "overflow_y": null,
            "padding": null,
            "right": null,
            "top": null,
            "visibility": null,
            "width": null
          }
        },
        "b00954baf7e84d0599cee06b929d98f7": {
          "model_module": "@jupyter-widgets/controls",
          "model_module_version": "1.5.0",
          "model_name": "HTMLModel",
          "state": {
            "_dom_classes": [],
            "_model_module": "@jupyter-widgets/controls",
            "_model_module_version": "1.5.0",
            "_model_name": "HTMLModel",
            "_view_count": null,
            "_view_module": "@jupyter-widgets/controls",
            "_view_module_version": "1.5.0",
            "_view_name": "HTMLView",
            "description": "",
            "description_tooltip": null,
            "layout": "IPY_MODEL_a868db8a8dd24205be535f92273fa98c",
            "placeholder": "​",
            "style": "IPY_MODEL_4cc02dc3a02b4c258eda49feb24beb38",
            "value": "model.safetensors: 100%"
          }
        },
        "bc85a86939b646fc8094fba502ac41c7": {
          "model_module": "@jupyter-widgets/base",
          "model_module_version": "1.2.0",
          "model_name": "LayoutModel",
          "state": {
            "_model_module": "@jupyter-widgets/base",
            "_model_module_version": "1.2.0",
            "_model_name": "LayoutModel",
            "_view_count": null,
            "_view_module": "@jupyter-widgets/base",
            "_view_module_version": "1.2.0",
            "_view_name": "LayoutView",
            "align_content": null,
            "align_items": null,
            "align_self": null,
            "border": null,
            "bottom": null,
            "display": null,
            "flex": null,
            "flex_flow": null,
            "grid_area": null,
            "grid_auto_columns": null,
            "grid_auto_flow": null,
            "grid_auto_rows": null,
            "grid_column": null,
            "grid_gap": null,
            "grid_row": null,
            "grid_template_areas": null,
            "grid_template_columns": null,
            "grid_template_rows": null,
            "height": null,
            "justify_content": null,
            "justify_items": null,
            "left": null,
            "margin": null,
            "max_height": null,
            "max_width": null,
            "min_height": null,
            "min_width": null,
            "object_fit": null,
            "object_position": null,
            "order": null,
            "overflow": null,
            "overflow_x": null,
            "overflow_y": null,
            "padding": null,
            "right": null,
            "top": null,
            "visibility": null,
            "width": null
          }
        },
        "be8b2f51502e40c59c0b84ec42fc8eaa": {
          "model_module": "@jupyter-widgets/controls",
          "model_module_version": "1.5.0",
          "model_name": "ProgressStyleModel",
          "state": {
            "_model_module": "@jupyter-widgets/controls",
            "_model_module_version": "1.5.0",
            "_model_name": "ProgressStyleModel",
            "_view_count": null,
            "_view_module": "@jupyter-widgets/base",
            "_view_module_version": "1.2.0",
            "_view_name": "StyleView",
            "bar_color": null,
            "description_width": ""
          }
        },
        "bf5837533c144641afe9c94e6aab5d92": {
          "model_module": "@jupyter-widgets/base",
          "model_module_version": "1.2.0",
          "model_name": "LayoutModel",
          "state": {
            "_model_module": "@jupyter-widgets/base",
            "_model_module_version": "1.2.0",
            "_model_name": "LayoutModel",
            "_view_count": null,
            "_view_module": "@jupyter-widgets/base",
            "_view_module_version": "1.2.0",
            "_view_name": "LayoutView",
            "align_content": null,
            "align_items": null,
            "align_self": null,
            "border": null,
            "bottom": null,
            "display": null,
            "flex": null,
            "flex_flow": null,
            "grid_area": null,
            "grid_auto_columns": null,
            "grid_auto_flow": null,
            "grid_auto_rows": null,
            "grid_column": null,
            "grid_gap": null,
            "grid_row": null,
            "grid_template_areas": null,
            "grid_template_columns": null,
            "grid_template_rows": null,
            "height": null,
            "justify_content": null,
            "justify_items": null,
            "left": null,
            "margin": null,
            "max_height": null,
            "max_width": null,
            "min_height": null,
            "min_width": null,
            "object_fit": null,
            "object_position": null,
            "order": null,
            "overflow": null,
            "overflow_x": null,
            "overflow_y": null,
            "padding": null,
            "right": null,
            "top": null,
            "visibility": null,
            "width": null
          }
        },
        "c826ea32231742e2a6fbbd637e29a2bd": {
          "model_module": "@jupyter-widgets/base",
          "model_module_version": "1.2.0",
          "model_name": "LayoutModel",
          "state": {
            "_model_module": "@jupyter-widgets/base",
            "_model_module_version": "1.2.0",
            "_model_name": "LayoutModel",
            "_view_count": null,
            "_view_module": "@jupyter-widgets/base",
            "_view_module_version": "1.2.0",
            "_view_name": "LayoutView",
            "align_content": null,
            "align_items": null,
            "align_self": null,
            "border": null,
            "bottom": null,
            "display": null,
            "flex": null,
            "flex_flow": null,
            "grid_area": null,
            "grid_auto_columns": null,
            "grid_auto_flow": null,
            "grid_auto_rows": null,
            "grid_column": null,
            "grid_gap": null,
            "grid_row": null,
            "grid_template_areas": null,
            "grid_template_columns": null,
            "grid_template_rows": null,
            "height": null,
            "justify_content": null,
            "justify_items": null,
            "left": null,
            "margin": null,
            "max_height": null,
            "max_width": null,
            "min_height": null,
            "min_width": null,
            "object_fit": null,
            "object_position": null,
            "order": null,
            "overflow": null,
            "overflow_x": null,
            "overflow_y": null,
            "padding": null,
            "right": null,
            "top": null,
            "visibility": null,
            "width": null
          }
        },
        "cd069fcbe65f41e886485b63b2a3e079": {
          "model_module": "@jupyter-widgets/controls",
          "model_module_version": "1.5.0",
          "model_name": "DescriptionStyleModel",
          "state": {
            "_model_module": "@jupyter-widgets/controls",
            "_model_module_version": "1.5.0",
            "_model_name": "DescriptionStyleModel",
            "_view_count": null,
            "_view_module": "@jupyter-widgets/base",
            "_view_module_version": "1.2.0",
            "_view_name": "StyleView",
            "description_width": ""
          }
        },
        "d81fc78ce6154dee8175b28fcc92233f": {
          "model_module": "@jupyter-widgets/base",
          "model_module_version": "1.2.0",
          "model_name": "LayoutModel",
          "state": {
            "_model_module": "@jupyter-widgets/base",
            "_model_module_version": "1.2.0",
            "_model_name": "LayoutModel",
            "_view_count": null,
            "_view_module": "@jupyter-widgets/base",
            "_view_module_version": "1.2.0",
            "_view_name": "LayoutView",
            "align_content": null,
            "align_items": null,
            "align_self": null,
            "border": null,
            "bottom": null,
            "display": null,
            "flex": null,
            "flex_flow": null,
            "grid_area": null,
            "grid_auto_columns": null,
            "grid_auto_flow": null,
            "grid_auto_rows": null,
            "grid_column": null,
            "grid_gap": null,
            "grid_row": null,
            "grid_template_areas": null,
            "grid_template_columns": null,
            "grid_template_rows": null,
            "height": null,
            "justify_content": null,
            "justify_items": null,
            "left": null,
            "margin": null,
            "max_height": null,
            "max_width": null,
            "min_height": null,
            "min_width": null,
            "object_fit": null,
            "object_position": null,
            "order": null,
            "overflow": null,
            "overflow_x": null,
            "overflow_y": null,
            "padding": null,
            "right": null,
            "top": null,
            "visibility": null,
            "width": null
          }
        },
        "e3c95779d9104b70a09198e430008b02": {
          "model_module": "@jupyter-widgets/controls",
          "model_module_version": "1.5.0",
          "model_name": "FloatProgressModel",
          "state": {
            "_dom_classes": [],
            "_model_module": "@jupyter-widgets/controls",
            "_model_module_version": "1.5.0",
            "_model_name": "FloatProgressModel",
            "_view_count": null,
            "_view_module": "@jupyter-widgets/controls",
            "_view_module_version": "1.5.0",
            "_view_name": "ProgressView",
            "bar_style": "success",
            "description": "",
            "description_tooltip": null,
            "layout": "IPY_MODEL_bf5837533c144641afe9c94e6aab5d92",
            "max": 466062,
            "min": 0,
            "orientation": "horizontal",
            "style": "IPY_MODEL_1acf08cdc248423db18adb9505443f17",
            "value": 466062
          }
        },
        "e87d170b78534586aa438da04bab509b": {
          "model_module": "@jupyter-widgets/controls",
          "model_module_version": "1.5.0",
          "model_name": "DescriptionStyleModel",
          "state": {
            "_model_module": "@jupyter-widgets/controls",
            "_model_module_version": "1.5.0",
            "_model_name": "DescriptionStyleModel",
            "_view_count": null,
            "_view_module": "@jupyter-widgets/base",
            "_view_module_version": "1.2.0",
            "_view_name": "StyleView",
            "description_width": ""
          }
        },
        "eb0181e30c9b48b6a66592f945fed6ff": {
          "model_module": "@jupyter-widgets/controls",
          "model_module_version": "1.5.0",
          "model_name": "DescriptionStyleModel",
          "state": {
            "_model_module": "@jupyter-widgets/controls",
            "_model_module_version": "1.5.0",
            "_model_name": "DescriptionStyleModel",
            "_view_count": null,
            "_view_module": "@jupyter-widgets/base",
            "_view_module_version": "1.2.0",
            "_view_name": "StyleView",
            "description_width": ""
          }
        },
        "eebc324aa81040ebb0943dc82f7fce90": {
          "model_module": "@jupyter-widgets/controls",
          "model_module_version": "1.5.0",
          "model_name": "HBoxModel",
          "state": {
            "_dom_classes": [],
            "_model_module": "@jupyter-widgets/controls",
            "_model_module_version": "1.5.0",
            "_model_name": "HBoxModel",
            "_view_count": null,
            "_view_module": "@jupyter-widgets/controls",
            "_view_module_version": "1.5.0",
            "_view_name": "HBoxView",
            "box_style": "",
            "children": [
              "IPY_MODEL_aad4a65f0fe34847957d119f5c8f2d66",
              "IPY_MODEL_e3c95779d9104b70a09198e430008b02",
              "IPY_MODEL_9115295ff29641c090ed6f9797b755ef"
            ],
            "layout": "IPY_MODEL_3ee4ef95177344e79a7669e11749ed8e"
          }
        },
        "efe8faaea18c47bdb5f902d54d44603c": {
          "model_module": "@jupyter-widgets/controls",
          "model_module_version": "1.5.0",
          "model_name": "ProgressStyleModel",
          "state": {
            "_model_module": "@jupyter-widgets/controls",
            "_model_module_version": "1.5.0",
            "_model_name": "ProgressStyleModel",
            "_view_count": null,
            "_view_module": "@jupyter-widgets/base",
            "_view_module_version": "1.2.0",
            "_view_name": "StyleView",
            "bar_color": null,
            "description_width": ""
          }
        },
        "f2667c742003456dae9bc439d22e8364": {
          "model_module": "@jupyter-widgets/base",
          "model_module_version": "1.2.0",
          "model_name": "LayoutModel",
          "state": {
            "_model_module": "@jupyter-widgets/base",
            "_model_module_version": "1.2.0",
            "_model_name": "LayoutModel",
            "_view_count": null,
            "_view_module": "@jupyter-widgets/base",
            "_view_module_version": "1.2.0",
            "_view_name": "LayoutView",
            "align_content": null,
            "align_items": null,
            "align_self": null,
            "border": null,
            "bottom": null,
            "display": null,
            "flex": null,
            "flex_flow": null,
            "grid_area": null,
            "grid_auto_columns": null,
            "grid_auto_flow": null,
            "grid_auto_rows": null,
            "grid_column": null,
            "grid_gap": null,
            "grid_row": null,
            "grid_template_areas": null,
            "grid_template_columns": null,
            "grid_template_rows": null,
            "height": null,
            "justify_content": null,
            "justify_items": null,
            "left": null,
            "margin": null,
            "max_height": null,
            "max_width": null,
            "min_height": null,
            "min_width": null,
            "object_fit": null,
            "object_position": null,
            "order": null,
            "overflow": null,
            "overflow_x": null,
            "overflow_y": null,
            "padding": null,
            "right": null,
            "top": null,
            "visibility": null,
            "width": null
          }
        },
        "f32fc7255c5e4cf4a839fb90b3f63f39": {
          "model_module": "@jupyter-widgets/base",
          "model_module_version": "1.2.0",
          "model_name": "LayoutModel",
          "state": {
            "_model_module": "@jupyter-widgets/base",
            "_model_module_version": "1.2.0",
            "_model_name": "LayoutModel",
            "_view_count": null,
            "_view_module": "@jupyter-widgets/base",
            "_view_module_version": "1.2.0",
            "_view_name": "LayoutView",
            "align_content": null,
            "align_items": null,
            "align_self": null,
            "border": null,
            "bottom": null,
            "display": null,
            "flex": null,
            "flex_flow": null,
            "grid_area": null,
            "grid_auto_columns": null,
            "grid_auto_flow": null,
            "grid_auto_rows": null,
            "grid_column": null,
            "grid_gap": null,
            "grid_row": null,
            "grid_template_areas": null,
            "grid_template_columns": null,
            "grid_template_rows": null,
            "height": null,
            "justify_content": null,
            "justify_items": null,
            "left": null,
            "margin": null,
            "max_height": null,
            "max_width": null,
            "min_height": null,
            "min_width": null,
            "object_fit": null,
            "object_position": null,
            "order": null,
            "overflow": null,
            "overflow_x": null,
            "overflow_y": null,
            "padding": null,
            "right": null,
            "top": null,
            "visibility": null,
            "width": null
          }
        },
        "f9289ba08ad24698b24e943b5e2f012d": {
          "model_module": "@jupyter-widgets/controls",
          "model_module_version": "1.5.0",
          "model_name": "DescriptionStyleModel",
          "state": {
            "_model_module": "@jupyter-widgets/controls",
            "_model_module_version": "1.5.0",
            "_model_name": "DescriptionStyleModel",
            "_view_count": null,
            "_view_module": "@jupyter-widgets/base",
            "_view_module_version": "1.2.0",
            "_view_name": "StyleView",
            "description_width": ""
          }
        }
      }
    }
  },
  "nbformat": 4,
  "nbformat_minor": 0
}
