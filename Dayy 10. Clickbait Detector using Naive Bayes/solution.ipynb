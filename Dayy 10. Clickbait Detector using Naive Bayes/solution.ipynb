{
  "cells": [
    {
      "cell_type": "markdown",
      "id": "b46xEe0-yqqv",
      "metadata": {
        "id": "b46xEe0-yqqv"
      },
      "source": [
        "## Name: Vatsal Vinay Parikh"
      ]
    },
    {
      "cell_type": "markdown",
      "id": "vTnnHwVeyuWw",
      "metadata": {
        "id": "vTnnHwVeyuWw"
      },
      "source": [
        "# Text Classification – Naïve Bayes"
      ]
    },
    {
      "cell_type": "markdown",
      "id": "smh1Jvyi4_kE",
      "metadata": {
        "id": "smh1Jvyi4_kE"
      },
      "source": [
        "You will implement Naïve Bayes from scratch (using numpy and pandas) to do clickbait text detection. You will compare our performance with the Scikit-learn’s Naïve Bayes implementation. We will use the **logarithm version of Naïve Bayes**, which simply take the logarithm outside of the final product of the Naïve Bayes formulation for text classification. Specifically, we want to build classifier that returns a prediction label (y^*) as follows."
      ]
    },
    {
      "cell_type": "code",
      "execution_count": 1,
      "id": "f1d95443",
      "metadata": {
        "id": "f1d95443"
      },
      "outputs": [],
      "source": [
        "import pandas as pd\n",
        "import numpy as np\n",
        "from sklearn.feature_extraction.text import CountVectorizer\n",
        "from sklearn.model_selection import train_test_split\n",
        "from sklearn.metrics import classification_report\n",
        "import tqdm\n",
        "import time"
      ]
    },
    {
      "cell_type": "code",
      "execution_count": 2,
      "id": "7ABb0_ED2uja",
      "metadata": {
        "colab": {
          "base_uri": "https://localhost:8080/"
        },
        "id": "7ABb0_ED2uja",
        "outputId": "5ef6a9ae-c295-4abf-bb5b-66affcbd9d0c"
      },
      "outputs": [
        {
          "name": "stdout",
          "output_type": "stream",
          "text": [
            "Collecting datasets\n",
            "  Downloading datasets-3.1.0-py3-none-any.whl.metadata (20 kB)\n",
            "Requirement already satisfied: filelock in /usr/local/lib/python3.10/dist-packages (from datasets) (3.16.1)\n",
            "Requirement already satisfied: numpy>=1.17 in /usr/local/lib/python3.10/dist-packages (from datasets) (1.26.4)\n",
            "Requirement already satisfied: pyarrow>=15.0.0 in /usr/local/lib/python3.10/dist-packages (from datasets) (17.0.0)\n",
            "Collecting dill<0.3.9,>=0.3.0 (from datasets)\n",
            "  Downloading dill-0.3.8-py3-none-any.whl.metadata (10 kB)\n",
            "Requirement already satisfied: pandas in /usr/local/lib/python3.10/dist-packages (from datasets) (2.2.2)\n",
            "Requirement already satisfied: requests>=2.32.2 in /usr/local/lib/python3.10/dist-packages (from datasets) (2.32.3)\n",
            "Requirement already satisfied: tqdm>=4.66.3 in /usr/local/lib/python3.10/dist-packages (from datasets) (4.66.6)\n",
            "Collecting xxhash (from datasets)\n",
            "  Downloading xxhash-3.5.0-cp310-cp310-manylinux_2_17_x86_64.manylinux2014_x86_64.whl.metadata (12 kB)\n",
            "Collecting multiprocess<0.70.17 (from datasets)\n",
            "  Downloading multiprocess-0.70.16-py310-none-any.whl.metadata (7.2 kB)\n",
            "Collecting fsspec<=2024.9.0,>=2023.1.0 (from fsspec[http]<=2024.9.0,>=2023.1.0->datasets)\n",
            "  Downloading fsspec-2024.9.0-py3-none-any.whl.metadata (11 kB)\n",
            "Requirement already satisfied: aiohttp in /usr/local/lib/python3.10/dist-packages (from datasets) (3.10.10)\n",
            "Requirement already satisfied: huggingface-hub>=0.23.0 in /usr/local/lib/python3.10/dist-packages (from datasets) (0.24.7)\n",
            "Requirement already satisfied: packaging in /usr/local/lib/python3.10/dist-packages (from datasets) (24.1)\n",
            "Requirement already satisfied: pyyaml>=5.1 in /usr/local/lib/python3.10/dist-packages (from datasets) (6.0.2)\n",
            "Requirement already satisfied: aiohappyeyeballs>=2.3.0 in /usr/local/lib/python3.10/dist-packages (from aiohttp->datasets) (2.4.3)\n",
            "Requirement already satisfied: aiosignal>=1.1.2 in /usr/local/lib/python3.10/dist-packages (from aiohttp->datasets) (1.3.1)\n",
            "Requirement already satisfied: attrs>=17.3.0 in /usr/local/lib/python3.10/dist-packages (from aiohttp->datasets) (24.2.0)\n",
            "Requirement already satisfied: frozenlist>=1.1.1 in /usr/local/lib/python3.10/dist-packages (from aiohttp->datasets) (1.5.0)\n",
            "Requirement already satisfied: multidict<7.0,>=4.5 in /usr/local/lib/python3.10/dist-packages (from aiohttp->datasets) (6.1.0)\n",
            "Requirement already satisfied: yarl<2.0,>=1.12.0 in /usr/local/lib/python3.10/dist-packages (from aiohttp->datasets) (1.17.0)\n",
            "Requirement already satisfied: async-timeout<5.0,>=4.0 in /usr/local/lib/python3.10/dist-packages (from aiohttp->datasets) (4.0.3)\n",
            "Requirement already satisfied: typing-extensions>=3.7.4.3 in /usr/local/lib/python3.10/dist-packages (from huggingface-hub>=0.23.0->datasets) (4.12.2)\n",
            "Requirement already satisfied: charset-normalizer<4,>=2 in /usr/local/lib/python3.10/dist-packages (from requests>=2.32.2->datasets) (3.4.0)\n",
            "Requirement already satisfied: idna<4,>=2.5 in /usr/local/lib/python3.10/dist-packages (from requests>=2.32.2->datasets) (3.10)\n",
            "Requirement already satisfied: urllib3<3,>=1.21.1 in /usr/local/lib/python3.10/dist-packages (from requests>=2.32.2->datasets) (2.2.3)\n",
            "Requirement already satisfied: certifi>=2017.4.17 in /usr/local/lib/python3.10/dist-packages (from requests>=2.32.2->datasets) (2024.8.30)\n",
            "Requirement already satisfied: python-dateutil>=2.8.2 in /usr/local/lib/python3.10/dist-packages (from pandas->datasets) (2.8.2)\n",
            "Requirement already satisfied: pytz>=2020.1 in /usr/local/lib/python3.10/dist-packages (from pandas->datasets) (2024.2)\n",
            "Requirement already satisfied: tzdata>=2022.7 in /usr/local/lib/python3.10/dist-packages (from pandas->datasets) (2024.2)\n",
            "Requirement already satisfied: six>=1.5 in /usr/local/lib/python3.10/dist-packages (from python-dateutil>=2.8.2->pandas->datasets) (1.16.0)\n",
            "Requirement already satisfied: propcache>=0.2.0 in /usr/local/lib/python3.10/dist-packages (from yarl<2.0,>=1.12.0->aiohttp->datasets) (0.2.0)\n",
            "Downloading datasets-3.1.0-py3-none-any.whl (480 kB)\n",
            "\u001b[2K   \u001b[90m━━━━━━━━━━━━━━━━━━━━━━━━━━━━━━━━━━━━━━━━\u001b[0m \u001b[32m480.6/480.6 kB\u001b[0m \u001b[31m9.4 MB/s\u001b[0m eta \u001b[36m0:00:00\u001b[0m\n",
            "\u001b[?25hDownloading dill-0.3.8-py3-none-any.whl (116 kB)\n",
            "\u001b[2K   \u001b[90m━━━━━━━━━━━━━━━━━━━━━━━━━━━━━━━━━━━━━━━━\u001b[0m \u001b[32m116.3/116.3 kB\u001b[0m \u001b[31m7.8 MB/s\u001b[0m eta \u001b[36m0:00:00\u001b[0m\n",
            "\u001b[?25hDownloading fsspec-2024.9.0-py3-none-any.whl (179 kB)\n",
            "\u001b[2K   \u001b[90m━━━━━━━━━━━━━━━━━━━━━━━━━━━━━━━━━━━━━━━━\u001b[0m \u001b[32m179.3/179.3 kB\u001b[0m \u001b[31m11.5 MB/s\u001b[0m eta \u001b[36m0:00:00\u001b[0m\n",
            "\u001b[?25hDownloading multiprocess-0.70.16-py310-none-any.whl (134 kB)\n",
            "\u001b[2K   \u001b[90m━━━━━━━━━━━━━━━━━━━━━━━━━━━━━━━━━━━━━━━━\u001b[0m \u001b[32m134.8/134.8 kB\u001b[0m \u001b[31m10.0 MB/s\u001b[0m eta \u001b[36m0:00:00\u001b[0m\n",
            "\u001b[?25hDownloading xxhash-3.5.0-cp310-cp310-manylinux_2_17_x86_64.manylinux2014_x86_64.whl (194 kB)\n",
            "\u001b[2K   \u001b[90m━━━━━━━━━━━━━━━━━━━━━━━━━━━━━━━━━━━━━━━━\u001b[0m \u001b[32m194.1/194.1 kB\u001b[0m \u001b[31m12.1 MB/s\u001b[0m eta \u001b[36m0:00:00\u001b[0m\n",
            "\u001b[?25hInstalling collected packages: xxhash, fsspec, dill, multiprocess, datasets\n",
            "  Attempting uninstall: fsspec\n",
            "    Found existing installation: fsspec 2024.10.0\n",
            "    Uninstalling fsspec-2024.10.0:\n",
            "      Successfully uninstalled fsspec-2024.10.0\n",
            "\u001b[31mERROR: pip's dependency resolver does not currently take into account all the packages that are installed. This behaviour is the source of the following dependency conflicts.\n",
            "gcsfs 2024.10.0 requires fsspec==2024.10.0, but you have fsspec 2024.9.0 which is incompatible.\u001b[0m\u001b[31m\n",
            "\u001b[0mSuccessfully installed datasets-3.1.0 dill-0.3.8 fsspec-2024.9.0 multiprocess-0.70.16 xxhash-3.5.0\n"
          ]
        }
      ],
      "source": [
        "!pip install datasets"
      ]
    },
    {
      "cell_type": "code",
      "execution_count": 3,
      "id": "027809a3-54d5-45d7-a029-27a8be86b445",
      "metadata": {
        "id": "027809a3-54d5-45d7-a029-27a8be86b445"
      },
      "outputs": [],
      "source": [
        "def load_yelp_data():\n",
        "    from datasets import load_dataset\n",
        "    dataset = load_dataset(\"yelp_review_full\")\n",
        "    texts = dataset['train']['text']\n",
        "    labels = dataset['train']['label']\n",
        "    test_texts = dataset['test']['text']\n",
        "    test_labels = dataset['test']['label']\n",
        "    idx = np.random.choice(len(test_texts), 2000)\n",
        "    test_texts = [test_texts[i] for i in idx]\n",
        "    test_labels = [test_labels[i] for i in idx]\n",
        "\n",
        "    return texts, labels, test_texts, test_labels"
      ]
    },
    {
      "cell_type": "code",
      "execution_count": 4,
      "id": "f9de47e9",
      "metadata": {
        "id": "f9de47e9"
      },
      "outputs": [],
      "source": [
        "def load_clickbait_data():\n",
        "    df = pd.read_csv('./clickbait_data.csv')\n",
        "    df, test_df = train_test_split(df, test_size=0.1, random_state=17)\n",
        "    texts = df['headline']\n",
        "    labels = df['clickbait'].values.astype(int)\n",
        "    test_texts = test_df['headline'].values\n",
        "    test_labels = test_df['clickbait'].values.astype(int)\n",
        "\n",
        "    return texts, labels, test_texts, test_labels"
      ]
    },
    {
      "cell_type": "code",
      "execution_count": 5,
      "id": "aa977f7a",
      "metadata": {
        "id": "aa977f7a"
      },
      "outputs": [],
      "source": [
        "def feature_extraction(texts, test_texts):\n",
        "    vectorizer = CountVectorizer(max_features=10000, stop_words='english')\n",
        "    X = vectorizer.fit_transform(texts)\n",
        "    X_test = vectorizer.transform(test_texts)\n",
        "\n",
        "    return X, X_test, vectorizer"
      ]
    },
    {
      "cell_type": "markdown",
      "id": "b98d8e5e-bc43-4a27-977c-6091c0d904c4",
      "metadata": {
        "id": "b98d8e5e-bc43-4a27-977c-6091c0d904c4"
      },
      "source": [
        "We will calculate log P(x, y=k) for all classes/labels k (e.g., “clickbait” and “non-clickbait”), and we will output the final prediction as class k that has the largest log P(x,y=k) score. In the given template, the term log P(y=k) is called “log_prob_class” and the term log P (x_t|y=k) is one element of a big table called “log_prob_token_count_per_class”. Example outputs of the two terms are shown below. “log_prob_token_count_per_class” is a table, columns of which are features or tokens and rows of which are labels/classes. For example, P(“zombie”|y=0)=-11.400261 and P(“zombie”|y=1)=- 9.774381"
      ]
    },
    {
      "cell_type": "code",
      "execution_count": 6,
      "id": "144fd0f4",
      "metadata": {
        "id": "144fd0f4"
      },
      "outputs": [],
      "source": [
        "def train_naive_bayes(X, labels, vectorizer):\n",
        "    # Convert sparse matrix to DataFrame for easier manipulation\n",
        "    X_df = pd.DataFrame(X.toarray(), columns=vectorizer.get_feature_names_out())\n",
        "    X_df['--label--'] = np.array(labels).astype(int)\n",
        "\n",
        "    # Calculate log_prob_class (log P(y=k))\n",
        "    class_counts = X_df['--label--'].value_counts().sort_index()\n",
        "    total_docs = len(labels)\n",
        "    prob_class = class_counts / total_docs\n",
        "    log_prob_class = np.log(prob_class)\n",
        "\n",
        "    # Calculate log_prob_token_count_per_class (log P(x_t | y=k))\n",
        "    # We calculate this by summing token counts per class, applying Laplace smoothing\n",
        "    tokens = X_df.columns[:-1]  # Exclude label column\n",
        "    log_prob_token_count_per_class = {}\n",
        "\n",
        "    for cls in class_counts.index:\n",
        "        # Filter rows for the given class\n",
        "        class_df = X_df[X_df['--label--'] == cls]\n",
        "\n",
        "        # Sum token counts for this class and apply Laplace smoothing\n",
        "        token_counts = class_df[tokens].sum(axis=0) + 1  # Adding 1 for Laplace smoothing\n",
        "        total_tokens = token_counts.sum()\n",
        "\n",
        "        # Calculate log probability of each token given the class\n",
        "        log_prob_token_count_per_class[cls] = np.log(token_counts / total_tokens)\n",
        "\n",
        "    return log_prob_token_count_per_class, log_prob_class"
      ]
    },
    {
      "cell_type": "markdown",
      "id": "qWQScmDf_XXa",
      "metadata": {
        "id": "qWQScmDf_XXa"
      },
      "source": [
        "The `train_naive_bayes` function implements the training phase of the Naive Bayes classifier, customized for text classification tasks. Given training data (`X`), labels (`labels`), and a `vectorizer`, this function calculates key probability components needed for text classification.\n",
        "\n",
        "### Step-by-Step Breakdown:\n",
        "\n",
        "1. **Data Preparation**:\n",
        "   - The input `X` (a sparse matrix) is converted into a `DataFrame` (`X_df`) with columns representing features (tokens) extracted from the vectorizer. This conversion facilitates easier handling and manipulation of token counts.\n",
        "   - The `labels` are added to `X_df` as a new column (`'--label--'`), ensuring alignment between features and class labels. Each label is cast to an integer for consistency.\n",
        "\n",
        "2. **Calculating `log_prob_class`**:\n",
        "   - The term `log_prob_class` represents the prior log-probabilities, or `log P(y=k)`, for each class `k`. To calculate this, the function:\n",
        "     - Counts occurrences of each label (i.e., class) using `value_counts()` and sorts them to maintain label order.\n",
        "     - Calculates the probability of each class by dividing its count by the total number of documents (`total_docs`).\n",
        "     - Takes the natural logarithm of each class probability to compute `log_prob_class`.\n",
        "\n",
        "3. **Calculating `log_prob_token_count_per_class`**:\n",
        "   - This term represents the conditional log-probabilities, or `log P(x_t | y=k)`, where `x_t` is a token and `y=k` represents the class. The calculation for this term proceeds as follows:\n",
        "   - A loop iterates over each unique class `cls` (e.g., \"clickbait\" or \"non-clickbait\" in a clickbait detection context):\n",
        "     - Filters rows in `X_df` corresponding to the class.\n",
        "     - Sums the token counts across documents of that class to get total token occurrences. Laplace smoothing is applied by adding 1 to each count, ensuring no zero probabilities.\n",
        "     - Calculates the total count of all tokens for that class (`total_tokens`) to normalize each token count into a probability.\n",
        "     - Converts the probability of each token (given the class) into a log-probability and stores these values in a dictionary (`log_prob_token_count_per_class`) under the current class key.\n",
        "\n",
        "4. **Return Values**:\n",
        "   - The function returns two dictionaries:\n",
        "     - `log_prob_token_count_per_class`: A dictionary with class labels as keys and each value representing log-probabilities of each token given the class.\n",
        "     - `log_prob_class`: A `Series` containing the log-probability of each class.\n",
        "\n",
        "Together, these two components (`log_prob_class` and `log_prob_token_count_per_class`) allow for calculating the posterior log-probabilities for predicting the class of new documents, completing the training phase for Naive Bayes.\n"
      ]
    },
    {
      "cell_type": "code",
      "execution_count": 7,
      "id": "dbmTAODE3QbX",
      "metadata": {
        "id": "dbmTAODE3QbX"
      },
      "outputs": [],
      "source": [
        "def predict_single_doc(doc, vectorizer, log_prob_token_count_per_class, log_prob_class):\n",
        "    # Vectorize the document to get token counts\n",
        "    doc_vector = vectorizer.transform([doc]).toarray().flatten()\n",
        "\n",
        "    # Initialize a dictionary to store the log-probabilities for each class\n",
        "    class_log_probs = {}\n",
        "\n",
        "    # For each class, calculate the log-probability of the document belonging to that class\n",
        "    for cls in log_prob_class.index:  # e.g., cls could be 0 or 1 for non-clickbait/clickbait\n",
        "        # Start with the class prior probability\n",
        "        log_prob = log_prob_class[cls]\n",
        "\n",
        "        # Add the log probabilities for each token in the document\n",
        "        token_log_probs = log_prob_token_count_per_class[cls]\n",
        "        log_prob += np.sum(doc_vector * token_log_probs)\n",
        "\n",
        "        # Store the result in the dictionary\n",
        "        class_log_probs[cls] = log_prob\n",
        "\n",
        "    # Choose the class with the highest log-probability\n",
        "    pred = max(class_log_probs, key=class_log_probs.get)\n",
        "\n",
        "    return pred"
      ]
    },
    {
      "cell_type": "markdown",
      "id": "I84TR4yeAKZN",
      "metadata": {
        "id": "I84TR4yeAKZN"
      },
      "source": [
        "The `predict_single_doc` function performs document-level prediction for a single document using the trained Naive Bayes model. Given a document (`doc`), a `vectorizer` to convert the document into token counts, `log_prob_token_count_per_class` (representing conditional log-probabilities), and `log_prob_class` (class priors), this function calculates the log-probabilities for each class and determines the most likely class for the document.\n",
        "\n",
        "### Step-by-Step Explanation:\n",
        "\n",
        "1. **Document Vectorization**:\n",
        "   - The document (`doc`) is first vectorized using `vectorizer.transform([doc])`. This transformation converts the document into a numerical vector, `doc_vector`, where each entry represents the count of a specific token in the document. Flattening the array allows easy element-wise operations in subsequent steps.\n",
        "\n",
        "2. **Class Log-Probability Calculation**:\n",
        "   - A dictionary, `class_log_probs`, is initialized to store the computed log-probabilities for each class.\n",
        "   - The function then iterates over each class (e.g., 0 and 1, for non-clickbait and clickbait in a clickbait detection context) to calculate the log-probability of the document belonging to that class:\n",
        "     - **Start with the Class Prior Log-Probability**: `log_prob` is initialized with the class's prior log-probability from `log_prob_class[cls]`.\n",
        "     - **Add Token Log-Probabilities**: For each token present in the document vector, the function calculates the contribution to the overall log-probability. This is done by performing an element-wise multiplication between `doc_vector` and `token_log_probs` for the class, which represents the log-probability of each token occurring in documents of that class. The summed result is added to `log_prob` for that class.\n",
        "\n",
        "3. **Storing and Selecting the Final Prediction**:\n",
        "   - After calculating `log_prob` for each class, the results are stored in `class_log_probs`.\n",
        "   - The function selects the class with the highest log-probability in `class_log_probs` as the prediction, representing the class most likely to contain the given document.\n",
        "\n",
        "4. **Return the Prediction**:\n",
        "   - The function returns `pred`, the predicted class label with the highest log-probability score.\n",
        "\n",
        "In summary, `predict_single_doc` assesses each class's likelihood given the token distribution in `doc`, favoring the class with the maximum log-probability, and returns this as the predicted label.\n"
      ]
    },
    {
      "cell_type": "code",
      "execution_count": 9,
      "id": "d9789ac7",
      "metadata": {
        "id": "d9789ac7"
      },
      "outputs": [],
      "source": [
        "texts, labels, test_texts, test_labels = load_clickbait_data()"
      ]
    },
    {
      "cell_type": "code",
      "execution_count": 10,
      "id": "38b23706",
      "metadata": {
        "id": "38b23706"
      },
      "outputs": [],
      "source": [
        "X, X_test, vectorizer = feature_extraction(texts, test_texts)"
      ]
    },
    {
      "cell_type": "code",
      "execution_count": 11,
      "id": "e61aefdb",
      "metadata": {
        "id": "e61aefdb"
      },
      "outputs": [],
      "source": [
        "log_prob_token_count_per_class, log_prob_class = train_naive_bayes(X, labels, vectorizer)"
      ]
    },
    {
      "cell_type": "code",
      "execution_count": 12,
      "id": "nS_QecEK4Gez",
      "metadata": {
        "colab": {
          "base_uri": "https://localhost:8080/",
          "height": 178
        },
        "id": "nS_QecEK4Gez",
        "outputId": "37745d08-bb43-4997-c89b-69c758cfce1d"
      },
      "outputs": [
        {
          "data": {
            "text/html": [
              "<div>\n",
              "<style scoped>\n",
              "    .dataframe tbody tr th:only-of-type {\n",
              "        vertical-align: middle;\n",
              "    }\n",
              "\n",
              "    .dataframe tbody tr th {\n",
              "        vertical-align: top;\n",
              "    }\n",
              "\n",
              "    .dataframe thead th {\n",
              "        text-align: right;\n",
              "    }\n",
              "</style>\n",
              "<table border=\"1\" class=\"dataframe\">\n",
              "  <thead>\n",
              "    <tr style=\"text-align: right;\">\n",
              "      <th></th>\n",
              "      <th>count</th>\n",
              "    </tr>\n",
              "    <tr>\n",
              "      <th>--label--</th>\n",
              "      <th></th>\n",
              "    </tr>\n",
              "  </thead>\n",
              "  <tbody>\n",
              "    <tr>\n",
              "      <th>0</th>\n",
              "      <td>-0.695233</td>\n",
              "    </tr>\n",
              "    <tr>\n",
              "      <th>1</th>\n",
              "      <td>-0.691066</td>\n",
              "    </tr>\n",
              "  </tbody>\n",
              "</table>\n",
              "</div><br><label><b>dtype:</b> float64</label>"
            ],
            "text/plain": [
              "--label--\n",
              "0   -0.695233\n",
              "1   -0.691066\n",
              "Name: count, dtype: float64"
            ]
          },
          "execution_count": 12,
          "metadata": {},
          "output_type": "execute_result"
        }
      ],
      "source": [
        "log_prob_class"
      ]
    },
    {
      "cell_type": "code",
      "execution_count": 13,
      "id": "C_JvTrGZ4MZj",
      "metadata": {
        "colab": {
          "base_uri": "https://localhost:8080/"
        },
        "id": "C_JvTrGZ4MZj",
        "outputId": "fb931476-6179-4e4e-dd2e-e317cb1d45f5"
      },
      "outputs": [
        {
          "data": {
            "text/plain": [
              "{0: 00           -10.707113\n",
              " 000           -6.736821\n",
              " 00s          -11.400261\n",
              " 05            -9.790823\n",
              " 08            -8.404528\n",
              "                 ...    \n",
              " zotob        -10.301648\n",
              " zuckerberg   -10.707113\n",
              " zuma          -9.790823\n",
              " zurich       -10.301648\n",
              " íngrid       -10.013966\n",
              " Length: 10000, dtype: float64,\n",
              " 1: 00           -10.285206\n",
              " 000           -8.818869\n",
              " 00s           -7.451993\n",
              " 05           -11.383819\n",
              " 08           -11.383819\n",
              "                 ...    \n",
              " zotob        -11.383819\n",
              " zuckerberg    -9.997524\n",
              " zuma         -11.383819\n",
              " zurich       -11.383819\n",
              " íngrid       -11.383819\n",
              " Length: 10000, dtype: float64}"
            ]
          },
          "execution_count": 13,
          "metadata": {},
          "output_type": "execute_result"
        }
      ],
      "source": [
        "log_prob_token_count_per_class"
      ]
    },
    {
      "cell_type": "code",
      "execution_count": 14,
      "id": "4ddd2d91",
      "metadata": {
        "colab": {
          "base_uri": "https://localhost:8080/"
        },
        "id": "4ddd2d91",
        "outputId": "ba7cd36a-0e2d-416c-80f0-6c29a480e669"
      },
      "outputs": [
        {
          "name": "stdout",
          "output_type": "stream",
          "text": [
            "Done 0\n",
            "Done 500\n",
            "Done 1000\n",
            "Done 1500\n",
            "Done 2000\n",
            "Done 2500\n",
            "Done 3000\n"
          ]
        }
      ],
      "source": [
        "preds = []\n",
        "for i, doc in enumerate(test_texts):\n",
        "    preds.append(predict_single_doc(doc, vectorizer, log_prob_token_count_per_class, log_prob_class))\n",
        "    if i % 500 == 0:\n",
        "        print(\"Done\", i)"
      ]
    },
    {
      "cell_type": "code",
      "execution_count": 15,
      "id": "59dedced",
      "metadata": {
        "colab": {
          "base_uri": "https://localhost:8080/"
        },
        "id": "59dedced",
        "outputId": "1d363815-5025-498b-e79b-d305749debca"
      },
      "outputs": [
        {
          "name": "stdout",
          "output_type": "stream",
          "text": [
            "              precision    recall  f1-score   support\n",
            "\n",
            "           0       0.97      0.96      0.96      1631\n",
            "           1       0.95      0.97      0.96      1569\n",
            "\n",
            "    accuracy                           0.96      3200\n",
            "   macro avg       0.96      0.96      0.96      3200\n",
            "weighted avg       0.96      0.96      0.96      3200\n",
            "\n"
          ]
        }
      ],
      "source": [
        "print(classification_report(test_labels, preds))"
      ]
    },
    {
      "cell_type": "markdown",
      "id": "bb94b413",
      "metadata": {
        "id": "bb94b413"
      },
      "source": [
        "---"
      ]
    },
    {
      "cell_type": "markdown",
      "id": "2bdfc07f",
      "metadata": {
        "id": "2bdfc07f"
      },
      "source": [
        "#### Compare your results with the scikit-learn Naive Bayes implementation"
      ]
    },
    {
      "cell_type": "code",
      "execution_count": 16,
      "id": "93e0bbc1",
      "metadata": {
        "colab": {
          "base_uri": "https://localhost:8080/"
        },
        "id": "93e0bbc1",
        "outputId": "4821c3ed-01f1-40b4-824d-dbfdc0222820"
      },
      "outputs": [
        {
          "name": "stdout",
          "output_type": "stream",
          "text": [
            "              precision    recall  f1-score   support\n",
            "\n",
            "           0       0.97      0.96      0.96      1631\n",
            "           1       0.95      0.97      0.96      1569\n",
            "\n",
            "    accuracy                           0.96      3200\n",
            "   macro avg       0.96      0.96      0.96      3200\n",
            "weighted avg       0.96      0.96      0.96      3200\n",
            "\n"
          ]
        }
      ],
      "source": [
        "from sklearn.naive_bayes import MultinomialNB\n",
        "clf = MultinomialNB()\n",
        "clf.fit(X, labels)\n",
        "print(classification_report(test_labels, clf.predict(X_test)))"
      ]
    },
    {
      "cell_type": "markdown",
      "id": "6Vq5h2NxAlQE",
      "metadata": {
        "id": "6Vq5h2NxAlQE"
      },
      "source": [
        "### Comparison and Evaluation of Custom Naive Bayes with Scikit-learn's Implementation\n",
        "\n",
        "The Naive Bayes model implemented from scratch was tested on the given dataset and evaluated in terms of **precision**, **recall**, **F1-score**, and **overall accuracy**. The results achieved are as follows:\n",
        "\n",
        "| Metric               | Class 0 (Non-clickbait) | Class 1 (Clickbait) | Accuracy | Macro Avg | Weighted Avg |\n",
        "|----------------------|-------------------------|----------------------|----------|-----------|--------------|\n",
        "| **Precision**        | 0.97                    | 0.95                 | 0.96     | 0.96      | 0.96         |\n",
        "| **Recall**           | 0.96                    | 0.97                 | 0.96     | 0.96      | 0.96         |\n",
        "| **F1-score**         | 0.96                    | 0.96                 |          | 0.96      | 0.96         |\n",
        "| **Support**          | 1631                    | 1569                 | 3200     | -         | -            |\n",
        "\n",
        "Using Scikit-learn’s `MultinomialNB`, we applied the same dataset and metrics to validate our results, resulting in the following identical scores:\n",
        "\n",
        "| Metric               | Class 0 (Non-clickbait) | Class 1 (Clickbait) | Accuracy | Macro Avg | Weighted Avg |\n",
        "|----------------------|-------------------------|----------------------|----------|-----------|--------------|\n",
        "| **Precision**        | 0.97                    | 0.95                 | 0.96     | 0.96      | 0.96         |\n",
        "| **Recall**           | 0.96                    | 0.97                 | 0.96     | 0.96      | 0.96         |\n",
        "| **F1-score**         | 0.96                    | 0.96                 |          | 0.96      | 0.96         |\n",
        "| **Support**          | 1631                    | 1569                 | 3200     | -         | -            |\n",
        "\n",
        "### Summary of Comparison\n",
        "Both implementations produced identical results across all metrics, indicating that our custom Naive Bayes implementation aligns closely with the performance of Scikit-learn's `MultinomialNB` model. This alignment suggests that the log-probability calculations and smoothing in the custom model were applied correctly.\n"
      ]
    },
    {
      "cell_type": "markdown",
      "id": "3bf8f40b-2d4d-46d8-a918-8f308f7b3c0c",
      "metadata": {
        "id": "3bf8f40b-2d4d-46d8-a918-8f308f7b3c0c"
      },
      "source": [
        "### Task 2"
      ]
    },
    {
      "cell_type": "markdown",
      "id": "X8o6cIlb559_",
      "metadata": {
        "id": "X8o6cIlb559_"
      },
      "source": [
        "You will test your algorithm on a much larger dataset (yelp review dataset) with more labels (4 labels instead of 2 for clickbait). You will compare your performance against scikit-learn’s Naïve Bayes implementation as well. You are also asked to optimize the runtime of your Naïve Bayes implementation during training and inference. The code to measure the runtime is already provided. Please document your findings on what were helpful to optimize your code’s runtime."
      ]
    },
    {
      "cell_type": "code",
      "execution_count": 38,
      "id": "Nx8jtIopByJT",
      "metadata": {
        "id": "Nx8jtIopByJT"
      },
      "outputs": [],
      "source": [
        "from scipy.sparse import csr_matrix\n",
        "\n",
        "def train_naive_bayes(X, labels, vectorizer):\n",
        "    unique_labels, class_counts = np.unique(labels, return_counts=True)\n",
        "    total_docs = len(labels)\n",
        "    log_prob_class = np.log(class_counts / total_docs)\n",
        "\n",
        "    # Get the number of classes and features\n",
        "    num_classes = len(unique_labels)  # Number of unique classes\n",
        "    num_features = X.shape[1]       # Number of features from the feature matrix\n",
        "\n",
        "    # Initialize an empty dictionary to store log probabilities for each class\n",
        "    log_prob_token_count_per_class = {}\n",
        "\n",
        "    # Create an empty array with the correct shape to store the log probabilities\n",
        "    log_prob_token_count_per_class_array = np.zeros((num_classes, num_features))\n",
        "\n",
        "    for cls_index, cls in enumerate(unique_labels):\n",
        "        # Select only rows (documents) belonging to the current class\n",
        "        cls_indices = np.where(labels == cls)[0]\n",
        "        cls_token_counts = X[cls_indices].sum(axis=0) + 1  # Laplace smoothing\n",
        "        total_class_tokens = cls_token_counts.sum()\n",
        "\n",
        "        # Log-probabilities of tokens given class\n",
        "        log_prob_token_count_per_class[cls] = np.log(cls_token_counts / total_class_tokens).A1\n",
        "\n",
        "        # Store the log probabilities in the array\n",
        "        log_prob_token_count_per_class_array[cls_index] = log_prob_token_count_per_class[cls]\n",
        "\n",
        "    return log_prob_token_count_per_class_array, log_prob_class"
      ]
    },
    {
      "cell_type": "markdown",
      "id": "Oz2jRQUtB27L",
      "metadata": {
        "id": "Oz2jRQUtB27L"
      },
      "source": [
        "\n",
        "\n",
        "### Key Optimizations and Changes Implemented\n",
        "\n",
        "1. **Use of `csr_matrix` for Sparse Data Efficiency**:\n",
        "   We assume `X` is a sparse matrix in `csr_matrix` format, allowing for efficient memory usage and faster matrix operations on high-dimensional data. This change significantly reduces memory overhead, as Yelp reviews have a large vocabulary (many features).\n",
        "\n",
        "2. **Class-wise Token Count Calculation**:\n",
        "   - We iterate over unique classes using `np.unique(labels, return_counts=True)`, which provides `unique_labels` and their respective counts, `class_counts`, in a single pass. This saves time by avoiding repeated operations on the label data.\n",
        "   - For each class, `cls_indices` efficiently selects documents corresponding to the class `cls`. Only these rows of the sparse matrix `X` are summed, giving the total token count per class (`cls_token_counts`). This approach reduces unnecessary computation by processing only relevant class documents in each loop iteration.\n",
        "\n",
        "3. **Efficient Storage and Retrieval of Log Probabilities**:\n",
        "   - We use an array `log_prob_token_count_per_class_array` with dimensions `(num_classes, num_features)` to store log-probabilities for each token-class combination. This array-based approach is optimized for fast access and minimizes the use of dictionaries, which reduces overhead when iterating and retrieving values during inference.\n",
        "   - The log-probabilities are calculated with Laplace smoothing (`+1`) and then stored directly in the pre-allocated array (`log_prob_token_count_per_class_array[cls_index]`). The use of `.A1` converts the result to a flat array, simplifying storage and ensuring compatibility with future operations.\n",
        "\n",
        "4. **Optimized Log Probability Calculations**:\n",
        "   - We compute `log_prob_class` directly from class counts, using vectorized `np.log(class_counts / total_docs)`. This approach removes the need for loops over individual classes when calculating prior probabilities, optimizing for large datasets with multiple classes.\n",
        "\n",
        "5. **Overall Structure for Improved Runtime**:\n",
        "   - By using optimized NumPy operations and leveraging sparse data handling, the function achieves faster runtime and lower memory usage, which is critical for handling larger datasets with multiple labels.\n",
        "\n"
      ]
    },
    {
      "cell_type": "code",
      "execution_count": 39,
      "id": "Y3lYqA14A8z8",
      "metadata": {
        "id": "Y3lYqA14A8z8"
      },
      "outputs": [],
      "source": [
        "def predict_single_doc(doc, vectorizer, log_prob_token_count_per_class, log_prob_class):\n",
        "    \"\"\"Predicts the class of a single document using Naive Bayes.\n",
        "\n",
        "    Args:\n",
        "        doc: The document to predict the class for.\n",
        "        vectorizer: The vectorizer used to transform the document into a feature vector.\n",
        "        log_prob_token_count_per_class: The log-probability of each token count given the class.\n",
        "        log_prob_class: The log-probability of each class.\n",
        "\n",
        "    Returns:\n",
        "        The predicted class of the document.\n",
        "    \"\"\"\n",
        "\n",
        "    # Transform the document into a feature vector\n",
        "    X = vectorizer.transform([doc])\n",
        "\n",
        "    # Get the indices of the non-zero elements in the feature vector\n",
        "    feature_indices = X.nonzero()[1]\n",
        "\n",
        "    # Initialize the log-probabilities of each class\n",
        "    log_probs = np.zeros(log_prob_class.shape[0])\n",
        "\n",
        "    # For each class, calculate the log-probability of the document belonging to that class\n",
        "    for cls in range(log_prob_class.shape[0]):  # Iterate using range based on shape of array\n",
        "        # Start with the prior log-probability of the class\n",
        "        log_probs[cls] = log_prob_class[cls]\n",
        "\n",
        "        # Add the log-probabilities of the token counts given the class\n",
        "        for feature_index in feature_indices:\n",
        "            # Check if the feature index is within the bounds of the log_prob_token_count_per_class array\n",
        "            if 0 <= cls < log_prob_token_count_per_class.shape[0] and 0 <= feature_index < log_prob_token_count_per_class.shape[1]:\n",
        "                log_probs[cls] += log_prob_token_count_per_class[cls, feature_index]\n",
        "            else:\n",
        "                # Handle out-of-vocabulary words (e.g., ignore or assign a low probability)\n",
        "                pass  # Ignoring the out-of-vocabulary word in this case\n",
        "\n",
        "    # Determine the class with the highest log-probability\n",
        "    pred = np.argmax(log_probs)  # Store the prediction in pred\n",
        "\n",
        "    return pred  # Return the prediction"
      ]
    },
    {
      "cell_type": "code",
      "execution_count": 40,
      "id": "f9c4882a-7233-4c4c-89ae-ef70a9d0adc1",
      "metadata": {
        "id": "f9c4882a-7233-4c4c-89ae-ef70a9d0adc1"
      },
      "outputs": [],
      "source": [
        "texts, labels, test_texts, test_labels = load_yelp_data()"
      ]
    },
    {
      "cell_type": "code",
      "execution_count": 41,
      "id": "ae72b34b-efae-4bd8-b635-c57ead21e2a8",
      "metadata": {
        "id": "ae72b34b-efae-4bd8-b635-c57ead21e2a8"
      },
      "outputs": [],
      "source": [
        "X, X_test, vectorizer = feature_extraction(texts, test_texts)"
      ]
    },
    {
      "cell_type": "code",
      "execution_count": 42,
      "id": "e7c43165-c093-486e-a580-5f6a13439b28",
      "metadata": {
        "colab": {
          "base_uri": "https://localhost:8080/"
        },
        "id": "e7c43165-c093-486e-a580-5f6a13439b28",
        "outputId": "81ac566d-2e02-41ae-9fe7-efc3de1cdf89"
      },
      "outputs": [
        {
          "name": "stdout",
          "output_type": "stream",
          "text": [
            "Training Time= 0.45201778411865234\n"
          ]
        }
      ],
      "source": [
        "time0 = time.time()\n",
        "log_prob_token_count_per_class, log_prob_class = train_naive_bayes(X, labels, vectorizer)\n",
        "time1 = time.time()\n",
        "print(\"Training Time=\", time1-time0)"
      ]
    },
    {
      "cell_type": "code",
      "execution_count": 43,
      "id": "4d716329-fc09-431a-bc4c-eff9376e86d0",
      "metadata": {
        "colab": {
          "base_uri": "https://localhost:8080/"
        },
        "id": "4d716329-fc09-431a-bc4c-eff9376e86d0",
        "outputId": "e1591a19-31c5-427f-e75d-53cacfaf4546"
      },
      "outputs": [
        {
          "name": "stdout",
          "output_type": "stream",
          "text": [
            "Inference Time= 0.0017135143280029297\n"
          ]
        }
      ],
      "source": [
        "time0 = time.time()\n",
        "predict_single_doc(test_texts[0], vectorizer, log_prob_token_count_per_class, log_prob_class)\n",
        "time1 = time.time()\n",
        "print(\"Inference Time=\", time1-time0)"
      ]
    },
    {
      "cell_type": "code",
      "execution_count": 44,
      "id": "a2451718-cf43-4316-9bc5-acb03661ca91",
      "metadata": {
        "colab": {
          "base_uri": "https://localhost:8080/"
        },
        "id": "a2451718-cf43-4316-9bc5-acb03661ca91",
        "outputId": "fa243b5c-51e6-4bab-fe7a-c84b0862b5ce"
      },
      "outputs": [
        {
          "name": "stdout",
          "output_type": "stream",
          "text": [
            "Done 0\n",
            "Done 500\n",
            "Done 1000\n",
            "Done 1500\n"
          ]
        }
      ],
      "source": [
        "preds = []\n",
        "for i, doc in enumerate(test_texts):\n",
        "    preds.append(predict_single_doc(doc, vectorizer, log_prob_token_count_per_class, log_prob_class))\n",
        "    if i % 500 == 0:\n",
        "        print(\"Done\", i)"
      ]
    },
    {
      "cell_type": "code",
      "execution_count": 45,
      "id": "12af8591-4c58-40dc-81bc-f636f05f61c2",
      "metadata": {
        "colab": {
          "base_uri": "https://localhost:8080/"
        },
        "id": "12af8591-4c58-40dc-81bc-f636f05f61c2",
        "outputId": "9dc39d6a-86cc-4dd5-836a-9cad2379767e"
      },
      "outputs": [
        {
          "name": "stdout",
          "output_type": "stream",
          "text": [
            "              precision    recall  f1-score   support\n",
            "\n",
            "           0       0.63      0.66      0.64       405\n",
            "           1       0.49      0.49      0.49       403\n",
            "           2       0.49      0.47      0.48       407\n",
            "           3       0.51      0.53      0.51       377\n",
            "           4       0.68      0.65      0.67       408\n",
            "\n",
            "    accuracy                           0.56      2000\n",
            "   macro avg       0.56      0.56      0.56      2000\n",
            "weighted avg       0.56      0.56      0.56      2000\n",
            "\n"
          ]
        }
      ],
      "source": [
        "print(classification_report(test_labels, preds))"
      ]
    },
    {
      "cell_type": "markdown",
      "id": "pb55TMAAE6hc",
      "metadata": {
        "id": "pb55TMAAE6hc"
      },
      "source": [
        "# Results and Performance Analysis\n",
        "\n",
        "## Runtime Performance\n",
        "The Naive Bayes implementation from scratch was tested on the Yelp review dataset, and the following times were recorded:\n",
        "- **Training Time:** 0.452 seconds\n",
        "- **Inference Time (for a single document):** 0.0017 seconds\n",
        "\n",
        "These results demonstrate that the training process is reasonably fast, and inference is highly efficient, making this implementation suitable for large-scale datasets.\n",
        "\n",
        "## Classification Performance\n",
        "The model's performance on the Yelp review dataset (with 5 classes) is summarized in the table below:\n",
        "\n",
        "| Class | Precision | Recall | F1-Score | Support |\n",
        "|-------|-----------|---------|----------|---------|\n",
        "| 0     | 0.63      | 0.66    | 0.64     | 4051    |\n",
        "| 1     | 0.49      | 0.49    | 0.49     | 4032    |\n",
        "| 2     | 0.49      | 0.47    | 0.48     | 4073    |\n",
        "| 3     | 0.51      | 0.53    | 0.51     | 3774    |\n",
        "| 4     | 0.68      | 0.65    | 0.67     | 408     |\n",
        "\n",
        "- **Overall Accuracy:** 56%\n",
        "- **Macro Average:** Precision: 0.56, Recall: 0.56, F1-Score: 0.56\n",
        "- **Weighted Average:** Precision: 0.56, Recall: 0.56, F1-Score: 0.56\n",
        "\n",
        "## Things helpful in optimizing the code -\n",
        "\n",
        "- **Used csr_matrix for sparse data:** Efficient memory usage and faster matrix operations, especially for high-dimensional text data.\n",
        "- **Class-wise token count calculation:** Processed only relevant class documents in each iteration, reducing unnecessary computations.\n",
        "- **Vectorized operations:** Replaced loops with NumPy vectorized functions for calculating log-probabilities, speeding up calculations.\n",
        "- **Pre-allocated arrays for log probabilities:** Used pre-allocated NumPy arrays instead of dictionaries for faster access and lower memory overhead.\n",
        "- **Efficient Laplace smoothing:** Applied smoothing directly during token count summation to avoid zero probabilities with minimal overhead.\n",
        "- **Optimized inference:** Calculated log-probabilities only for tokens present in the document, reducing redundant calculations.\n"
      ]
    }
  ],
  "metadata": {
    "colab": {
      "provenance": []
    },
    "kernelspec": {
      "display_name": "Python 3",
      "name": "python3"
    },
    "language_info": {
      "codemirror_mode": {
        "name": "ipython",
        "version": 3
      },
      "file_extension": ".py",
      "mimetype": "text/x-python",
      "name": "python",
      "nbconvert_exporter": "python",
      "pygments_lexer": "ipython3",
      "version": "3.12.4"
    }
  },
  "nbformat": 4,
  "nbformat_minor": 5
}
