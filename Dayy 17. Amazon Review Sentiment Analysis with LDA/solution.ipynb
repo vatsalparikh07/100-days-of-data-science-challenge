{
  "cells": [
    {
      "cell_type": "code",
      "execution_count": 2,
      "metadata": {
        "id": "qRQMRT-MtVsS"
      },
      "outputs": [],
      "source": [
        "# Importing required libraries\n",
        "\n",
        "from sklearn.feature_extraction.text import TfidfVectorizer, CountVectorizer\n",
        "from sklearn.decomposition import LatentDirichletAllocation\n",
        "import string\n",
        "import random\n",
        "import nltk\n",
        "from nltk.corpus import stopwords\n",
        "import re\n",
        "import pandas as pd\n",
        "from sklearn.metrics.pairwise import cosine_similarity\n",
        "import numpy as np"
      ]
    },
    {
      "cell_type": "markdown",
      "metadata": {
        "id": "Qui-0Dk03FGt"
      },
      "source": [
        "## 1. LDA"
      ]
    },
    {
      "cell_type": "markdown",
      "metadata": {
        "id": "Wp6hBGXR3I1R"
      },
      "source": [
        "### 1.1 Clean the data to remove stop-words, punctuation, and emoticons.\n"
      ]
    },
    {
      "cell_type": "code",
      "execution_count": 3,
      "metadata": {
        "colab": {
          "base_uri": "https://localhost:8080/"
        },
        "id": "FgXMVOpC2_3t",
        "outputId": "bebfbe06-92ba-4b7b-c894-f148dbb72ba1"
      },
      "outputs": [
        {
          "name": "stdout",
          "output_type": "stream",
          "text": [
            "                                               reviews sentiment\n",
            "0    So there is no way for me to plug it in here i...       neg\n",
            "1                        Good case, Excellent value.\\t       pos\n",
            "2                             Great for the jawbone.\\t       pos\n",
            "3    Tied to charger for conversations lasting more...       neg\n",
            "4                                  The mic is great.\\t       pos\n",
            "..                                                 ...       ...\n",
            "995  The screen does get smudged easily because it ...       neg\n",
            "996  What a piece of junk.. I lose more calls on th...       neg\n",
            "997                     Item Does Not Match Picture.\\t       neg\n",
            "998  The only thing that disappoint me is the infra...       neg\n",
            "999  You can not answer calls with the unit, never ...       neg\n",
            "\n",
            "[1000 rows x 2 columns]\n"
          ]
        }
      ],
      "source": [
        "# Opening the file\n",
        "f = open(\"amazon_cells_labelled.txt\", \"r\")\n",
        "\n",
        "data =[]\n",
        "# Converting it to pandas dataframe\n",
        "for line in f:\n",
        "    review = line[:len(line) - 2]\n",
        "    sentiment = \"neg\" if line[len(line)-2] == \"0\" else \"pos\"\n",
        "    row = [review, sentiment]\n",
        "    data.append(row)\n",
        "\n",
        "df = pd.DataFrame(data, columns = ['reviews', 'sentiment'])\n",
        "# The below pandas dataframe has reviews and sentiment\n",
        "print(df)"
      ]
    },
    {
      "cell_type": "code",
      "execution_count": 4,
      "metadata": {
        "colab": {
          "base_uri": "https://localhost:8080/",
          "height": 242
        },
        "id": "9kE4q1Pf3Qgr",
        "outputId": "05524fbf-f58f-4045-c742-702c6f6260aa"
      },
      "outputs": [
        {
          "name": "stderr",
          "output_type": "stream",
          "text": [
            "[nltk_data] Downloading package stopwords to /root/nltk_data...\n",
            "[nltk_data]   Unzipping corpora/stopwords.zip.\n"
          ]
        },
        {
          "data": {
            "application/vnd.google.colaboratory.intrinsic+json": {
              "summary": "{\n  \"name\": \"df\",\n  \"rows\": 1000,\n  \"fields\": [\n    {\n      \"column\": \"reviews\",\n      \"properties\": {\n        \"dtype\": \"string\",\n        \"num_unique_values\": 965,\n        \"samples\": [\n          \"happy far\",\n          \"uncomfortable ear dont use lg vx9900 env\",\n          \"one thing hate mode set button side\"\n        ],\n        \"semantic_type\": \"\",\n        \"description\": \"\"\n      }\n    },\n    {\n      \"column\": \"sentiment\",\n      \"properties\": {\n        \"dtype\": \"category\",\n        \"num_unique_values\": 2,\n        \"samples\": [\n          \"pos\",\n          \"neg\"\n        ],\n        \"semantic_type\": \"\",\n        \"description\": \"\"\n      }\n    }\n  ]\n}",
              "type": "dataframe",
              "variable_name": "df"
            },
            "text/html": [
              "\n",
              "  <div id=\"df-8a73bdfa-63dd-46a4-96dd-673ed683d979\" class=\"colab-df-container\">\n",
              "    <div>\n",
              "<style scoped>\n",
              "    .dataframe tbody tr th:only-of-type {\n",
              "        vertical-align: middle;\n",
              "    }\n",
              "\n",
              "    .dataframe tbody tr th {\n",
              "        vertical-align: top;\n",
              "    }\n",
              "\n",
              "    .dataframe thead th {\n",
              "        text-align: right;\n",
              "    }\n",
              "</style>\n",
              "<table border=\"1\" class=\"dataframe\">\n",
              "  <thead>\n",
              "    <tr style=\"text-align: right;\">\n",
              "      <th></th>\n",
              "      <th>reviews</th>\n",
              "      <th>sentiment</th>\n",
              "    </tr>\n",
              "  </thead>\n",
              "  <tbody>\n",
              "    <tr>\n",
              "      <th>0</th>\n",
              "      <td>way plug us unless go converter</td>\n",
              "      <td>neg</td>\n",
              "    </tr>\n",
              "    <tr>\n",
              "      <th>1</th>\n",
              "      <td>good case excellent value</td>\n",
              "      <td>pos</td>\n",
              "    </tr>\n",
              "    <tr>\n",
              "      <th>2</th>\n",
              "      <td>great jawbone</td>\n",
              "      <td>pos</td>\n",
              "    </tr>\n",
              "    <tr>\n",
              "      <th>3</th>\n",
              "      <td>tied charger conversations lasting 45 minutesm...</td>\n",
              "      <td>neg</td>\n",
              "    </tr>\n",
              "    <tr>\n",
              "      <th>4</th>\n",
              "      <td>mic great</td>\n",
              "      <td>pos</td>\n",
              "    </tr>\n",
              "  </tbody>\n",
              "</table>\n",
              "</div>\n",
              "    <div class=\"colab-df-buttons\">\n",
              "\n",
              "  <div class=\"colab-df-container\">\n",
              "    <button class=\"colab-df-convert\" onclick=\"convertToInteractive('df-8a73bdfa-63dd-46a4-96dd-673ed683d979')\"\n",
              "            title=\"Convert this dataframe to an interactive table.\"\n",
              "            style=\"display:none;\">\n",
              "\n",
              "  <svg xmlns=\"http://www.w3.org/2000/svg\" height=\"24px\" viewBox=\"0 -960 960 960\">\n",
              "    <path d=\"M120-120v-720h720v720H120Zm60-500h600v-160H180v160Zm220 220h160v-160H400v160Zm0 220h160v-160H400v160ZM180-400h160v-160H180v160Zm440 0h160v-160H620v160ZM180-180h160v-160H180v160Zm440 0h160v-160H620v160Z\"/>\n",
              "  </svg>\n",
              "    </button>\n",
              "\n",
              "  <style>\n",
              "    .colab-df-container {\n",
              "      display:flex;\n",
              "      gap: 12px;\n",
              "    }\n",
              "\n",
              "    .colab-df-convert {\n",
              "      background-color: #E8F0FE;\n",
              "      border: none;\n",
              "      border-radius: 50%;\n",
              "      cursor: pointer;\n",
              "      display: none;\n",
              "      fill: #1967D2;\n",
              "      height: 32px;\n",
              "      padding: 0 0 0 0;\n",
              "      width: 32px;\n",
              "    }\n",
              "\n",
              "    .colab-df-convert:hover {\n",
              "      background-color: #E2EBFA;\n",
              "      box-shadow: 0px 1px 2px rgba(60, 64, 67, 0.3), 0px 1px 3px 1px rgba(60, 64, 67, 0.15);\n",
              "      fill: #174EA6;\n",
              "    }\n",
              "\n",
              "    .colab-df-buttons div {\n",
              "      margin-bottom: 4px;\n",
              "    }\n",
              "\n",
              "    [theme=dark] .colab-df-convert {\n",
              "      background-color: #3B4455;\n",
              "      fill: #D2E3FC;\n",
              "    }\n",
              "\n",
              "    [theme=dark] .colab-df-convert:hover {\n",
              "      background-color: #434B5C;\n",
              "      box-shadow: 0px 1px 3px 1px rgba(0, 0, 0, 0.15);\n",
              "      filter: drop-shadow(0px 1px 2px rgba(0, 0, 0, 0.3));\n",
              "      fill: #FFFFFF;\n",
              "    }\n",
              "  </style>\n",
              "\n",
              "    <script>\n",
              "      const buttonEl =\n",
              "        document.querySelector('#df-8a73bdfa-63dd-46a4-96dd-673ed683d979 button.colab-df-convert');\n",
              "      buttonEl.style.display =\n",
              "        google.colab.kernel.accessAllowed ? 'block' : 'none';\n",
              "\n",
              "      async function convertToInteractive(key) {\n",
              "        const element = document.querySelector('#df-8a73bdfa-63dd-46a4-96dd-673ed683d979');\n",
              "        const dataTable =\n",
              "          await google.colab.kernel.invokeFunction('convertToInteractive',\n",
              "                                                    [key], {});\n",
              "        if (!dataTable) return;\n",
              "\n",
              "        const docLinkHtml = 'Like what you see? Visit the ' +\n",
              "          '<a target=\"_blank\" href=https://colab.research.google.com/notebooks/data_table.ipynb>data table notebook</a>'\n",
              "          + ' to learn more about interactive tables.';\n",
              "        element.innerHTML = '';\n",
              "        dataTable['output_type'] = 'display_data';\n",
              "        await google.colab.output.renderOutput(dataTable, element);\n",
              "        const docLink = document.createElement('div');\n",
              "        docLink.innerHTML = docLinkHtml;\n",
              "        element.appendChild(docLink);\n",
              "      }\n",
              "    </script>\n",
              "  </div>\n",
              "\n",
              "\n",
              "<div id=\"df-51304057-6594-4b82-9a24-62475d696f90\">\n",
              "  <button class=\"colab-df-quickchart\" onclick=\"quickchart('df-51304057-6594-4b82-9a24-62475d696f90')\"\n",
              "            title=\"Suggest charts\"\n",
              "            style=\"display:none;\">\n",
              "\n",
              "<svg xmlns=\"http://www.w3.org/2000/svg\" height=\"24px\"viewBox=\"0 0 24 24\"\n",
              "     width=\"24px\">\n",
              "    <g>\n",
              "        <path d=\"M19 3H5c-1.1 0-2 .9-2 2v14c0 1.1.9 2 2 2h14c1.1 0 2-.9 2-2V5c0-1.1-.9-2-2-2zM9 17H7v-7h2v7zm4 0h-2V7h2v10zm4 0h-2v-4h2v4z\"/>\n",
              "    </g>\n",
              "</svg>\n",
              "  </button>\n",
              "\n",
              "<style>\n",
              "  .colab-df-quickchart {\n",
              "      --bg-color: #E8F0FE;\n",
              "      --fill-color: #1967D2;\n",
              "      --hover-bg-color: #E2EBFA;\n",
              "      --hover-fill-color: #174EA6;\n",
              "      --disabled-fill-color: #AAA;\n",
              "      --disabled-bg-color: #DDD;\n",
              "  }\n",
              "\n",
              "  [theme=dark] .colab-df-quickchart {\n",
              "      --bg-color: #3B4455;\n",
              "      --fill-color: #D2E3FC;\n",
              "      --hover-bg-color: #434B5C;\n",
              "      --hover-fill-color: #FFFFFF;\n",
              "      --disabled-bg-color: #3B4455;\n",
              "      --disabled-fill-color: #666;\n",
              "  }\n",
              "\n",
              "  .colab-df-quickchart {\n",
              "    background-color: var(--bg-color);\n",
              "    border: none;\n",
              "    border-radius: 50%;\n",
              "    cursor: pointer;\n",
              "    display: none;\n",
              "    fill: var(--fill-color);\n",
              "    height: 32px;\n",
              "    padding: 0;\n",
              "    width: 32px;\n",
              "  }\n",
              "\n",
              "  .colab-df-quickchart:hover {\n",
              "    background-color: var(--hover-bg-color);\n",
              "    box-shadow: 0 1px 2px rgba(60, 64, 67, 0.3), 0 1px 3px 1px rgba(60, 64, 67, 0.15);\n",
              "    fill: var(--button-hover-fill-color);\n",
              "  }\n",
              "\n",
              "  .colab-df-quickchart-complete:disabled,\n",
              "  .colab-df-quickchart-complete:disabled:hover {\n",
              "    background-color: var(--disabled-bg-color);\n",
              "    fill: var(--disabled-fill-color);\n",
              "    box-shadow: none;\n",
              "  }\n",
              "\n",
              "  .colab-df-spinner {\n",
              "    border: 2px solid var(--fill-color);\n",
              "    border-color: transparent;\n",
              "    border-bottom-color: var(--fill-color);\n",
              "    animation:\n",
              "      spin 1s steps(1) infinite;\n",
              "  }\n",
              "\n",
              "  @keyframes spin {\n",
              "    0% {\n",
              "      border-color: transparent;\n",
              "      border-bottom-color: var(--fill-color);\n",
              "      border-left-color: var(--fill-color);\n",
              "    }\n",
              "    20% {\n",
              "      border-color: transparent;\n",
              "      border-left-color: var(--fill-color);\n",
              "      border-top-color: var(--fill-color);\n",
              "    }\n",
              "    30% {\n",
              "      border-color: transparent;\n",
              "      border-left-color: var(--fill-color);\n",
              "      border-top-color: var(--fill-color);\n",
              "      border-right-color: var(--fill-color);\n",
              "    }\n",
              "    40% {\n",
              "      border-color: transparent;\n",
              "      border-right-color: var(--fill-color);\n",
              "      border-top-color: var(--fill-color);\n",
              "    }\n",
              "    60% {\n",
              "      border-color: transparent;\n",
              "      border-right-color: var(--fill-color);\n",
              "    }\n",
              "    80% {\n",
              "      border-color: transparent;\n",
              "      border-right-color: var(--fill-color);\n",
              "      border-bottom-color: var(--fill-color);\n",
              "    }\n",
              "    90% {\n",
              "      border-color: transparent;\n",
              "      border-bottom-color: var(--fill-color);\n",
              "    }\n",
              "  }\n",
              "</style>\n",
              "\n",
              "  <script>\n",
              "    async function quickchart(key) {\n",
              "      const quickchartButtonEl =\n",
              "        document.querySelector('#' + key + ' button');\n",
              "      quickchartButtonEl.disabled = true;  // To prevent multiple clicks.\n",
              "      quickchartButtonEl.classList.add('colab-df-spinner');\n",
              "      try {\n",
              "        const charts = await google.colab.kernel.invokeFunction(\n",
              "            'suggestCharts', [key], {});\n",
              "      } catch (error) {\n",
              "        console.error('Error during call to suggestCharts:', error);\n",
              "      }\n",
              "      quickchartButtonEl.classList.remove('colab-df-spinner');\n",
              "      quickchartButtonEl.classList.add('colab-df-quickchart-complete');\n",
              "    }\n",
              "    (() => {\n",
              "      let quickchartButtonEl =\n",
              "        document.querySelector('#df-51304057-6594-4b82-9a24-62475d696f90 button');\n",
              "      quickchartButtonEl.style.display =\n",
              "        google.colab.kernel.accessAllowed ? 'block' : 'none';\n",
              "    })();\n",
              "  </script>\n",
              "</div>\n",
              "\n",
              "    </div>\n",
              "  </div>\n"
            ],
            "text/plain": [
              "                                             reviews sentiment\n",
              "0                    way plug us unless go converter       neg\n",
              "1                          good case excellent value       pos\n",
              "2                                      great jawbone       pos\n",
              "3  tied charger conversations lasting 45 minutesm...       neg\n",
              "4                                          mic great       pos"
            ]
          },
          "execution_count": 4,
          "metadata": {},
          "output_type": "execute_result"
        }
      ],
      "source": [
        "# Clean the data to remove stop-words, punctuation, and emoticons\n",
        "\n",
        "nltk.download('stopwords')\n",
        "\n",
        "stop = stopwords.words('english')\n",
        "\n",
        "def remove_punctuation(text):\n",
        "    translator = str.maketrans('','', string.punctuation)\n",
        "    return text.translate(translator)\n",
        "\n",
        "def remove_stopwords(text):\n",
        "    text = [word.lower() for word in text.split() if word.lower() not in stop]\n",
        "    return \" \".join(text)\n",
        "\n",
        "df['reviews'] = df['reviews'].apply(remove_punctuation).apply(remove_stopwords)\n",
        "df.head()"
      ]
    },
    {
      "cell_type": "markdown",
      "metadata": {
        "id": "WrR6_WQw3xsc"
      },
      "source": [
        "### 1.2 Apply LDA and print out 10 topics."
      ]
    },
    {
      "cell_type": "code",
      "execution_count": 5,
      "metadata": {
        "id": "9P2W_SU53vOA"
      },
      "outputs": [],
      "source": [
        "vect = CountVectorizer(max_features = 5000, max_df=.15)\n",
        "X = vect.fit_transform(df['reviews'])"
      ]
    },
    {
      "cell_type": "code",
      "execution_count": 6,
      "metadata": {
        "colab": {
          "base_uri": "https://localhost:8080/"
        },
        "id": "2wvlVnZQ4CeO",
        "outputId": "1b7c124f-d10a-4f25-be75-31da85351dce"
      },
      "outputs": [
        {
          "name": "stdout",
          "output_type": "stream",
          "text": [
            "(10, 1788)\n"
          ]
        },
        {
          "data": {
            "text/plain": [
              "array([[0.87141694, 0.0142878 , 0.01428764, ..., 0.01428817, 0.01428655,\n",
              "        0.01428601],\n",
              "       [0.02000096, 0.0200025 , 0.02000158, ..., 0.02000055, 0.02000212,\n",
              "        0.81998241],\n",
              "       [0.03334133, 0.03333333, 0.03333919, ..., 0.03333333, 0.03333333,\n",
              "        0.29768756],\n",
              "       ...,\n",
              "       [0.02500393, 0.02500102, 0.025     , ..., 0.02500125, 0.025001  ,\n",
              "        0.025005  ],\n",
              "       [0.01428746, 0.01428571, 0.01428599, ..., 0.01428603, 0.01428745,\n",
              "        0.87142414],\n",
              "       [0.21770012, 0.01666792, 0.01666897, ..., 0.01666814, 0.01667184,\n",
              "        0.01666977]])"
            ]
          },
          "execution_count": 6,
          "metadata": {},
          "output_type": "execute_result"
        }
      ],
      "source": [
        "lda = LatentDirichletAllocation(n_components=10, learning_method=\"batch\", max_iter=25, random_state=0)\n",
        "document_topics = lda.fit_transform(X)\n",
        "print(lda.components_.shape)\n",
        "document_topics"
      ]
    },
    {
      "cell_type": "code",
      "execution_count": 7,
      "metadata": {
        "colab": {
          "base_uri": "https://localhost:8080/"
        },
        "id": "HNhwjWxq4Om2",
        "outputId": "748b682f-7f5b-4cf8-f26e-0f74a837a507"
      },
      "outputs": [
        {
          "name": "stdout",
          "output_type": "stream",
          "text": [
            "10\n",
            "[[1767  697  717 ...  668 1592 1392]\n",
            " [1469 1261 1238 ... 1072 1592 1392]\n",
            " [ 697 1667 1274 ...  515  668 1392]\n",
            " ...\n",
            " [ 461  998 1709 ... 1592 1524 1392]\n",
            " [1764  893  439 ...  515 1072 1392]\n",
            " [ 697  547 1238 ... 1592  515 1392]]\n"
          ]
        }
      ],
      "source": [
        "sorting = np.argsort(lda.components_, axis=1)[:, ::-1]\n",
        "sorting = np.argsort(lda.components_, axis=1)[:, ::-1]\n",
        "print(len(sorting))\n",
        "print(sorting)"
      ]
    },
    {
      "cell_type": "code",
      "execution_count": 8,
      "metadata": {
        "colab": {
          "base_uri": "https://localhost:8080/"
        },
        "id": "sqNhah6-Ran8",
        "outputId": "93b36f15-9e86-4b8d-eb52-a79a412b6e35"
      },
      "outputs": [
        {
          "name": "stdout",
          "output_type": "stream",
          "text": [
            "1788\n",
            "['10' '100' '11' ... 'youll' 'z500a' 'zero']\n"
          ]
        }
      ],
      "source": [
        "feature_names = np.array(vect.get_feature_names_out())\n",
        "print(len(feature_names))\n",
        "print(feature_names)"
      ]
    },
    {
      "cell_type": "code",
      "execution_count": 9,
      "metadata": {
        "colab": {
          "base_uri": "https://localhost:8080/"
        },
        "id": "PBY6nW8WRffK",
        "outputId": "b9aa1464-f5c7-4bd8-b99b-7dddfed5fc7d"
      },
      "outputs": [
        {
          "name": "stdout",
          "output_type": "stream",
          "text": [
            "range(0, 5)\n",
            "0 1 2 3 4\n",
            "5\n",
            "topic 0       topic 1       topic 2       topic 3       topic 4       \n",
            "--------      --------      --------      --------      --------      \n",
            "works         sound         great         recommend     battery       \n",
            "great         really        use           would         good          \n",
            "happy         quality       reception     service       horrible      \n",
            "easy          good          make          customer      software      \n",
            "battery       headset       car           one           life          \n",
            "junk          product       like          highly        also          \n",
            "use           bad           new           ear           product       \n",
            "piece         well          working       right         cell          \n",
            "cheap         bluetooth     product       stay          never         \n",
            "item          service       light         terrible      nice          \n",
            "\n",
            "\n",
            "range(5, 10)\n",
            "5 6 7 8 9\n",
            "5\n",
            "topic 5       topic 6       topic 7       topic 8       topic 9       \n",
            "--------      --------      --------      --------      --------      \n",
            "use           ive           dont          work          great         \n",
            "design        best          money         like          excellent     \n",
            "good          ever          waste         disappointed  quality       \n",
            "think         ear           buy           charger       price         \n",
            "money         one           product       well          good          \n",
            "work          worst         everything    time          love          \n",
            "case          bought        good          worked        product       \n",
            "awesome       long          within        im            headset       \n",
            "problems      purchase      broke         new           poor          \n",
            "volume        well          one           motorola      sound         \n",
            "\n",
            "\n"
          ]
        }
      ],
      "source": [
        "def print_topics(topics, feature_names, sorting, topics_per_chunk, n_words):\n",
        "    for i in range(0, len(topics), topics_per_chunk):\n",
        "        # for each chunk:\n",
        "        these_topics = topics[i: i + topics_per_chunk]\n",
        "        # maybe we have less than topics_per_chunk left\n",
        "        len_this_chunk = len(these_topics)\n",
        "        print(these_topics)\n",
        "        print(*these_topics)\n",
        "        print(len_this_chunk)\n",
        "        # print topic headers\n",
        "        print((\"topic {:<8}\" * len_this_chunk).format(*these_topics))\n",
        "        print((\"-------- {0:<5}\" * len_this_chunk).format(\"\"))\n",
        "        # print top n_words frequent words\n",
        "        for i in range(n_words):\n",
        "            try:\n",
        "                print((\"{:<14}\" * len_this_chunk).format(*feature_names[sorting[these_topics, i]]))\n",
        "            except:\n",
        "                pass\n",
        "        print(\"\\n\")\n",
        "\n",
        "print_topics(topics=range(10), feature_names=feature_names, sorting=sorting, topics_per_chunk=5, n_words=10)"
      ]
    },
    {
      "cell_type": "markdown",
      "metadata": {
        "id": "LLI8nLmQ6DVq"
      },
      "source": [
        "## 2. Chatbot"
      ]
    },
    {
      "cell_type": "markdown",
      "metadata": {
        "id": "G2gmcLZy6GHU"
      },
      "source": [
        "### 2.1 Clean the data as you did for LDA"
      ]
    },
    {
      "cell_type": "code",
      "execution_count": 10,
      "metadata": {
        "colab": {
          "base_uri": "https://localhost:8080/"
        },
        "id": "dPh7ks6_e59h",
        "outputId": "18bb03c8-410c-42b7-981d-5f77439dc797"
      },
      "outputs": [
        {
          "name": "stderr",
          "output_type": "stream",
          "text": [
            "[nltk_data] Downloading package punkt to /root/nltk_data...\n",
            "[nltk_data]   Unzipping tokenizers/punkt.zip.\n",
            "[nltk_data] Downloading package wordnet to /root/nltk_data...\n"
          ]
        },
        {
          "data": {
            "text/plain": [
              "True"
            ]
          },
          "execution_count": 10,
          "metadata": {},
          "output_type": "execute_result"
        }
      ],
      "source": [
        "nltk.download('punkt') # first-time use only\n",
        "nltk.download('wordnet') # first-time use only"
      ]
    },
    {
      "cell_type": "code",
      "execution_count": 31,
      "metadata": {
        "id": "FSHckpQ1exDT"
      },
      "outputs": [],
      "source": [
        "# The chatbot needs to be based on the 'reviews' dataset above.\n",
        "# Combine the 3 datasets into one and then build the chatbot as mentioned in the module.\n",
        "\n",
        "datasets = [\"amazon_cells_labelled.txt\", \"imdb_labelled.txt\", \"yelp_labelled.txt\"]\n",
        "data = []\n",
        "\n",
        "for dataset_file in datasets:\n",
        "    with open(dataset_file, \"r\") as f:\n",
        "        for line in f:\n",
        "            review = line[:len(line) - 2]\n",
        "            sentiment = \"neg\" if line[len(line)-2] == \"0\" else \"pos\"\n",
        "            row = [review, sentiment]\n",
        "            data.append(row)\n",
        "\n",
        "# Converting data to pandas dataframe\n",
        "df = pd.DataFrame(data, columns=['reviews', 'sentiment'])"
      ]
    },
    {
      "cell_type": "code",
      "execution_count": 57,
      "metadata": {
        "id": "dR6f0IEEKizR"
      },
      "outputs": [],
      "source": [
        "stop = stopwords.words('english')\n",
        "\n",
        "def LemTokens(tokens):\n",
        "    lemmer = nltk.stem.WordNetLemmatizer()\n",
        "    return [lemmer.lemmatize(token) for token in tokens]\n",
        "\n",
        "def LemNormalize(text):\n",
        "    remove_punct_dict = dict((ord(punct), None) for punct in string.punctuation)\n",
        "    return LemTokens(nltk.word_tokenize(text.lower().translate(remove_punct_dict)))\n",
        "\n",
        "df['reviews'] = df['reviews'].apply(remove_punctuation).apply(remove_stopwords)\n",
        "\n",
        "# Combine all the reviews into a single string\n",
        "reviews = \" \".join(df[\"reviews\"])\n",
        "\n",
        "sent_tokens = nltk.sent_tokenize(reviews)  # converts to list of sentences\n",
        "word_tokens = nltk.word_tokenize(reviews)  # converts to list of words"
      ]
    },
    {
      "cell_type": "code",
      "execution_count": 55,
      "metadata": {
        "id": "AFAmnQgifNlT"
      },
      "outputs": [],
      "source": [
        "# Define TF-IDF vectorizer\n",
        "tfidfvec = TfidfVectorizer(tokenizer=LemNormalize, stop_words='english')\n",
        "\n",
        "# Train TF-IDF vectorizer\n",
        "tfidf = tfidfvec.fit_transform(sent_tokens)\n",
        "\n",
        "# Define response function\n",
        "def response(user_response):\n",
        "    robo_response = ''\n",
        "    sent_tokens.append(user_response)\n",
        "    tfidf = tfidfvec.fit_transform(sent_tokens)\n",
        "    vals = cosine_similarity(tfidf[-1], tfidf)\n",
        "    idx = vals.argsort()[0][-2]\n",
        "    flat = vals.flatten()\n",
        "    flat.sort()\n",
        "    similarity = flat[-2]\n",
        "    if similarity == 0:\n",
        "        robo_response = robo_response + \"I am sorry! I don't understand you.\"\n",
        "        return robo_response\n",
        "    else:\n",
        "        robo_response = robo_response + sent_tokens[idx]\n",
        "        return robo_response"
      ]
    },
    {
      "cell_type": "markdown",
      "metadata": {
        "id": "BFGz_uVJSvuE"
      },
      "source": [
        "### 2.2 Build a chatbot based on the reviews\n"
      ]
    },
    {
      "cell_type": "code",
      "execution_count": 56,
      "metadata": {
        "colab": {
          "base_uri": "https://localhost:8080/"
        },
        "id": "WUOs_tLsfb_O",
        "outputId": "3582197e-bf1d-4664-b916-1d2ffff0900b"
      },
      "outputs": [
        {
          "name": "stdout",
          "output_type": "stream",
          "text": [
            "ROBO: My name is Robo. I will answer your queries about reviews. Just type one word, and I will display its reviews. If you want to exit, type 'bye'!\n",
            "You: greetings\n",
            "ROBO: I am glad! You are talking to me\n",
            "You: keyboard\n",
            "ROBO: keyboard really worthwhile usefulness sturdy enough dont expect problems\n",
            "You: burger\n",
            "ROBO: great place relax awesome burger beer\n",
            "You: pizza\n",
            "ROBO: ordered appetizer took 40 minutes pizza another 10 minutes\n",
            "You: Mickey\n",
            "ROBO: dont yet hear mickey speak tons sound effects music throughout filmsomething take granted huge crowd pleaser 1928\n",
            "You: Vatsal\n",
            "ROBO: I am sorry! I don't understand you.\n",
            "You: bye\n",
            "ROBO: Goodbye! Have a great day!\n"
          ]
        }
      ],
      "source": [
        "# Define chatbot function\n",
        "def chatbot(user_input):\n",
        "    user_input = user_input.lower()\n",
        "    if user_input != 'bye':\n",
        "        if user_input in reviews.lower():\n",
        "            # If user input matches any review, return the review\n",
        "            matching_reviews = [review for review in df['reviews'] if user_input in review.lower()]\n",
        "            return random.choice(matching_reviews)\n",
        "        else:\n",
        "            if greeting(user_input) is not None:\n",
        "                return greeting(user_input)\n",
        "            else:\n",
        "                return response(user_input)\n",
        "    else:\n",
        "        return \"Goodbye! Have a great day!\"\n",
        "\n",
        "# Define greeting inputs and responses\n",
        "GREETING_INPUTS = (\"hello\", \"hi\", \"greetings\", \"sup\", \"what's up\", \"hey\")\n",
        "GREETING_RESPONSES = [\"hi\", \"hey\", \"*nods*\", \"hi there\", \"hello\", \"I am glad! You are talking to me\"]\n",
        "\n",
        "def greeting(sentence):\n",
        "    for word in sentence.split():\n",
        "        if word.lower() in GREETING_INPUTS:\n",
        "            return random.choice(GREETING_RESPONSES)\n",
        "\n",
        "# Interact with the chatbot\n",
        "print(\"ROBO: My name is Robo. I will answer your queries about reviews. Just type one word, and I will display its reviews. If you want to exit, type 'bye'!\")\n",
        "while True:\n",
        "    user_response = input(\"You: \")\n",
        "    print(\"ROBO:\", chatbot(user_response))\n",
        "    if user_response.lower() == 'bye':\n",
        "        break"
      ]
    }
  ],
  "metadata": {
    "colab": {
      "provenance": []
    },
    "kernelspec": {
      "display_name": "Python 3",
      "name": "python3"
    },
    "language_info": {
      "name": "python"
    }
  },
  "nbformat": 4,
  "nbformat_minor": 0
}
